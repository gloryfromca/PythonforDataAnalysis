{
 "cells": [
  {
   "cell_type": "code",
   "execution_count": 1,
   "metadata": {
    "collapsed": true
   },
   "outputs": [],
   "source": [
    "import numpy as np\n",
    "import pandas as pd\n",
    "from numpy.random import randn\n",
    "from numpy.linalg import inv,qr, eig ,det ,svd\n",
    "\n",
    "import matplotlib.pyplot as plt\n",
    "import random"
   ]
  },
  {
   "cell_type": "markdown",
   "metadata": {},
   "source": [
    "## apply应用于Dataframe"
   ]
  },
  {
   "cell_type": "code",
   "execution_count": 5,
   "metadata": {
    "collapsed": false
   },
   "outputs": [],
   "source": [
    "s1 = pd.DataFrame(randn(3,4))"
   ]
  },
  {
   "cell_type": "code",
   "execution_count": 7,
   "metadata": {
    "collapsed": false
   },
   "outputs": [
    {
     "data": {
      "text/html": [
       "<div>\n",
       "<table border=\"1\" class=\"dataframe\">\n",
       "  <thead>\n",
       "    <tr style=\"text-align: right;\">\n",
       "      <th></th>\n",
       "      <th>0</th>\n",
       "      <th>1</th>\n",
       "      <th>2</th>\n",
       "      <th>3</th>\n",
       "    </tr>\n",
       "  </thead>\n",
       "  <tbody>\n",
       "    <tr>\n",
       "      <th>0</th>\n",
       "      <td>1.401331</td>\n",
       "      <td>0.087433</td>\n",
       "      <td>-1.006389</td>\n",
       "      <td>0.038830</td>\n",
       "    </tr>\n",
       "    <tr>\n",
       "      <th>1</th>\n",
       "      <td>0.281475</td>\n",
       "      <td>1.319547</td>\n",
       "      <td>-0.925834</td>\n",
       "      <td>1.117157</td>\n",
       "    </tr>\n",
       "    <tr>\n",
       "      <th>2</th>\n",
       "      <td>1.165765</td>\n",
       "      <td>1.857282</td>\n",
       "      <td>-0.059233</td>\n",
       "      <td>0.820818</td>\n",
       "    </tr>\n",
       "  </tbody>\n",
       "</table>\n",
       "</div>"
      ],
      "text/plain": [
       "          0         1         2         3\n",
       "0  1.401331  0.087433 -1.006389  0.038830\n",
       "1  0.281475  1.319547 -0.925834  1.117157\n",
       "2  1.165765  1.857282 -0.059233  0.820818"
      ]
     },
     "execution_count": 7,
     "metadata": {},
     "output_type": "execute_result"
    }
   ],
   "source": [
    "s1"
   ]
  },
  {
   "cell_type": "code",
   "execution_count": 6,
   "metadata": {
    "collapsed": false
   },
   "outputs": [
    {
     "data": {
      "text/html": [
       "<div>\n",
       "<table border=\"1\" class=\"dataframe\">\n",
       "  <thead>\n",
       "    <tr style=\"text-align: right;\">\n",
       "      <th></th>\n",
       "      <th>0</th>\n",
       "      <th>1</th>\n",
       "      <th>2</th>\n",
       "      <th>3</th>\n",
       "    </tr>\n",
       "  </thead>\n",
       "  <tbody>\n",
       "    <tr>\n",
       "      <th>0</th>\n",
       "      <td>-1.401331</td>\n",
       "      <td>-0.087433</td>\n",
       "      <td>1.006389</td>\n",
       "      <td>-0.038830</td>\n",
       "    </tr>\n",
       "    <tr>\n",
       "      <th>1</th>\n",
       "      <td>-0.281475</td>\n",
       "      <td>-1.319547</td>\n",
       "      <td>0.925834</td>\n",
       "      <td>-1.117157</td>\n",
       "    </tr>\n",
       "    <tr>\n",
       "      <th>2</th>\n",
       "      <td>-1.165765</td>\n",
       "      <td>-1.857282</td>\n",
       "      <td>0.059233</td>\n",
       "      <td>-0.820818</td>\n",
       "    </tr>\n",
       "  </tbody>\n",
       "</table>\n",
       "</div>"
      ],
      "text/plain": [
       "          0         1         2         3\n",
       "0 -1.401331 -0.087433  1.006389 -0.038830\n",
       "1 -0.281475 -1.319547  0.925834 -1.117157\n",
       "2 -1.165765 -1.857282  0.059233 -0.820818"
      ]
     },
     "execution_count": 6,
     "metadata": {},
     "output_type": "execute_result"
    }
   ],
   "source": [
    "s1.apply(lambda x:-x)"
   ]
  },
  {
   "cell_type": "code",
   "execution_count": 9,
   "metadata": {
    "collapsed": false
   },
   "outputs": [
    {
     "data": {
      "text/html": [
       "<div>\n",
       "<table border=\"1\" class=\"dataframe\">\n",
       "  <thead>\n",
       "    <tr style=\"text-align: right;\">\n",
       "      <th></th>\n",
       "      <th>0</th>\n",
       "      <th>1</th>\n",
       "      <th>2</th>\n",
       "      <th>3</th>\n",
       "    </tr>\n",
       "  </thead>\n",
       "  <tbody>\n",
       "    <tr>\n",
       "      <th>0</th>\n",
       "      <td>-1.401331</td>\n",
       "      <td>-0.087433</td>\n",
       "      <td>1.006389</td>\n",
       "      <td>NaN</td>\n",
       "    </tr>\n",
       "    <tr>\n",
       "      <th>1</th>\n",
       "      <td>-0.281475</td>\n",
       "      <td>-1.319547</td>\n",
       "      <td>0.925834</td>\n",
       "      <td>NaN</td>\n",
       "    </tr>\n",
       "    <tr>\n",
       "      <th>2</th>\n",
       "      <td>-1.165765</td>\n",
       "      <td>-1.857282</td>\n",
       "      <td>0.059233</td>\n",
       "      <td>NaN</td>\n",
       "    </tr>\n",
       "  </tbody>\n",
       "</table>\n",
       "</div>"
      ],
      "text/plain": [
       "          0         1         2   3\n",
       "0 -1.401331 -0.087433  1.006389 NaN\n",
       "1 -0.281475 -1.319547  0.925834 NaN\n",
       "2 -1.165765 -1.857282  0.059233 NaN"
      ]
     },
     "execution_count": 9,
     "metadata": {},
     "output_type": "execute_result"
    }
   ],
   "source": [
    "s1.groupby(1,axis=1).apply(lambda x:-x)"
   ]
  },
  {
   "cell_type": "code",
   "execution_count": 11,
   "metadata": {
    "collapsed": false
   },
   "outputs": [
    {
     "data": {
      "text/html": [
       "<div>\n",
       "<table border=\"1\" class=\"dataframe\">\n",
       "  <thead>\n",
       "    <tr style=\"text-align: right;\">\n",
       "      <th></th>\n",
       "      <th>0</th>\n",
       "      <th>1</th>\n",
       "      <th>2</th>\n",
       "      <th>3</th>\n",
       "    </tr>\n",
       "    <tr>\n",
       "      <th>1</th>\n",
       "      <th></th>\n",
       "      <th></th>\n",
       "      <th></th>\n",
       "      <th></th>\n",
       "    </tr>\n",
       "  </thead>\n",
       "  <tbody>\n",
       "    <tr>\n",
       "      <th>0.087433</th>\n",
       "      <td>1.401331</td>\n",
       "      <td>0.087433</td>\n",
       "      <td>-1.006389</td>\n",
       "      <td>0.038830</td>\n",
       "    </tr>\n",
       "    <tr>\n",
       "      <th>1.319547</th>\n",
       "      <td>0.281475</td>\n",
       "      <td>1.319547</td>\n",
       "      <td>-0.925834</td>\n",
       "      <td>1.117157</td>\n",
       "    </tr>\n",
       "    <tr>\n",
       "      <th>1.857282</th>\n",
       "      <td>1.165765</td>\n",
       "      <td>1.857282</td>\n",
       "      <td>-0.059233</td>\n",
       "      <td>0.820818</td>\n",
       "    </tr>\n",
       "  </tbody>\n",
       "</table>\n",
       "</div>"
      ],
      "text/plain": [
       "                 0         1         2         3\n",
       "1                                               \n",
       "0.087433  1.401331  0.087433 -1.006389  0.038830\n",
       "1.319547  0.281475  1.319547 -0.925834  1.117157\n",
       "1.857282  1.165765  1.857282 -0.059233  0.820818"
      ]
     },
     "execution_count": 11,
     "metadata": {},
     "output_type": "execute_result"
    }
   ],
   "source": [
    "s1.groupby(1).apply(lambda x:x.sum())"
   ]
  },
  {
   "cell_type": "code",
   "execution_count": 16,
   "metadata": {
    "collapsed": false
   },
   "outputs": [
    {
     "data": {
      "text/html": [
       "<div>\n",
       "<table border=\"1\" class=\"dataframe\">\n",
       "  <thead>\n",
       "    <tr style=\"text-align: right;\">\n",
       "      <th></th>\n",
       "      <th>0</th>\n",
       "      <th>1</th>\n",
       "      <th>2</th>\n",
       "      <th>3</th>\n",
       "    </tr>\n",
       "    <tr>\n",
       "      <th>0</th>\n",
       "      <th></th>\n",
       "      <th></th>\n",
       "      <th></th>\n",
       "      <th></th>\n",
       "    </tr>\n",
       "  </thead>\n",
       "  <tbody>\n",
       "    <tr>\n",
       "      <th>0.281475</th>\n",
       "      <td>0.281475</td>\n",
       "      <td>1.319547</td>\n",
       "      <td>-0.925834</td>\n",
       "      <td>1.117157</td>\n",
       "    </tr>\n",
       "    <tr>\n",
       "      <th>1.165765</th>\n",
       "      <td>1.165765</td>\n",
       "      <td>1.857282</td>\n",
       "      <td>-0.059233</td>\n",
       "      <td>0.820818</td>\n",
       "    </tr>\n",
       "    <tr>\n",
       "      <th>1.401331</th>\n",
       "      <td>1.401331</td>\n",
       "      <td>0.087433</td>\n",
       "      <td>-1.006389</td>\n",
       "      <td>0.038830</td>\n",
       "    </tr>\n",
       "  </tbody>\n",
       "</table>\n",
       "</div>"
      ],
      "text/plain": [
       "                 0         1         2         3\n",
       "0                                               \n",
       "0.281475  0.281475  1.319547 -0.925834  1.117157\n",
       "1.165765  1.165765  1.857282 -0.059233  0.820818\n",
       "1.401331  1.401331  0.087433 -1.006389  0.038830"
      ]
     },
     "execution_count": 16,
     "metadata": {},
     "output_type": "execute_result"
    }
   ],
   "source": [
    "s1.groupby(0, axis=0).apply(lambda x:x.sum())"
   ]
  }
 ],
 "metadata": {
  "anaconda-cloud": {},
  "kernelspec": {
   "display_name": "Python [default]",
   "language": "python",
   "name": "python3"
  },
  "language_info": {
   "codemirror_mode": {
    "name": "ipython",
    "version": 3
   },
   "file_extension": ".py",
   "mimetype": "text/x-python",
   "name": "python",
   "nbconvert_exporter": "python",
   "pygments_lexer": "ipython3",
   "version": "3.5.2"
  }
 },
 "nbformat": 4,
 "nbformat_minor": 1
}

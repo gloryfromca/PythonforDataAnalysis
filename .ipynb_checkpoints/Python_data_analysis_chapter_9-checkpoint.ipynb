{
 "cells": [
  {
   "cell_type": "markdown",
   "metadata": {},
   "source": [
    "## 时间和时间处理知识"
   ]
  },
  {
   "cell_type": "code",
   "execution_count": null,
   "metadata": {
    "collapsed": true
   },
   "outputs": [],
   "source": [
    "from datetime import datetime ,timedelta , date , time"
   ]
  },
  {
   "cell_type": "code",
   "execution_count": null,
   "metadata": {
    "collapsed": true
   },
   "outputs": [],
   "source": [
    "datetime.now()"
   ]
  },
  {
   "cell_type": "code",
   "execution_count": null,
   "metadata": {
    "collapsed": true
   },
   "outputs": [],
   "source": [
    "time.strftime(time(16,12,2),'%Y%m%d')\n",
    "\n",
    "time(12,5,3)\n",
    "\n",
    "datetime(2016,12,2)\n",
    "\n",
    "date(2017,2,3)\n",
    "\n",
    "datetime()\n",
    "\n",
    "_.today()\n",
    "\n",
    "_\n",
    "\n",
    "_.date()\n",
    "\n",
    "_.day\n",
    "\n",
    "_28\n",
    "\n",
    "datetime.now() - _31\n",
    "\n",
    "_28 + timedelta(12)\n",
    "\n",
    "stamp = datetime(2012,2,3)\n",
    "\n",
    "str(_)\n",
    "\n",
    "stamp.strftime('%Y%m%d')\n",
    "\n",
    "value  = _\n",
    "\n",
    "value\n",
    "\n",
    "datetime.strptime(value,'%Y%m%d')\n",
    "\n",
    "from dateutil.parser import parse\n",
    "\n",
    "parse(value)\n",
    "\n",
    "datastrs =['20120713','20130622']\n",
    "\n",
    "pd.to_datetime(datastrs)\n",
    "\n",
    "pd.to_datetime(datastrs + [None])\n",
    "\n",
    "_[2]\n",
    "\n",
    "type(_)\n",
    "\n",
    "datetime.now()\n",
    "\n",
    "_.strftime('年:%Y月:%m日:%d小时:%H分钟:%M秒:%S')\n",
    "\n",
    "_54.strftime('%w %W%z')\n",
    "\n",
    "_54.strftime('%w %W %z')\n",
    "\n",
    "_54.strftime('%F')\n",
    "\n",
    "_54.strftime('%a %A')\n",
    "\n",
    "_54.strftime('%b %B')\n",
    "\n",
    "_54.strftime('%c')\n",
    "\n",
    "_54.strftime('%p')\n",
    "\n",
    "_54.strftime('%X %x')"
   ]
  },
  {
   "cell_type": "code",
   "execution_count": null,
   "metadata": {
    "collapsed": true
   },
   "outputs": [],
   "source": []
  }
 ],
 "metadata": {
  "kernelspec": {
   "display_name": "Python 3",
   "language": "python",
   "name": "python3"
  },
  "language_info": {
   "codemirror_mode": {
    "name": "ipython",
    "version": 3
   },
   "file_extension": ".py",
   "mimetype": "text/x-python",
   "name": "python",
   "nbconvert_exporter": "python",
   "pygments_lexer": "ipython3",
   "version": "3.5.2"
  }
 },
 "nbformat": 4,
 "nbformat_minor": 2
}

{
 "cells": [
  {
   "cell_type": "code",
   "execution_count": 4,
   "metadata": {
    "collapsed": true
   },
   "outputs": [],
   "source": [
    "import numpy as np\n",
    "from numpy import NaN as NA\n",
    "import pandas as pd\n",
    "from numpy.random import randn\n",
    "from numpy.random import rand\n",
    "from numpy.random import randint\n",
    "from numpy.linalg import inv,qr, eig ,det ,svd\n",
    "\n",
    "import matplotlib.pyplot as plt\n",
    "import random\n",
    "\n",
    "from pandas import DataFrame , Series\n",
    "from datetime import datetime "
   ]
  },
  {
   "cell_type": "code",
   "execution_count": 5,
   "metadata": {
    "collapsed": false
   },
   "outputs": [
    {
     "name": "stdout",
     "output_type": "stream",
     "text": [
      "Using matplotlib backend: TkAgg\n"
     ]
    }
   ],
   "source": [
    "%matplotlib"
   ]
  },
  {
   "cell_type": "code",
   "execution_count": 2,
   "metadata": {
    "collapsed": true
   },
   "outputs": [],
   "source": [
    "fig = plt.figure()"
   ]
  },
  {
   "cell_type": "code",
   "execution_count": 11,
   "metadata": {
    "collapsed": false
   },
   "outputs": [
    {
     "data": {
      "image/png": "[encoded data removed]",
      "text/plain": [
       "<matplotlib.figure.Figure at 0x7fb080cd0b00>"
      ]
     },
     "execution_count": 11,
     "metadata": {},
     "output_type": "execute_result"
    }
   ],
   "source": [
    "fig"
   ]
  },
  {
   "cell_type": "code",
   "execution_count": 22,
   "metadata": {
    "collapsed": true
   },
   "outputs": [],
   "source": [
    "ax1 = fig.add_subplot(2,2,1)"
   ]
  },
  {
   "cell_type": "code",
   "execution_count": 23,
   "metadata": {
    "collapsed": false
   },
   "outputs": [
    {
     "data": {
      "text/plain": [
       "<matplotlib.axes._subplots.AxesSubplot at 0x7fb080f733c8>"
      ]
     },
     "execution_count": 23,
     "metadata": {},
     "output_type": "execute_result"
    }
   ],
   "source": [
    "ax1"
   ]
  },
  {
   "cell_type": "code",
   "execution_count": 24,
   "metadata": {
    "collapsed": false
   },
   "outputs": [
    {
     "data": {
      "text/plain": [
       "[<matplotlib.lines.Line2D at 0x7fb08070e780>]"
      ]
     },
     "execution_count": 24,
     "metadata": {},
     "output_type": "execute_result"
    }
   ],
   "source": [
    "plt.plot(np.arange(10))"
   ]
  },
  {
   "cell_type": "code",
   "execution_count": 27,
   "metadata": {
    "collapsed": true
   },
   "outputs": [],
   "source": [
    "ax2 = fig.add_subplot(2,2,3)"
   ]
  },
  {
   "cell_type": "code",
   "execution_count": 17,
   "metadata": {
    "collapsed": false
   },
   "outputs": [
    {
     "data": {
      "text/plain": [
       "[<matplotlib.lines.Line2D at 0x7fb07e3965c0>]"
      ]
     },
     "execution_count": 17,
     "metadata": {},
     "output_type": "execute_result"
    }
   ],
   "source": [
    "plt.plot(randn(50).cumsum(),'k--')"
   ]
  },
  {
   "cell_type": "code",
   "execution_count": 25,
   "metadata": {
    "collapsed": false
   },
   "outputs": [
    {
     "name": "stdout",
     "output_type": "stream",
     "text": [
      "Using matplotlib backend: TkAgg\n"
     ]
    },
    {
     "data": {
      "text/plain": [
       "(array([  3.,   0.,   1.,   2.,   2.,   2.,   5.,   9.,   9.,   8.,   6.,\n",
       "         14.,  10.,   4.,   8.,   6.,   5.,   3.,   1.,   2.]),\n",
       " array([-2.79905209, -2.53553367, -2.27201525, -2.00849683, -1.74497841,\n",
       "        -1.48145999, -1.21794157, -0.95442314, -0.69090472, -0.4273863 ,\n",
       "        -0.16386788,  0.09965054,  0.36316896,  0.62668738,  0.8902058 ,\n",
       "         1.15372422,  1.41724264,  1.68076106,  1.94427948,  2.20779791,\n",
       "         2.47131633]),\n",
       " <a list of 20 Patch objects>)"
      ]
     },
     "execution_count": 25,
     "metadata": {},
     "output_type": "execute_result"
    }
   ],
   "source": [
    "%matplotlib\n",
    "ax1.hist(randn(100), bins=20, color='k', alpha=0.3)"
   ]
  },
  {
   "cell_type": "code",
   "execution_count": 28,
   "metadata": {
    "collapsed": false
   },
   "outputs": [
    {
     "data": {
      "text/plain": [
       "<matplotlib.collections.PathCollection at 0x7fb0806e3390>"
      ]
     },
     "execution_count": 28,
     "metadata": {},
     "output_type": "execute_result"
    }
   ],
   "source": [
    "ax2.scatter(np.arange(30), np.arange(30) + 3*randn(30))"
   ]
  },
  {
   "cell_type": "code",
   "execution_count": 29,
   "metadata": {
    "collapsed": false
   },
   "outputs": [
    {
     "data": {
      "image/png": "[encoded data removed]",
      "text/plain": [
       "<matplotlib.figure.Figure at 0x7fb080cd0b00>"
      ]
     },
     "execution_count": 29,
     "metadata": {},
     "output_type": "execute_result"
    }
   ],
   "source": [
    "fig"
   ]
  },
  {
   "cell_type": "code",
   "execution_count": 30,
   "metadata": {
    "collapsed": true
   },
   "outputs": [],
   "source": [
    "fig ,axes = plt.subplots(2,3)"
   ]
  },
  {
   "cell_type": "code",
   "execution_count": 31,
   "metadata": {
    "collapsed": false
   },
   "outputs": [
    {
     "data": {
      "text/plain": [
       "array([[<matplotlib.axes._subplots.AxesSubplot object at 0x7fb07e437be0>,\n",
       "        <matplotlib.axes._subplots.AxesSubplot object at 0x7fb07e408b38>,\n",
       "        <matplotlib.axes._subplots.AxesSubplot object at 0x7fb07e3d7f98>],\n",
       "       [<matplotlib.axes._subplots.AxesSubplot object at 0x7fb07e3168d0>,\n",
       "        <matplotlib.axes._subplots.AxesSubplot object at 0x7fb07e2e6eb8>,\n",
       "        <matplotlib.axes._subplots.AxesSubplot object at 0x7fb07953c828>]], dtype=object)"
      ]
     },
     "execution_count": 31,
     "metadata": {},
     "output_type": "execute_result"
    }
   ],
   "source": [
    "axes"
   ]
  },
  {
   "cell_type": "code",
   "execution_count": 34,
   "metadata": {
    "collapsed": false
   },
   "outputs": [
    {
     "data": {
      "text/plain": [
       "<matplotlib.axes._subplots.AxesSubplot at 0x7fb0793b53c8>"
      ]
     },
     "execution_count": 34,
     "metadata": {},
     "output_type": "execute_result"
    }
   ],
   "source": [
    "axes[0,0]"
   ]
  },
  {
   "cell_type": "markdown",
   "metadata": {},
   "source": [
    "## subplot之间没有间距"
   ]
  },
  {
   "cell_type": "code",
   "execution_count": 74,
   "metadata": {
    "collapsed": true
   },
   "outputs": [],
   "source": [
    "fig , axes = plt.subplots(2, 2, sharex=True, sharey=True)"
   ]
  },
  {
   "cell_type": "code",
   "execution_count": 51,
   "metadata": {
    "collapsed": true
   },
   "outputs": [],
   "source": [
    "for i in range(2):\n",
    "    for j in range(2):\n",
    "        axes[i,j].hist(randn(500),bins=50,color='k',alpha=0.5 )"
   ]
  },
  {
   "cell_type": "code",
   "execution_count": 52,
   "metadata": {
    "collapsed": false
   },
   "outputs": [
    {
     "data": {
      "text/plain": [
       "array([[<matplotlib.axes._subplots.AxesSubplot object at 0x7fb0787eb550>,\n",
       "        <matplotlib.axes._subplots.AxesSubplot object at 0x7fb078719e48>],\n",
       "       [<matplotlib.axes._subplots.AxesSubplot object at 0x7fb0786dd7b8>,\n",
       "        <matplotlib.axes._subplots.AxesSubplot object at 0x7fb0786a99e8>]], dtype=object)"
      ]
     },
     "execution_count": 52,
     "metadata": {},
     "output_type": "execute_result"
    }
   ],
   "source": [
    "axes"
   ]
  },
  {
   "cell_type": "code",
   "execution_count": 48,
   "metadata": {
    "collapsed": false
   },
   "outputs": [
    {
     "data": {
      "image/png": "[encoded data removed]",
      "text/plain": [
       "<matplotlib.figure.Figure at 0x7fb078b5fe80>"
      ]
     },
     "execution_count": 48,
     "metadata": {},
     "output_type": "execute_result"
    }
   ],
   "source": [
    "fig"
   ]
  },
  {
   "cell_type": "code",
   "execution_count": 53,
   "metadata": {
    "collapsed": true
   },
   "outputs": [],
   "source": [
    "plt.subplots_adjust(wspace=0,hspace=0)"
   ]
  },
  {
   "cell_type": "code",
   "execution_count": 56,
   "metadata": {
    "collapsed": true
   },
   "outputs": [],
   "source": [
    "ax = plt.figure()"
   ]
  },
  {
   "cell_type": "code",
   "execution_count": 59,
   "metadata": {
    "collapsed": false
   },
   "outputs": [
    {
     "data": {
      "text/plain": [
       "[<matplotlib.lines.Line2D at 0x7fb078277470>]"
      ]
     },
     "execution_count": 59,
     "metadata": {},
     "output_type": "execute_result"
    }
   ],
   "source": [
    "plt.plot([1,2,3],[2,3,4],'g--')"
   ]
  },
  {
   "cell_type": "code",
   "execution_count": 62,
   "metadata": {
    "collapsed": false
   },
   "outputs": [
    {
     "data": {
      "text/plain": [
       "[<matplotlib.lines.Line2D at 0x7fb07825d630>]"
      ]
     },
     "execution_count": 62,
     "metadata": {},
     "output_type": "execute_result"
    }
   ],
   "source": [
    "plt.plot(randn(30).cumsum(),'ko--')"
   ]
  },
  {
   "cell_type": "code",
   "execution_count": 63,
   "metadata": {
    "collapsed": false
   },
   "outputs": [
    {
     "data": {
      "text/plain": [
       "[<matplotlib.lines.Line2D at 0x7fb07821c7f0>]"
      ]
     },
     "execution_count": 63,
     "metadata": {},
     "output_type": "execute_result"
    }
   ],
   "source": [
    "plt.plot(randn(30).cumsum(), color='k', linestyle='dashed', marker='o')"
   ]
  },
  {
   "cell_type": "code",
   "execution_count": 64,
   "metadata": {
    "collapsed": false
   },
   "outputs": [
    {
     "data": {
      "text/plain": [
       "array([-1.54130637, -0.76414747,  0.01718353, -1.57054472, -0.9518712 ,\n",
       "       -2.68493894, -3.41380755, -3.95265919, -5.41225974, -6.7537814 ,\n",
       "       -5.21695566, -3.81294522, -2.58722106, -3.21967399, -4.66676353,\n",
       "       -5.15292152, -4.66012655, -4.75834987, -4.26661749, -3.23904045,\n",
       "       -4.40621482, -3.91943441, -3.24762801, -2.10438889, -2.40901216,\n",
       "       -2.45371693, -2.58971258, -3.53349095, -3.75530127, -3.35809903])"
      ]
     },
     "execution_count": 64,
     "metadata": {},
     "output_type": "execute_result"
    }
   ],
   "source": [
    "randn(30).cumsum()"
   ]
  },
  {
   "cell_type": "code",
   "execution_count": 65,
   "metadata": {
    "collapsed": true
   },
   "outputs": [],
   "source": [
    "data = randn(30).cumsum()"
   ]
  },
  {
   "cell_type": "code",
   "execution_count": 68,
   "metadata": {
    "collapsed": false
   },
   "outputs": [
    {
     "data": {
      "text/plain": [
       "[<matplotlib.lines.Line2D at 0x7fb078150978>]"
      ]
     },
     "execution_count": 68,
     "metadata": {},
     "output_type": "execute_result"
    }
   ],
   "source": [
    "plt.plot(data, 'k--', label='Default')"
   ]
  },
  {
   "cell_type": "code",
   "execution_count": 67,
   "metadata": {
    "collapsed": false
   },
   "outputs": [
    {
     "data": {
      "text/plain": [
       "[<matplotlib.lines.Line2D at 0x7fb078109710>]"
      ]
     },
     "execution_count": 67,
     "metadata": {},
     "output_type": "execute_result"
    }
   ],
   "source": [
    "plt.plot(data, 'k--', label='Default', drawstyle='steps-post')"
   ]
  },
  {
   "cell_type": "code",
   "execution_count": 69,
   "metadata": {
    "collapsed": false
   },
   "outputs": [
    {
     "data": {
      "text/plain": [
       "<matplotlib.legend.Legend at 0x7fb078128390>"
      ]
     },
     "execution_count": 69,
     "metadata": {},
     "output_type": "execute_result"
    }
   ],
   "source": [
    "plt.legend(loc='best')"
   ]
  },
  {
   "cell_type": "code",
   "execution_count": 70,
   "metadata": {
    "collapsed": false
   },
   "outputs": [
    {
     "data": {
      "text/plain": [
       "(-1.4500000000000002, 30.449999999999999)"
      ]
     },
     "execution_count": 70,
     "metadata": {},
     "output_type": "execute_result"
    }
   ],
   "source": [
    "plt.xlim()"
   ]
  },
  {
   "cell_type": "code",
   "execution_count": 71,
   "metadata": {
    "collapsed": false
   },
   "outputs": [
    {
     "data": {
      "text/plain": [
       "[<matplotlib.axes._subplots.AxesSubplot at 0x7fb0787eb550>,\n",
       " <matplotlib.axes._subplots.AxesSubplot at 0x7fb078719e48>,\n",
       " <matplotlib.axes._subplots.AxesSubplot at 0x7fb0786dd7b8>,\n",
       " <matplotlib.axes._subplots.AxesSubplot at 0x7fb0786a99e8>]"
      ]
     },
     "execution_count": 71,
     "metadata": {},
     "output_type": "execute_result"
    }
   ],
   "source": [
    "fig.get_axes()"
   ]
  },
  {
   "cell_type": "code",
   "execution_count": 75,
   "metadata": {
    "collapsed": false
   },
   "outputs": [
    {
     "data": {
      "image/png": "[encoded data removed]",
      "text/plain": [
       "<matplotlib.figure.Figure at 0x7fb07831dfd0>"
      ]
     },
     "execution_count": 75,
     "metadata": {},
     "output_type": "execute_result"
    }
   ],
   "source": [
    "fig"
   ]
  },
  {
   "cell_type": "markdown",
   "metadata": {},
   "source": [
    "## 设置标题、轴标签、刻度和刻度标签"
   ]
  },
  {
   "cell_type": "code",
   "execution_count": 91,
   "metadata": {
    "collapsed": true
   },
   "outputs": [],
   "source": [
    "fig = plt.figure()"
   ]
  },
  {
   "cell_type": "code",
   "execution_count": 92,
   "metadata": {
    "collapsed": true
   },
   "outputs": [],
   "source": [
    "ax = fig.add_subplot(1,1,1)"
   ]
  },
  {
   "cell_type": "code",
   "execution_count": 93,
   "metadata": {
    "collapsed": false
   },
   "outputs": [
    {
     "data": {
      "text/plain": [
       "[<matplotlib.lines.Line2D at 0x7fb077ebf278>]"
      ]
     },
     "execution_count": 93,
     "metadata": {},
     "output_type": "execute_result"
    }
   ],
   "source": [
    "ax.plot(randn(1000).cumsum())"
   ]
  },
  {
   "cell_type": "code",
   "execution_count": 94,
   "metadata": {
    "collapsed": true
   },
   "outputs": [],
   "source": [
    "ticks = ax.set_xticks([0, 250, 500, 750, 1000])"
   ]
  },
  {
   "cell_type": "code",
   "execution_count": 95,
   "metadata": {
    "collapsed": false
   },
   "outputs": [
    {
     "data": {
      "text/plain": [
       "[<matplotlib.axis.XTick at 0x7fb077f27cf8>,\n",
       " <matplotlib.axis.XTick at 0x7fb077eb29e8>,\n",
       " <matplotlib.axis.XTick at 0x7fb077f30748>,\n",
       " <matplotlib.axis.XTick at 0x7fb077cf1278>,\n",
       " <matplotlib.axis.XTick at 0x7fb077cf1a90>]"
      ]
     },
     "execution_count": 95,
     "metadata": {},
     "output_type": "execute_result"
    }
   ],
   "source": [
    "ticks"
   ]
  },
  {
   "cell_type": "code",
   "execution_count": 96,
   "metadata": {
    "collapsed": true
   },
   "outputs": [],
   "source": [
    "labels = ax.set_xticklabels('one,two,three,four,five'.split(','), \n",
    "                           rotation=30,fontsize='small'\n",
    "                           )"
   ]
  },
  {
   "cell_type": "code",
   "execution_count": 97,
   "metadata": {
    "collapsed": false
   },
   "outputs": [
    {
     "data": {
      "text/plain": [
       "<matplotlib.text.Text at 0x7fb077d46c50>"
      ]
     },
     "execution_count": 97,
     "metadata": {},
     "output_type": "execute_result"
    }
   ],
   "source": [
    "ax.set_title('My fisrt matplotlib plot title')"
   ]
  },
  {
   "cell_type": "code",
   "execution_count": 98,
   "metadata": {
    "collapsed": false
   },
   "outputs": [
    {
     "data": {
      "text/plain": [
       "<matplotlib.text.Text at 0x7fb077eb2c88>"
      ]
     },
     "execution_count": 98,
     "metadata": {},
     "output_type": "execute_result"
    }
   ],
   "source": [
    "ax.set_xlabel('Stages')"
   ]
  },
  {
   "cell_type": "code",
   "execution_count": 99,
   "metadata": {
    "collapsed": false
   },
   "outputs": [
    {
     "data": {
      "text/plain": [
       "<matplotlib.text.Text at 0x7fb077d95978>"
      ]
     },
     "execution_count": 99,
     "metadata": {},
     "output_type": "execute_result"
    }
   ],
   "source": [
    "ax.set_ylabel('y')"
   ]
  },
  {
   "cell_type": "markdown",
   "metadata": {},
   "source": [
    "## 添加图列"
   ]
  },
  {
   "cell_type": "code",
   "execution_count": 108,
   "metadata": {
    "collapsed": true
   },
   "outputs": [],
   "source": [
    "fig = plt.figure(); ax = fig.add_subplot(1,1,1)"
   ]
  },
  {
   "cell_type": "code",
   "execution_count": 109,
   "metadata": {
    "collapsed": false
   },
   "outputs": [
    {
     "data": {
      "text/plain": [
       "[<matplotlib.lines.Line2D at 0x7fb077be8c50>]"
      ]
     },
     "execution_count": 109,
     "metadata": {},
     "output_type": "execute_result"
    }
   ],
   "source": [
    "ax.plot(randn(1000).cumsum(), 'k', label='one' )"
   ]
  },
  {
   "cell_type": "code",
   "execution_count": 110,
   "metadata": {
    "collapsed": false
   },
   "outputs": [
    {
     "data": {
      "text/plain": [
       "[<matplotlib.lines.Line2D at 0x7fb077c9ebe0>]"
      ]
     },
     "execution_count": 110,
     "metadata": {},
     "output_type": "execute_result"
    }
   ],
   "source": [
    "ax.plot(randn(1000).cumsum(), 'k--', label='two' )"
   ]
  },
  {
   "cell_type": "code",
   "execution_count": 111,
   "metadata": {
    "collapsed": false
   },
   "outputs": [
    {
     "data": {
      "text/plain": [
       "[<matplotlib.lines.Line2D at 0x7fb077b86278>]"
      ]
     },
     "execution_count": 111,
     "metadata": {},
     "output_type": "execute_result"
    }
   ],
   "source": [
    "ax.plot(randn(1000).cumsum(), 'k.', label='three' )"
   ]
  },
  {
   "cell_type": "code",
   "execution_count": 112,
   "metadata": {
    "collapsed": false
   },
   "outputs": [
    {
     "data": {
      "text/plain": [
       "<matplotlib.legend.Legend at 0x7fb077c18550>"
      ]
     },
     "execution_count": 112,
     "metadata": {},
     "output_type": "execute_result"
    }
   ],
   "source": [
    "ax.legend()"
   ]
  },
  {
   "cell_type": "code",
   "execution_count": 113,
   "metadata": {
    "collapsed": false
   },
   "outputs": [
    {
     "data": {
      "text/plain": [
       "<matplotlib.legend.Legend at 0x7fb077b3eac8>"
      ]
     },
     "execution_count": 113,
     "metadata": {},
     "output_type": "execute_result"
    }
   ],
   "source": [
    "ax.legend('best')"
   ]
  },
  {
   "cell_type": "markdown",
   "metadata": {},
   "source": [
    "## 注解以及在Subplot上绘图"
   ]
  },
  {
   "cell_type": "code",
   "execution_count": 136,
   "metadata": {
    "collapsed": true
   },
   "outputs": [],
   "source": [
    "fig = plt.figure(); ax = fig.add_subplot(1,1,1)"
   ]
  },
  {
   "cell_type": "code",
   "execution_count": 115,
   "metadata": {
    "collapsed": true
   },
   "outputs": [],
   "source": [
    "data = pd.read_csv('spx.csv', index_col=0,parse_dates=True)"
   ]
  },
  {
   "cell_type": "code",
   "execution_count": 135,
   "metadata": {
    "collapsed": false
   },
   "outputs": [
    {
     "data": {
      "text/html": [
       "<div>\n",
       "<style>\n",
       "    .dataframe thead tr:only-child th {\n",
       "        text-align: right;\n",
       "    }\n",
       "\n",
       "    .dataframe thead th {\n",
       "        text-align: left;\n",
       "    }\n",
       "\n",
       "    .dataframe tbody tr th {\n",
       "        vertical-align: top;\n",
       "    }\n",
       "</style>\n",
       "<table border=\"1\" class=\"dataframe\">\n",
       "  <thead>\n",
       "    <tr style=\"text-align: right;\">\n",
       "      <th></th>\n",
       "      <th>SPX</th>\n",
       "    </tr>\n",
       "  </thead>\n",
       "  <tbody>\n",
       "    <tr>\n",
       "      <th>1990-02-01</th>\n",
       "      <td>328.79</td>\n",
       "    </tr>\n",
       "    <tr>\n",
       "      <th>1990-02-02</th>\n",
       "      <td>330.92</td>\n",
       "    </tr>\n",
       "    <tr>\n",
       "      <th>1990-02-05</th>\n",
       "      <td>331.85</td>\n",
       "    </tr>\n",
       "    <tr>\n",
       "      <th>1990-02-06</th>\n",
       "      <td>329.66</td>\n",
       "    </tr>\n",
       "    <tr>\n",
       "      <th>1990-02-07</th>\n",
       "      <td>333.75</td>\n",
       "    </tr>\n",
       "  </tbody>\n",
       "</table>\n",
       "</div>"
      ],
      "text/plain": [
       "               SPX\n",
       "1990-02-01  328.79\n",
       "1990-02-02  330.92\n",
       "1990-02-05  331.85\n",
       "1990-02-06  329.66\n",
       "1990-02-07  333.75"
      ]
     },
     "execution_count": 135,
     "metadata": {},
     "output_type": "execute_result"
    }
   ],
   "source": [
    "data.head()"
   ]
  },
  {
   "cell_type": "code",
   "execution_count": 117,
   "metadata": {
    "collapsed": false
   },
   "outputs": [
    {
     "data": {
      "text/plain": [
       "DatetimeIndex(['1990-02-01', '1990-02-02', '1990-02-05', '1990-02-06',\n",
       "               '1990-02-07', '1990-02-08', '1990-02-09', '1990-02-12',\n",
       "               '1990-02-13', '1990-02-14',\n",
       "               ...\n",
       "               '2011-10-03', '2011-10-04', '2011-10-05', '2011-10-06',\n",
       "               '2011-10-07', '2011-10-10', '2011-10-11', '2011-10-12',\n",
       "               '2011-10-13', '2011-10-14'],\n",
       "              dtype='datetime64[ns]', length=5472, freq=None)"
      ]
     },
     "execution_count": 117,
     "metadata": {},
     "output_type": "execute_result"
    }
   ],
   "source": [
    "data.index"
   ]
  },
  {
   "cell_type": "code",
   "execution_count": 118,
   "metadata": {
    "collapsed": true
   },
   "outputs": [],
   "source": [
    "spx = data['SPX']"
   ]
  },
  {
   "cell_type": "code",
   "execution_count": 119,
   "metadata": {
    "collapsed": false
   },
   "outputs": [
    {
     "data": {
      "text/plain": [
       "1990-02-01     328.79\n",
       "1990-02-02     330.92\n",
       "1990-02-05     331.85\n",
       "1990-02-06     329.66\n",
       "1990-02-07     333.75\n",
       "1990-02-08     332.96\n",
       "1990-02-09     333.62\n",
       "1990-02-12     330.08\n",
       "1990-02-13     331.02\n",
       "1990-02-14     332.01\n",
       "1990-02-15     334.89\n",
       "1990-02-16     332.72\n",
       "1990-02-20     327.99\n",
       "1990-02-21     327.67\n",
       "1990-02-22     325.70\n",
       "1990-02-23     324.15\n",
       "1990-02-26     328.67\n",
       "1990-02-27     330.26\n",
       "1990-02-28     331.89\n",
       "1990-03-01     332.74\n",
       "1990-03-02     335.54\n",
       "1990-03-05     333.74\n",
       "1990-03-06     337.93\n",
       "1990-03-07     336.95\n",
       "1990-03-08     340.27\n",
       "1990-03-09     337.93\n",
       "1990-03-12     338.67\n",
       "1990-03-13     336.00\n",
       "1990-03-14     336.87\n",
       "1990-03-15     338.07\n",
       "               ...   \n",
       "2011-09-02    1173.97\n",
       "2011-09-06    1165.24\n",
       "2011-09-07    1198.62\n",
       "2011-09-08    1185.90\n",
       "2011-09-09    1154.23\n",
       "2011-09-12    1162.27\n",
       "2011-09-13    1172.87\n",
       "2011-09-14    1188.68\n",
       "2011-09-15    1209.11\n",
       "2011-09-16    1216.01\n",
       "2011-09-19    1204.09\n",
       "2011-09-20    1202.09\n",
       "2011-09-21    1166.76\n",
       "2011-09-22    1129.56\n",
       "2011-09-23    1136.43\n",
       "2011-09-26    1162.95\n",
       "2011-09-27    1175.38\n",
       "2011-09-28    1151.06\n",
       "2011-09-29    1160.40\n",
       "2011-09-30    1131.42\n",
       "2011-10-03    1099.23\n",
       "2011-10-04    1123.95\n",
       "2011-10-05    1144.03\n",
       "2011-10-06    1164.97\n",
       "2011-10-07    1155.46\n",
       "2011-10-10    1194.89\n",
       "2011-10-11    1195.54\n",
       "2011-10-12    1207.25\n",
       "2011-10-13    1203.66\n",
       "2011-10-14    1224.58\n",
       "Name: SPX, Length: 5472, dtype: float64"
      ]
     },
     "execution_count": 119,
     "metadata": {},
     "output_type": "execute_result"
    }
   ],
   "source": [
    "spx"
   ]
  },
  {
   "cell_type": "code",
   "execution_count": 137,
   "metadata": {
    "collapsed": false
   },
   "outputs": [
    {
     "data": {
      "text/plain": [
       "<matplotlib.axes._subplots.AxesSubplot at 0x7fb077b2ca58>"
      ]
     },
     "execution_count": 137,
     "metadata": {},
     "output_type": "execute_result"
    }
   ],
   "source": [
    "spx.plot(ax =ax, style='k-')"
   ]
  },
  {
   "cell_type": "code",
   "execution_count": 140,
   "metadata": {
    "collapsed": true
   },
   "outputs": [],
   "source": [
    "crisis_data = [\n",
    "    (datetime(2007, 10, 11), 'Peak of bull market'),\n",
    "    (datetime(2008, 3, 12), 'Bear Stearns Fails'),\n",
    "    (datetime(2008, 9, 15), 'Lehman Bankruptcy')\n",
    "       \n",
    "]"
   ]
  },
  {
   "cell_type": "code",
   "execution_count": 146,
   "metadata": {
    "collapsed": true
   },
   "outputs": [],
   "source": [
    "for date, label in crisis_data:\n",
    "    ax.annotate( label, xy= (date , spx.asof(date) + 50),\n",
    "                xytext = (date, spx.asof(date) + 400),\n",
    "                arrowprops = dict(facecolor='black'),\n",
    "                horizontalalignment='left',\n",
    "                verticalalignment='top',\n",
    "    \n",
    "    )"
   ]
  },
  {
   "cell_type": "code",
   "execution_count": 142,
   "metadata": {
    "collapsed": false
   },
   "outputs": [
    {
     "data": {
      "text/plain": [
       "(732677.0, 734138.0)"
      ]
     },
     "execution_count": 142,
     "metadata": {},
     "output_type": "execute_result"
    }
   ],
   "source": [
    "ax.set_xlim(['1/1/2007', '1/1/2011'])"
   ]
  },
  {
   "cell_type": "code",
   "execution_count": 143,
   "metadata": {
    "collapsed": false
   },
   "outputs": [
    {
     "data": {
      "text/plain": [
       "(600, 1800)"
      ]
     },
     "execution_count": 143,
     "metadata": {},
     "output_type": "execute_result"
    }
   ],
   "source": [
    "ax.set_ylim(600,1800)"
   ]
  },
  {
   "cell_type": "markdown",
   "metadata": {},
   "source": [
    "## 在图表中添加图形"
   ]
  },
  {
   "cell_type": "code",
   "execution_count": 173,
   "metadata": {
    "collapsed": true
   },
   "outputs": [],
   "source": [
    "fig = plt.figure(); ax = fig.add_subplot(1,1,1)"
   ]
  },
  {
   "cell_type": "code",
   "execution_count": 174,
   "metadata": {
    "collapsed": true
   },
   "outputs": [],
   "source": [
    "rect = plt.Rectangle((1,2), 0.4, 0.15, color='k',alpha=0.3)"
   ]
  },
  {
   "cell_type": "code",
   "execution_count": 175,
   "metadata": {
    "collapsed": true
   },
   "outputs": [],
   "source": [
    "circ = plt.Circle((0.7,0.2), 0.15, color='k', alpha=0.3)"
   ]
  },
  {
   "cell_type": "code",
   "execution_count": 176,
   "metadata": {
    "collapsed": true
   },
   "outputs": [],
   "source": [
    "pgon = plt.Polygon([[0.15, 0.15], [0.35, 0.4], [0.2, 0.6]], color='g', alpha=0.5)"
   ]
  },
  {
   "cell_type": "code",
   "execution_count": 177,
   "metadata": {
    "collapsed": false
   },
   "outputs": [
    {
     "data": {
      "text/plain": [
       "<matplotlib.patches.Rectangle at 0x7fb076a675c0>"
      ]
     },
     "execution_count": 177,
     "metadata": {},
     "output_type": "execute_result"
    }
   ],
   "source": [
    "ax.add_patch(rect)"
   ]
  },
  {
   "cell_type": "code",
   "execution_count": 178,
   "metadata": {
    "collapsed": false
   },
   "outputs": [
    {
     "data": {
      "text/plain": [
       "<matplotlib.patches.Circle at 0x7fb076a670f0>"
      ]
     },
     "execution_count": 178,
     "metadata": {},
     "output_type": "execute_result"
    }
   ],
   "source": [
    "ax.add_patch(circ)"
   ]
  },
  {
   "cell_type": "code",
   "execution_count": 179,
   "metadata": {
    "collapsed": false
   },
   "outputs": [
    {
     "data": {
      "text/plain": [
       "<matplotlib.patches.Polygon at 0x7fb076a678d0>"
      ]
     },
     "execution_count": 179,
     "metadata": {},
     "output_type": "execute_result"
    }
   ],
   "source": [
    "ax.add_patch(pgon)"
   ]
  },
  {
   "cell_type": "code",
   "execution_count": 180,
   "metadata": {
    "collapsed": true
   },
   "outputs": [],
   "source": [
    "plt.savefig('three_shape1.svg')"
   ]
  },
  {
   "cell_type": "code",
   "execution_count": 181,
   "metadata": {
    "collapsed": true
   },
   "outputs": [],
   "source": [
    "plt.savefig('three_shape2.svg', dpi=400, bbox_inches='tight')"
   ]
  },
  {
   "cell_type": "code",
   "execution_count": 182,
   "metadata": {
    "collapsed": true
   },
   "outputs": [],
   "source": [
    "from io import StringIO"
   ]
  },
  {
   "cell_type": "code",
   "execution_count": 183,
   "metadata": {
    "collapsed": true
   },
   "outputs": [],
   "source": [
    "buffer = StringIO()"
   ]
  },
  {
   "cell_type": "code",
   "execution_count": 184,
   "metadata": {
    "collapsed": false
   },
   "outputs": [
    {
     "ename": "TypeError",
     "evalue": "string argument expected, got 'bytes'",
     "output_type": "error",
     "traceback": [
      "\u001b[0;31m---------------------------------------------------------------------------\u001b[0m",
      "\u001b[0;31mTypeError\u001b[0m                                 Traceback (most recent call last)",
      "\u001b[0;32m<ipython-input-184-4530e06d66d4>\u001b[0m in \u001b[0;36m<module>\u001b[0;34m()\u001b[0m\n\u001b[0;32m----> 1\u001b[0;31m \u001b[0mplt\u001b[0m\u001b[0;34m.\u001b[0m\u001b[0msavefig\u001b[0m\u001b[0;34m(\u001b[0m\u001b[0mbuffer\u001b[0m\u001b[0;34m)\u001b[0m\u001b[0;34m\u001b[0m\u001b[0m\n\u001b[0m",
      "\u001b[0;32m/home/zhanghui/py35/lib/python3.5/site-packages/matplotlib/pyplot.py\u001b[0m in \u001b[0;36msavefig\u001b[0;34m(*args, **kwargs)\u001b[0m\n\u001b[1;32m    695\u001b[0m \u001b[0;32mdef\u001b[0m \u001b[0msavefig\u001b[0m\u001b[0;34m(\u001b[0m\u001b[0;34m*\u001b[0m\u001b[0margs\u001b[0m\u001b[0;34m,\u001b[0m \u001b[0;34m**\u001b[0m\u001b[0mkwargs\u001b[0m\u001b[0;34m)\u001b[0m\u001b[0;34m:\u001b[0m\u001b[0;34m\u001b[0m\u001b[0m\n\u001b[1;32m    696\u001b[0m     \u001b[0mfig\u001b[0m \u001b[0;34m=\u001b[0m \u001b[0mgcf\u001b[0m\u001b[0;34m(\u001b[0m\u001b[0;34m)\u001b[0m\u001b[0;34m\u001b[0m\u001b[0m\n\u001b[0;32m--> 697\u001b[0;31m     \u001b[0mres\u001b[0m \u001b[0;34m=\u001b[0m \u001b[0mfig\u001b[0m\u001b[0;34m.\u001b[0m\u001b[0msavefig\u001b[0m\u001b[0;34m(\u001b[0m\u001b[0;34m*\u001b[0m\u001b[0margs\u001b[0m\u001b[0;34m,\u001b[0m \u001b[0;34m**\u001b[0m\u001b[0mkwargs\u001b[0m\u001b[0;34m)\u001b[0m\u001b[0;34m\u001b[0m\u001b[0m\n\u001b[0m\u001b[1;32m    698\u001b[0m     \u001b[0mfig\u001b[0m\u001b[0;34m.\u001b[0m\u001b[0mcanvas\u001b[0m\u001b[0;34m.\u001b[0m\u001b[0mdraw_idle\u001b[0m\u001b[0;34m(\u001b[0m\u001b[0;34m)\u001b[0m   \u001b[0;31m# need this if 'transparent=True' to reset colors\u001b[0m\u001b[0;34m\u001b[0m\u001b[0m\n\u001b[1;32m    699\u001b[0m     \u001b[0;32mreturn\u001b[0m \u001b[0mres\u001b[0m\u001b[0;34m\u001b[0m\u001b[0m\n",
      "\u001b[0;32m/home/zhanghui/py35/lib/python3.5/site-packages/matplotlib/figure.py\u001b[0m in \u001b[0;36msavefig\u001b[0;34m(self, *args, **kwargs)\u001b[0m\n\u001b[1;32m   1571\u001b[0m             \u001b[0mself\u001b[0m\u001b[0;34m.\u001b[0m\u001b[0mset_frameon\u001b[0m\u001b[0;34m(\u001b[0m\u001b[0mframeon\u001b[0m\u001b[0;34m)\u001b[0m\u001b[0;34m\u001b[0m\u001b[0m\n\u001b[1;32m   1572\u001b[0m \u001b[0;34m\u001b[0m\u001b[0m\n\u001b[0;32m-> 1573\u001b[0;31m         \u001b[0mself\u001b[0m\u001b[0;34m.\u001b[0m\u001b[0mcanvas\u001b[0m\u001b[0;34m.\u001b[0m\u001b[0mprint_figure\u001b[0m\u001b[0;34m(\u001b[0m\u001b[0;34m*\u001b[0m\u001b[0margs\u001b[0m\u001b[0;34m,\u001b[0m \u001b[0;34m**\u001b[0m\u001b[0mkwargs\u001b[0m\u001b[0;34m)\u001b[0m\u001b[0;34m\u001b[0m\u001b[0m\n\u001b[0m\u001b[1;32m   1574\u001b[0m \u001b[0;34m\u001b[0m\u001b[0m\n\u001b[1;32m   1575\u001b[0m         \u001b[0;32mif\u001b[0m \u001b[0mframeon\u001b[0m\u001b[0;34m:\u001b[0m\u001b[0;34m\u001b[0m\u001b[0m\n",
      "\u001b[0;32m/home/zhanghui/py35/lib/python3.5/site-packages/matplotlib/backend_bases.py\u001b[0m in \u001b[0;36mprint_figure\u001b[0;34m(self, filename, dpi, facecolor, edgecolor, orientation, format, **kwargs)\u001b[0m\n\u001b[1;32m   2250\u001b[0m                 \u001b[0morientation\u001b[0m\u001b[0;34m=\u001b[0m\u001b[0morientation\u001b[0m\u001b[0;34m,\u001b[0m\u001b[0;34m\u001b[0m\u001b[0m\n\u001b[1;32m   2251\u001b[0m                 \u001b[0mbbox_inches_restore\u001b[0m\u001b[0;34m=\u001b[0m\u001b[0m_bbox_inches_restore\u001b[0m\u001b[0;34m,\u001b[0m\u001b[0;34m\u001b[0m\u001b[0m\n\u001b[0;32m-> 2252\u001b[0;31m                 **kwargs)\n\u001b[0m\u001b[1;32m   2253\u001b[0m         \u001b[0;32mfinally\u001b[0m\u001b[0;34m:\u001b[0m\u001b[0;34m\u001b[0m\u001b[0m\n\u001b[1;32m   2254\u001b[0m             \u001b[0;32mif\u001b[0m \u001b[0mbbox_inches\u001b[0m \u001b[0;32mand\u001b[0m \u001b[0mrestore_bbox\u001b[0m\u001b[0;34m:\u001b[0m\u001b[0;34m\u001b[0m\u001b[0m\n",
      "\u001b[0;32m/home/zhanghui/py35/lib/python3.5/site-packages/matplotlib/backends/backend_agg.py\u001b[0m in \u001b[0;36mprint_png\u001b[0;34m(self, filename_or_obj, *args, **kwargs)\u001b[0m\n\u001b[1;32m    554\u001b[0m \u001b[0;34m\u001b[0m\u001b[0m\n\u001b[1;32m    555\u001b[0m         \u001b[0;32mtry\u001b[0m\u001b[0;34m:\u001b[0m\u001b[0;34m\u001b[0m\u001b[0m\n\u001b[0;32m--> 556\u001b[0;31m             \u001b[0m_png\u001b[0m\u001b[0;34m.\u001b[0m\u001b[0mwrite_png\u001b[0m\u001b[0;34m(\u001b[0m\u001b[0mrenderer\u001b[0m\u001b[0;34m.\u001b[0m\u001b[0m_renderer\u001b[0m\u001b[0;34m,\u001b[0m \u001b[0mfilename_or_obj\u001b[0m\u001b[0;34m,\u001b[0m \u001b[0mself\u001b[0m\u001b[0;34m.\u001b[0m\u001b[0mfigure\u001b[0m\u001b[0;34m.\u001b[0m\u001b[0mdpi\u001b[0m\u001b[0;34m)\u001b[0m\u001b[0;34m\u001b[0m\u001b[0m\n\u001b[0m\u001b[1;32m    557\u001b[0m         \u001b[0;32mfinally\u001b[0m\u001b[0;34m:\u001b[0m\u001b[0;34m\u001b[0m\u001b[0m\n\u001b[1;32m    558\u001b[0m             \u001b[0;32mif\u001b[0m \u001b[0mclose\u001b[0m\u001b[0;34m:\u001b[0m\u001b[0;34m\u001b[0m\u001b[0m\n",
      "\u001b[0;31mTypeError\u001b[0m: string argument expected, got 'bytes'"
     ]
    }
   ],
   "source": [
    "plt.savefig(buffer)"
   ]
  },
  {
   "cell_type": "markdown",
   "metadata": {},
   "source": [
    "## matplotlib配置"
   ]
  },
  {
   "cell_type": "code",
   "execution_count": 185,
   "metadata": {
    "collapsed": true
   },
   "outputs": [],
   "source": [
    "plt.rc('figure', figsize=(10, 10))"
   ]
  },
  {
   "cell_type": "code",
   "execution_count": 192,
   "metadata": {
    "collapsed": true
   },
   "outputs": [],
   "source": [
    "fig = plt.figure(); ax = fig.add_subplot(1,1,1)"
   ]
  },
  {
   "cell_type": "code",
   "execution_count": 190,
   "metadata": {
    "collapsed": true
   },
   "outputs": [],
   "source": [
    "font_options = {\n",
    "    'family':'monospace',\n",
    "    'weight':'bold',\n",
    "#     'size':'small',\n",
    "    \n",
    "    \n",
    "}"
   ]
  },
  {
   "cell_type": "code",
   "execution_count": 191,
   "metadata": {
    "collapsed": true
   },
   "outputs": [],
   "source": [
    "plt.rc('font', **font_options)"
   ]
  },
  {
   "cell_type": "markdown",
   "metadata": {},
   "source": [
    "# pandas中的绘图函数"
   ]
  },
  {
   "cell_type": "markdown",
   "metadata": {},
   "source": [
    "## 线形图"
   ]
  },
  {
   "cell_type": "code",
   "execution_count": 193,
   "metadata": {
    "collapsed": true
   },
   "outputs": [],
   "source": [
    "s = Series(randn(10).cumsum(), index=np.arange(0, 100, 10))"
   ]
  },
  {
   "cell_type": "code",
   "execution_count": 194,
   "metadata": {
    "collapsed": false
   },
   "outputs": [
    {
     "data": {
      "text/plain": [
       "0    -0.600230\n",
       "10    1.566513\n",
       "20   -1.236340\n",
       "30   -1.764901\n",
       "40   -0.780371\n",
       "50   -2.862471\n",
       "60   -3.119281\n",
       "70   -3.376861\n",
       "80   -1.689328\n",
       "90   -0.660613\n",
       "dtype: float64"
      ]
     },
     "execution_count": 194,
     "metadata": {},
     "output_type": "execute_result"
    }
   ],
   "source": [
    "s"
   ]
  },
  {
   "cell_type": "code",
   "execution_count": 198,
   "metadata": {
    "collapsed": false
   },
   "outputs": [
    {
     "data": {
      "text/plain": [
       "<matplotlib.axes._subplots.AxesSubplot at 0x7fb076c57080>"
      ]
     },
     "execution_count": 198,
     "metadata": {},
     "output_type": "execute_result"
    }
   ],
   "source": [
    "s.plot()"
   ]
  },
  {
   "cell_type": "code",
   "execution_count": 199,
   "metadata": {
    "collapsed": true
   },
   "outputs": [],
   "source": [
    "df = DataFrame(np.random.randn(10,  4).cumsum(0),\n",
    "               columns=list('ABCD'),\n",
    "               index=np.arange(0, 100, 10)\n",
    "\n",
    ")"
   ]
  },
  {
   "cell_type": "code",
   "execution_count": 200,
   "metadata": {
    "collapsed": false
   },
   "outputs": [
    {
     "data": {
      "text/html": [
       "<div>\n",
       "<style>\n",
       "    .dataframe thead tr:only-child th {\n",
       "        text-align: right;\n",
       "    }\n",
       "\n",
       "    .dataframe thead th {\n",
       "        text-align: left;\n",
       "    }\n",
       "\n",
       "    .dataframe tbody tr th {\n",
       "        vertical-align: top;\n",
       "    }\n",
       "</style>\n",
       "<table border=\"1\" class=\"dataframe\">\n",
       "  <thead>\n",
       "    <tr style=\"text-align: right;\">\n",
       "      <th></th>\n",
       "      <th>A</th>\n",
       "      <th>B</th>\n",
       "      <th>C</th>\n",
       "      <th>D</th>\n",
       "    </tr>\n",
       "  </thead>\n",
       "  <tbody>\n",
       "    <tr>\n",
       "      <th>0</th>\n",
       "      <td>-0.352826</td>\n",
       "      <td>-1.400211</td>\n",
       "      <td>0.118470</td>\n",
       "      <td>0.834407</td>\n",
       "    </tr>\n",
       "    <tr>\n",
       "      <th>10</th>\n",
       "      <td>0.280652</td>\n",
       "      <td>-2.987568</td>\n",
       "      <td>0.547096</td>\n",
       "      <td>0.778447</td>\n",
       "    </tr>\n",
       "    <tr>\n",
       "      <th>20</th>\n",
       "      <td>-0.454671</td>\n",
       "      <td>-4.688812</td>\n",
       "      <td>0.201952</td>\n",
       "      <td>1.645567</td>\n",
       "    </tr>\n",
       "    <tr>\n",
       "      <th>30</th>\n",
       "      <td>-1.054881</td>\n",
       "      <td>-4.762919</td>\n",
       "      <td>1.523351</td>\n",
       "      <td>1.477368</td>\n",
       "    </tr>\n",
       "    <tr>\n",
       "      <th>40</th>\n",
       "      <td>-2.528684</td>\n",
       "      <td>-4.561361</td>\n",
       "      <td>0.375457</td>\n",
       "      <td>0.750200</td>\n",
       "    </tr>\n",
       "    <tr>\n",
       "      <th>50</th>\n",
       "      <td>-4.859337</td>\n",
       "      <td>-4.658986</td>\n",
       "      <td>1.127567</td>\n",
       "      <td>1.690662</td>\n",
       "    </tr>\n",
       "    <tr>\n",
       "      <th>60</th>\n",
       "      <td>-5.612649</td>\n",
       "      <td>-4.845151</td>\n",
       "      <td>1.092404</td>\n",
       "      <td>2.934518</td>\n",
       "    </tr>\n",
       "    <tr>\n",
       "      <th>70</th>\n",
       "      <td>-5.599701</td>\n",
       "      <td>-4.562234</td>\n",
       "      <td>1.684677</td>\n",
       "      <td>1.888556</td>\n",
       "    </tr>\n",
       "    <tr>\n",
       "      <th>80</th>\n",
       "      <td>-7.017224</td>\n",
       "      <td>-3.505560</td>\n",
       "      <td>1.446391</td>\n",
       "      <td>1.884455</td>\n",
       "    </tr>\n",
       "    <tr>\n",
       "      <th>90</th>\n",
       "      <td>-7.238138</td>\n",
       "      <td>-3.253338</td>\n",
       "      <td>2.303933</td>\n",
       "      <td>1.970229</td>\n",
       "    </tr>\n",
       "  </tbody>\n",
       "</table>\n",
       "</div>"
      ],
      "text/plain": [
       "           A         B         C         D\n",
       "0  -0.352826 -1.400211  0.118470  0.834407\n",
       "10  0.280652 -2.987568  0.547096  0.778447\n",
       "20 -0.454671 -4.688812  0.201952  1.645567\n",
       "30 -1.054881 -4.762919  1.523351  1.477368\n",
       "40 -2.528684 -4.561361  0.375457  0.750200\n",
       "50 -4.859337 -4.658986  1.127567  1.690662\n",
       "60 -5.612649 -4.845151  1.092404  2.934518\n",
       "70 -5.599701 -4.562234  1.684677  1.888556\n",
       "80 -7.017224 -3.505560  1.446391  1.884455\n",
       "90 -7.238138 -3.253338  2.303933  1.970229"
      ]
     },
     "execution_count": 200,
     "metadata": {},
     "output_type": "execute_result"
    }
   ],
   "source": [
    "df"
   ]
  },
  {
   "cell_type": "code",
   "execution_count": 201,
   "metadata": {
    "collapsed": false
   },
   "outputs": [
    {
     "data": {
      "text/plain": [
       "<matplotlib.axes._subplots.AxesSubplot at 0x7fb076c1d160>"
      ]
     },
     "execution_count": 201,
     "metadata": {},
     "output_type": "execute_result"
    }
   ],
   "source": [
    "df.plot()"
   ]
  },
  {
   "cell_type": "markdown",
   "metadata": {},
   "source": [
    "## 柱状图"
   ]
  },
  {
   "cell_type": "code",
   "execution_count": 17,
   "metadata": {
    "collapsed": true
   },
   "outputs": [],
   "source": [
    "fig, axes = plt.subplots(2, 1)"
   ]
  },
  {
   "cell_type": "code",
   "execution_count": 213,
   "metadata": {
    "collapsed": true
   },
   "outputs": [],
   "source": [
    "data = Series(rand(16), index=list('abcdefghijklmnop'))"
   ]
  },
  {
   "cell_type": "code",
   "execution_count": 214,
   "metadata": {
    "collapsed": false
   },
   "outputs": [
    {
     "data": {
      "text/plain": [
       "a    0.142727\n",
       "b    0.911236\n",
       "c    0.228740\n",
       "d    0.960433\n",
       "e    0.774546\n",
       "f    0.772977\n",
       "g    0.603966\n",
       "h    0.565796\n",
       "i    0.311518\n",
       "j    0.949553\n",
       "k    0.778520\n",
       "l    0.879720\n",
       "m    0.380985\n",
       "n    0.498634\n",
       "o    0.321801\n",
       "p    0.849348\n",
       "dtype: float64"
      ]
     },
     "execution_count": 214,
     "metadata": {},
     "output_type": "execute_result"
    }
   ],
   "source": [
    "data"
   ]
  },
  {
   "cell_type": "code",
   "execution_count": 215,
   "metadata": {
    "collapsed": false
   },
   "outputs": [
    {
     "data": {
      "text/plain": [
       "matplotlib.axes._subplots.AxesSubplot"
      ]
     },
     "execution_count": 215,
     "metadata": {},
     "output_type": "execute_result"
    }
   ],
   "source": [
    "type(axes[0])"
   ]
  },
  {
   "cell_type": "code",
   "execution_count": 216,
   "metadata": {
    "collapsed": false
   },
   "outputs": [
    {
     "data": {
      "text/plain": [
       "<matplotlib.axes._subplots.AxesSubplot at 0x7fb075d45160>"
      ]
     },
     "execution_count": 216,
     "metadata": {},
     "output_type": "execute_result"
    }
   ],
   "source": [
    "data.plot(kind='bar', ax= axes[0], color='k', alpha=0.7)"
   ]
  },
  {
   "cell_type": "code",
   "execution_count": 217,
   "metadata": {
    "collapsed": false
   },
   "outputs": [
    {
     "data": {
      "text/plain": [
       "<matplotlib.axes._subplots.AxesSubplot at 0x7fb075d9b080>"
      ]
     },
     "execution_count": 217,
     "metadata": {},
     "output_type": "execute_result"
    }
   ],
   "source": [
    "data.plot(kind='barh', ax= axes[1], color='k', alpha=0.7)"
   ]
  },
  {
   "cell_type": "code",
   "execution_count": 218,
   "metadata": {
    "collapsed": true
   },
   "outputs": [],
   "source": [
    "df = DataFrame(rand(6,4),\n",
    "               index='one,two,three,four,five,six'.split(','),\n",
    "               columns=pd.Index(list('ABCD'), name='Genus')\n",
    "\n",
    ")"
   ]
  },
  {
   "cell_type": "code",
   "execution_count": 219,
   "metadata": {
    "collapsed": false
   },
   "outputs": [
    {
     "data": {
      "text/html": [
       "<div>\n",
       "<style>\n",
       "    .dataframe thead tr:only-child th {\n",
       "        text-align: right;\n",
       "    }\n",
       "\n",
       "    .dataframe thead th {\n",
       "        text-align: left;\n",
       "    }\n",
       "\n",
       "    .dataframe tbody tr th {\n",
       "        vertical-align: top;\n",
       "    }\n",
       "</style>\n",
       "<table border=\"1\" class=\"dataframe\">\n",
       "  <thead>\n",
       "    <tr style=\"text-align: right;\">\n",
       "      <th>Genus</th>\n",
       "      <th>A</th>\n",
       "      <th>B</th>\n",
       "      <th>C</th>\n",
       "      <th>D</th>\n",
       "    </tr>\n",
       "  </thead>\n",
       "  <tbody>\n",
       "    <tr>\n",
       "      <th>one</th>\n",
       "      <td>0.414560</td>\n",
       "      <td>0.255753</td>\n",
       "      <td>0.110751</td>\n",
       "      <td>0.122793</td>\n",
       "    </tr>\n",
       "    <tr>\n",
       "      <th>two</th>\n",
       "      <td>0.888759</td>\n",
       "      <td>0.521848</td>\n",
       "      <td>0.855030</td>\n",
       "      <td>0.793476</td>\n",
       "    </tr>\n",
       "    <tr>\n",
       "      <th>three</th>\n",
       "      <td>0.963937</td>\n",
       "      <td>0.645184</td>\n",
       "      <td>0.966819</td>\n",
       "      <td>0.963685</td>\n",
       "    </tr>\n",
       "    <tr>\n",
       "      <th>four</th>\n",
       "      <td>0.398633</td>\n",
       "      <td>0.124647</td>\n",
       "      <td>0.814132</td>\n",
       "      <td>0.479207</td>\n",
       "    </tr>\n",
       "    <tr>\n",
       "      <th>five</th>\n",
       "      <td>0.815946</td>\n",
       "      <td>0.066322</td>\n",
       "      <td>0.371206</td>\n",
       "      <td>0.751353</td>\n",
       "    </tr>\n",
       "    <tr>\n",
       "      <th>six</th>\n",
       "      <td>0.736489</td>\n",
       "      <td>0.467748</td>\n",
       "      <td>0.931091</td>\n",
       "      <td>0.337186</td>\n",
       "    </tr>\n",
       "  </tbody>\n",
       "</table>\n",
       "</div>"
      ],
      "text/plain": [
       "Genus         A         B         C         D\n",
       "one    0.414560  0.255753  0.110751  0.122793\n",
       "two    0.888759  0.521848  0.855030  0.793476\n",
       "three  0.963937  0.645184  0.966819  0.963685\n",
       "four   0.398633  0.124647  0.814132  0.479207\n",
       "five   0.815946  0.066322  0.371206  0.751353\n",
       "six    0.736489  0.467748  0.931091  0.337186"
      ]
     },
     "execution_count": 219,
     "metadata": {},
     "output_type": "execute_result"
    }
   ],
   "source": [
    "df"
   ]
  },
  {
   "cell_type": "code",
   "execution_count": 220,
   "metadata": {
    "collapsed": false
   },
   "outputs": [
    {
     "data": {
      "text/plain": [
       "<matplotlib.axes._subplots.AxesSubplot at 0x7fb075be2a90>"
      ]
     },
     "execution_count": 220,
     "metadata": {},
     "output_type": "execute_result"
    }
   ],
   "source": [
    "df.plot(kind='bar')"
   ]
  },
  {
   "cell_type": "code",
   "execution_count": 223,
   "metadata": {
    "collapsed": false
   },
   "outputs": [
    {
     "data": {
      "text/plain": [
       "<matplotlib.axes._subplots.AxesSubplot at 0x7fb0759e50b8>"
      ]
     },
     "execution_count": 223,
     "metadata": {},
     "output_type": "execute_result"
    }
   ],
   "source": [
    "df.plot(kind='bar',stacked=True, alpha=0.1)"
   ]
  },
  {
   "cell_type": "code",
   "execution_count": 224,
   "metadata": {
    "collapsed": false
   },
   "outputs": [
    {
     "data": {
      "text/plain": [
       "<matplotlib.axes._subplots.AxesSubplot at 0x7fb0758ae550>"
      ]
     },
     "execution_count": 224,
     "metadata": {},
     "output_type": "execute_result"
    }
   ],
   "source": [
    "df.plot(kind='bar',stacked=True, alpha=1)"
   ]
  },
  {
   "cell_type": "code",
   "execution_count": 2,
   "metadata": {
    "collapsed": true
   },
   "outputs": [],
   "source": [
    "tips = pd.read_csv('tips.csv')"
   ]
  },
  {
   "cell_type": "code",
   "execution_count": 3,
   "metadata": {
    "collapsed": false
   },
   "outputs": [
    {
     "data": {
      "text/html": [
       "<div>\n",
       "<style>\n",
       "    .dataframe thead tr:only-child th {\n",
       "        text-align: right;\n",
       "    }\n",
       "\n",
       "    .dataframe thead th {\n",
       "        text-align: left;\n",
       "    }\n",
       "\n",
       "    .dataframe tbody tr th {\n",
       "        vertical-align: top;\n",
       "    }\n",
       "</style>\n",
       "<table border=\"1\" class=\"dataframe\">\n",
       "  <thead>\n",
       "    <tr style=\"text-align: right;\">\n",
       "      <th></th>\n",
       "      <th>total_bill</th>\n",
       "      <th>tip</th>\n",
       "      <th>sex</th>\n",
       "      <th>smoker</th>\n",
       "      <th>day</th>\n",
       "      <th>time</th>\n",
       "      <th>size</th>\n",
       "    </tr>\n",
       "  </thead>\n",
       "  <tbody>\n",
       "    <tr>\n",
       "      <th>0</th>\n",
       "      <td>16.99</td>\n",
       "      <td>1.01</td>\n",
       "      <td>Female</td>\n",
       "      <td>No</td>\n",
       "      <td>Sun</td>\n",
       "      <td>Dinner</td>\n",
       "      <td>2</td>\n",
       "    </tr>\n",
       "    <tr>\n",
       "      <th>1</th>\n",
       "      <td>10.34</td>\n",
       "      <td>1.66</td>\n",
       "      <td>Male</td>\n",
       "      <td>No</td>\n",
       "      <td>Sun</td>\n",
       "      <td>Dinner</td>\n",
       "      <td>3</td>\n",
       "    </tr>\n",
       "    <tr>\n",
       "      <th>2</th>\n",
       "      <td>21.01</td>\n",
       "      <td>3.50</td>\n",
       "      <td>Male</td>\n",
       "      <td>No</td>\n",
       "      <td>Sun</td>\n",
       "      <td>Dinner</td>\n",
       "      <td>3</td>\n",
       "    </tr>\n",
       "    <tr>\n",
       "      <th>3</th>\n",
       "      <td>23.68</td>\n",
       "      <td>3.31</td>\n",
       "      <td>Male</td>\n",
       "      <td>No</td>\n",
       "      <td>Sun</td>\n",
       "      <td>Dinner</td>\n",
       "      <td>2</td>\n",
       "    </tr>\n",
       "    <tr>\n",
       "      <th>4</th>\n",
       "      <td>24.59</td>\n",
       "      <td>3.61</td>\n",
       "      <td>Female</td>\n",
       "      <td>No</td>\n",
       "      <td>Sun</td>\n",
       "      <td>Dinner</td>\n",
       "      <td>4</td>\n",
       "    </tr>\n",
       "  </tbody>\n",
       "</table>\n",
       "</div>"
      ],
      "text/plain": [
       "   total_bill   tip     sex smoker  day    time  size\n",
       "0       16.99  1.01  Female     No  Sun  Dinner     2\n",
       "1       10.34  1.66    Male     No  Sun  Dinner     3\n",
       "2       21.01  3.50    Male     No  Sun  Dinner     3\n",
       "3       23.68  3.31    Male     No  Sun  Dinner     2\n",
       "4       24.59  3.61  Female     No  Sun  Dinner     4"
      ]
     },
     "execution_count": 3,
     "metadata": {},
     "output_type": "execute_result"
    }
   ],
   "source": [
    "tips.head()"
   ]
  },
  {
   "cell_type": "code",
   "execution_count": 4,
   "metadata": {
    "collapsed": true
   },
   "outputs": [],
   "source": [
    "tips = tips.rename(columns={'size':'gsize'})"
   ]
  },
  {
   "cell_type": "code",
   "execution_count": 5,
   "metadata": {
    "collapsed": true
   },
   "outputs": [],
   "source": [
    "party_counts = pd.crosstab(tips.day, tips.gsize)"
   ]
  },
  {
   "cell_type": "code",
   "execution_count": 6,
   "metadata": {
    "collapsed": false
   },
   "outputs": [
    {
     "data": {
      "text/html": [
       "<div>\n",
       "<style>\n",
       "    .dataframe thead tr:only-child th {\n",
       "        text-align: right;\n",
       "    }\n",
       "\n",
       "    .dataframe thead th {\n",
       "        text-align: left;\n",
       "    }\n",
       "\n",
       "    .dataframe tbody tr th {\n",
       "        vertical-align: top;\n",
       "    }\n",
       "</style>\n",
       "<table border=\"1\" class=\"dataframe\">\n",
       "  <thead>\n",
       "    <tr style=\"text-align: right;\">\n",
       "      <th>gsize</th>\n",
       "      <th>1</th>\n",
       "      <th>2</th>\n",
       "      <th>3</th>\n",
       "      <th>4</th>\n",
       "      <th>5</th>\n",
       "      <th>6</th>\n",
       "    </tr>\n",
       "    <tr>\n",
       "      <th>day</th>\n",
       "      <th></th>\n",
       "      <th></th>\n",
       "      <th></th>\n",
       "      <th></th>\n",
       "      <th></th>\n",
       "      <th></th>\n",
       "    </tr>\n",
       "  </thead>\n",
       "  <tbody>\n",
       "    <tr>\n",
       "      <th>Fri</th>\n",
       "      <td>1</td>\n",
       "      <td>16</td>\n",
       "      <td>1</td>\n",
       "      <td>1</td>\n",
       "      <td>0</td>\n",
       "      <td>0</td>\n",
       "    </tr>\n",
       "    <tr>\n",
       "      <th>Sat</th>\n",
       "      <td>2</td>\n",
       "      <td>53</td>\n",
       "      <td>18</td>\n",
       "      <td>13</td>\n",
       "      <td>1</td>\n",
       "      <td>0</td>\n",
       "    </tr>\n",
       "    <tr>\n",
       "      <th>Sun</th>\n",
       "      <td>0</td>\n",
       "      <td>39</td>\n",
       "      <td>15</td>\n",
       "      <td>18</td>\n",
       "      <td>3</td>\n",
       "      <td>1</td>\n",
       "    </tr>\n",
       "    <tr>\n",
       "      <th>Thur</th>\n",
       "      <td>1</td>\n",
       "      <td>48</td>\n",
       "      <td>4</td>\n",
       "      <td>5</td>\n",
       "      <td>1</td>\n",
       "      <td>3</td>\n",
       "    </tr>\n",
       "  </tbody>\n",
       "</table>\n",
       "</div>"
      ],
      "text/plain": [
       "gsize  1   2   3   4  5  6\n",
       "day                       \n",
       "Fri    1  16   1   1  0  0\n",
       "Sat    2  53  18  13  1  0\n",
       "Sun    0  39  15  18  3  1\n",
       "Thur   1  48   4   5  1  3"
      ]
     },
     "execution_count": 6,
     "metadata": {},
     "output_type": "execute_result"
    }
   ],
   "source": [
    "party_counts"
   ]
  },
  {
   "cell_type": "code",
   "execution_count": 7,
   "metadata": {
    "collapsed": true
   },
   "outputs": [],
   "source": [
    "party_pcts = party_counts.div(party_counts.sum(1).astype(float), axis=0)"
   ]
  },
  {
   "cell_type": "code",
   "execution_count": 8,
   "metadata": {
    "collapsed": false
   },
   "outputs": [
    {
     "data": {
      "text/html": [
       "<div>\n",
       "<style>\n",
       "    .dataframe thead tr:only-child th {\n",
       "        text-align: right;\n",
       "    }\n",
       "\n",
       "    .dataframe thead th {\n",
       "        text-align: left;\n",
       "    }\n",
       "\n",
       "    .dataframe tbody tr th {\n",
       "        vertical-align: top;\n",
       "    }\n",
       "</style>\n",
       "<table border=\"1\" class=\"dataframe\">\n",
       "  <thead>\n",
       "    <tr style=\"text-align: right;\">\n",
       "      <th>gsize</th>\n",
       "      <th>1</th>\n",
       "      <th>2</th>\n",
       "      <th>3</th>\n",
       "      <th>4</th>\n",
       "      <th>5</th>\n",
       "      <th>6</th>\n",
       "    </tr>\n",
       "    <tr>\n",
       "      <th>day</th>\n",
       "      <th></th>\n",
       "      <th></th>\n",
       "      <th></th>\n",
       "      <th></th>\n",
       "      <th></th>\n",
       "      <th></th>\n",
       "    </tr>\n",
       "  </thead>\n",
       "  <tbody>\n",
       "    <tr>\n",
       "      <th>Fri</th>\n",
       "      <td>0.052632</td>\n",
       "      <td>0.842105</td>\n",
       "      <td>0.052632</td>\n",
       "      <td>0.052632</td>\n",
       "      <td>0.000000</td>\n",
       "      <td>0.000000</td>\n",
       "    </tr>\n",
       "    <tr>\n",
       "      <th>Sat</th>\n",
       "      <td>0.022989</td>\n",
       "      <td>0.609195</td>\n",
       "      <td>0.206897</td>\n",
       "      <td>0.149425</td>\n",
       "      <td>0.011494</td>\n",
       "      <td>0.000000</td>\n",
       "    </tr>\n",
       "    <tr>\n",
       "      <th>Sun</th>\n",
       "      <td>0.000000</td>\n",
       "      <td>0.513158</td>\n",
       "      <td>0.197368</td>\n",
       "      <td>0.236842</td>\n",
       "      <td>0.039474</td>\n",
       "      <td>0.013158</td>\n",
       "    </tr>\n",
       "    <tr>\n",
       "      <th>Thur</th>\n",
       "      <td>0.016129</td>\n",
       "      <td>0.774194</td>\n",
       "      <td>0.064516</td>\n",
       "      <td>0.080645</td>\n",
       "      <td>0.016129</td>\n",
       "      <td>0.048387</td>\n",
       "    </tr>\n",
       "  </tbody>\n",
       "</table>\n",
       "</div>"
      ],
      "text/plain": [
       "gsize         1         2         3         4         5         6\n",
       "day                                                              \n",
       "Fri    0.052632  0.842105  0.052632  0.052632  0.000000  0.000000\n",
       "Sat    0.022989  0.609195  0.206897  0.149425  0.011494  0.000000\n",
       "Sun    0.000000  0.513158  0.197368  0.236842  0.039474  0.013158\n",
       "Thur   0.016129  0.774194  0.064516  0.080645  0.016129  0.048387"
      ]
     },
     "execution_count": 8,
     "metadata": {},
     "output_type": "execute_result"
    }
   ],
   "source": [
    "party_pcts"
   ]
  },
  {
   "cell_type": "code",
   "execution_count": 18,
   "metadata": {
    "collapsed": false
   },
   "outputs": [
    {
     "data": {
      "text/plain": [
       "<matplotlib.axes._subplots.AxesSubplot at 0x7f99f4da1ac8>"
      ]
     },
     "execution_count": 18,
     "metadata": {},
     "output_type": "execute_result"
    }
   ],
   "source": [
    "party_pcts.plot(kind='bar', stacked=True)"
   ]
  },
  {
   "cell_type": "markdown",
   "metadata": {},
   "source": [
    "## 直方图和密度图"
   ]
  },
  {
   "cell_type": "code",
   "execution_count": 10,
   "metadata": {
    "collapsed": true
   },
   "outputs": [],
   "source": [
    "tips['tip_pct'] = tips['tip'] / tips['total_bill'] "
   ]
  },
  {
   "cell_type": "code",
   "execution_count": 11,
   "metadata": {
    "collapsed": false
   },
   "outputs": [
    {
     "data": {
      "text/html": [
       "<div>\n",
       "<style>\n",
       "    .dataframe thead tr:only-child th {\n",
       "        text-align: right;\n",
       "    }\n",
       "\n",
       "    .dataframe thead th {\n",
       "        text-align: left;\n",
       "    }\n",
       "\n",
       "    .dataframe tbody tr th {\n",
       "        vertical-align: top;\n",
       "    }\n",
       "</style>\n",
       "<table border=\"1\" class=\"dataframe\">\n",
       "  <thead>\n",
       "    <tr style=\"text-align: right;\">\n",
       "      <th></th>\n",
       "      <th>total_bill</th>\n",
       "      <th>tip</th>\n",
       "      <th>sex</th>\n",
       "      <th>smoker</th>\n",
       "      <th>day</th>\n",
       "      <th>time</th>\n",
       "      <th>gsize</th>\n",
       "      <th>tip_pct</th>\n",
       "    </tr>\n",
       "  </thead>\n",
       "  <tbody>\n",
       "    <tr>\n",
       "      <th>0</th>\n",
       "      <td>16.99</td>\n",
       "      <td>1.01</td>\n",
       "      <td>Female</td>\n",
       "      <td>No</td>\n",
       "      <td>Sun</td>\n",
       "      <td>Dinner</td>\n",
       "      <td>2</td>\n",
       "      <td>0.059447</td>\n",
       "    </tr>\n",
       "    <tr>\n",
       "      <th>1</th>\n",
       "      <td>10.34</td>\n",
       "      <td>1.66</td>\n",
       "      <td>Male</td>\n",
       "      <td>No</td>\n",
       "      <td>Sun</td>\n",
       "      <td>Dinner</td>\n",
       "      <td>3</td>\n",
       "      <td>0.160542</td>\n",
       "    </tr>\n",
       "    <tr>\n",
       "      <th>2</th>\n",
       "      <td>21.01</td>\n",
       "      <td>3.50</td>\n",
       "      <td>Male</td>\n",
       "      <td>No</td>\n",
       "      <td>Sun</td>\n",
       "      <td>Dinner</td>\n",
       "      <td>3</td>\n",
       "      <td>0.166587</td>\n",
       "    </tr>\n",
       "    <tr>\n",
       "      <th>3</th>\n",
       "      <td>23.68</td>\n",
       "      <td>3.31</td>\n",
       "      <td>Male</td>\n",
       "      <td>No</td>\n",
       "      <td>Sun</td>\n",
       "      <td>Dinner</td>\n",
       "      <td>2</td>\n",
       "      <td>0.139780</td>\n",
       "    </tr>\n",
       "    <tr>\n",
       "      <th>4</th>\n",
       "      <td>24.59</td>\n",
       "      <td>3.61</td>\n",
       "      <td>Female</td>\n",
       "      <td>No</td>\n",
       "      <td>Sun</td>\n",
       "      <td>Dinner</td>\n",
       "      <td>4</td>\n",
       "      <td>0.146808</td>\n",
       "    </tr>\n",
       "  </tbody>\n",
       "</table>\n",
       "</div>"
      ],
      "text/plain": [
       "   total_bill   tip     sex smoker  day    time  gsize   tip_pct\n",
       "0       16.99  1.01  Female     No  Sun  Dinner      2  0.059447\n",
       "1       10.34  1.66    Male     No  Sun  Dinner      3  0.160542\n",
       "2       21.01  3.50    Male     No  Sun  Dinner      3  0.166587\n",
       "3       23.68  3.31    Male     No  Sun  Dinner      2  0.139780\n",
       "4       24.59  3.61  Female     No  Sun  Dinner      4  0.146808"
      ]
     },
     "execution_count": 11,
     "metadata": {},
     "output_type": "execute_result"
    }
   ],
   "source": [
    "tips.head()"
   ]
  },
  {
   "cell_type": "code",
   "execution_count": 12,
   "metadata": {
    "collapsed": false
   },
   "outputs": [
    {
     "data": {
      "text/plain": [
       "0.16080258172250472"
      ]
     },
     "execution_count": 12,
     "metadata": {},
     "output_type": "execute_result"
    }
   ],
   "source": [
    "tips['tip_pct'].mean()"
   ]
  },
  {
   "cell_type": "code",
   "execution_count": 13,
   "metadata": {
    "collapsed": false
   },
   "outputs": [
    {
     "data": {
      "text/plain": [
       "<matplotlib.axes._subplots.AxesSubplot at 0x7f99ff2c5198>"
      ]
     },
     "execution_count": 13,
     "metadata": {},
     "output_type": "execute_result"
    }
   ],
   "source": [
    "tips['tip_pct'].hist(bins=50)"
   ]
  },
  {
   "cell_type": "code",
   "execution_count": 20,
   "metadata": {
    "collapsed": false
   },
   "outputs": [
    {
     "data": {
      "text/plain": [
       "<matplotlib.axes._subplots.AxesSubplot at 0x7f99f4eee390>"
      ]
     },
     "execution_count": 20,
     "metadata": {},
     "output_type": "execute_result"
    }
   ],
   "source": [
    "tips['tip_pct'].plot(kind='kde')"
   ]
  },
  {
   "cell_type": "code",
   "execution_count": 21,
   "metadata": {
    "collapsed": true
   },
   "outputs": [],
   "source": [
    "com1 = np.random.normal(0, 1, size=200)"
   ]
  },
  {
   "cell_type": "code",
   "execution_count": 22,
   "metadata": {
    "collapsed": true
   },
   "outputs": [],
   "source": [
    "com2 = np.random.normal(10, 2, size=200)"
   ]
  },
  {
   "cell_type": "code",
   "execution_count": 25,
   "metadata": {
    "collapsed": true
   },
   "outputs": [],
   "source": [
    "values = Series(np.concatenate([com1, com2]))"
   ]
  },
  {
   "cell_type": "code",
   "execution_count": 29,
   "metadata": {
    "collapsed": false
   },
   "outputs": [
    {
     "data": {
      "text/plain": [
       "<matplotlib.axes._subplots.AxesSubplot at 0x7f99ef2933c8>"
      ]
     },
     "execution_count": 29,
     "metadata": {},
     "output_type": "execute_result"
    }
   ],
   "source": [
    "values.hist(bins=100, alpha=0.3, color='k', normed=True)"
   ]
  },
  {
   "cell_type": "code",
   "execution_count": 30,
   "metadata": {
    "collapsed": false
   },
   "outputs": [
    {
     "data": {
      "text/plain": [
       "<matplotlib.axes._subplots.AxesSubplot at 0x7f99ef1b9518>"
      ]
     },
     "execution_count": 30,
     "metadata": {},
     "output_type": "execute_result"
    }
   ],
   "source": [
    "values.plot(kind='kde', style='k--')"
   ]
  },
  {
   "cell_type": "markdown",
   "metadata": {},
   "source": [
    "## 散布图"
   ]
  },
  {
   "cell_type": "code",
   "execution_count": 31,
   "metadata": {
    "collapsed": true
   },
   "outputs": [],
   "source": [
    "macro = pd.read_csv('macrodata.csv')"
   ]
  },
  {
   "cell_type": "code",
   "execution_count": 32,
   "metadata": {
    "collapsed": true
   },
   "outputs": [],
   "source": [
    "data = macro[['cpi', 'm1', 'tbilrate', 'unemp']]"
   ]
  },
  {
   "cell_type": "code",
   "execution_count": 34,
   "metadata": {
    "collapsed": false
   },
   "outputs": [
    {
     "data": {
      "text/html": [
       "<div>\n",
       "<style>\n",
       "    .dataframe thead tr:only-child th {\n",
       "        text-align: right;\n",
       "    }\n",
       "\n",
       "    .dataframe thead th {\n",
       "        text-align: left;\n",
       "    }\n",
       "\n",
       "    .dataframe tbody tr th {\n",
       "        vertical-align: top;\n",
       "    }\n",
       "</style>\n",
       "<table border=\"1\" class=\"dataframe\">\n",
       "  <thead>\n",
       "    <tr style=\"text-align: right;\">\n",
       "      <th></th>\n",
       "      <th>cpi</th>\n",
       "      <th>m1</th>\n",
       "      <th>tbilrate</th>\n",
       "      <th>unemp</th>\n",
       "    </tr>\n",
       "  </thead>\n",
       "  <tbody>\n",
       "    <tr>\n",
       "      <th>0</th>\n",
       "      <td>28.98</td>\n",
       "      <td>139.7</td>\n",
       "      <td>2.82</td>\n",
       "      <td>5.8</td>\n",
       "    </tr>\n",
       "    <tr>\n",
       "      <th>1</th>\n",
       "      <td>29.15</td>\n",
       "      <td>141.7</td>\n",
       "      <td>3.08</td>\n",
       "      <td>5.1</td>\n",
       "    </tr>\n",
       "    <tr>\n",
       "      <th>2</th>\n",
       "      <td>29.35</td>\n",
       "      <td>140.5</td>\n",
       "      <td>3.82</td>\n",
       "      <td>5.3</td>\n",
       "    </tr>\n",
       "    <tr>\n",
       "      <th>3</th>\n",
       "      <td>29.37</td>\n",
       "      <td>140.0</td>\n",
       "      <td>4.33</td>\n",
       "      <td>5.6</td>\n",
       "    </tr>\n",
       "    <tr>\n",
       "      <th>4</th>\n",
       "      <td>29.54</td>\n",
       "      <td>139.6</td>\n",
       "      <td>3.50</td>\n",
       "      <td>5.2</td>\n",
       "    </tr>\n",
       "  </tbody>\n",
       "</table>\n",
       "</div>"
      ],
      "text/plain": [
       "     cpi     m1  tbilrate  unemp\n",
       "0  28.98  139.7      2.82    5.8\n",
       "1  29.15  141.7      3.08    5.1\n",
       "2  29.35  140.5      3.82    5.3\n",
       "3  29.37  140.0      4.33    5.6\n",
       "4  29.54  139.6      3.50    5.2"
      ]
     },
     "execution_count": 34,
     "metadata": {},
     "output_type": "execute_result"
    }
   ],
   "source": [
    "data.head()"
   ]
  },
  {
   "cell_type": "code",
   "execution_count": 38,
   "metadata": {
    "collapsed": true
   },
   "outputs": [],
   "source": [
    "trans_data = np.log(data).diff().dropna()"
   ]
  },
  {
   "cell_type": "code",
   "execution_count": 39,
   "metadata": {
    "collapsed": false
   },
   "outputs": [
    {
     "data": {
      "text/plain": [
       "<matplotlib.collections.PathCollection at 0x7f99ee87ccc0>"
      ]
     },
     "execution_count": 39,
     "metadata": {},
     "output_type": "execute_result"
    }
   ],
   "source": [
    "plt.scatter(trans_data['m1'], trans_data['unemp'])"
   ]
  },
  {
   "cell_type": "code",
   "execution_count": 40,
   "metadata": {
    "collapsed": false
   },
   "outputs": [
    {
     "name": "stderr",
     "output_type": "stream",
     "text": [
      "/home/zhanghui/py35/lib/python3.5/site-packages/ipykernel_launcher.py:1: FutureWarning: pandas.scatter_matrix is deprecated. Use pandas.plotting.scatter_matrix instead\n",
      "  \"\"\"Entry point for launching an IPython kernel.\n"
     ]
    },
    {
     "data": {
      "text/plain": [
       "array([[<matplotlib.axes._subplots.AxesSubplot object at 0x7f99ee88dd30>,\n",
       "        <matplotlib.axes._subplots.AxesSubplot object at 0x7f99ee849860>,\n",
       "        <matplotlib.axes._subplots.AxesSubplot object at 0x7f99ee7fba90>,\n",
       "        <matplotlib.axes._subplots.AxesSubplot object at 0x7f99ee82b6a0>],\n",
       "       [<matplotlib.axes._subplots.AxesSubplot object at 0x7f99ee7e28d0>,\n",
       "        <matplotlib.axes._subplots.AxesSubplot object at 0x7f99ee790048>,\n",
       "        <matplotlib.axes._subplots.AxesSubplot object at 0x7f99ee745470>,\n",
       "        <matplotlib.axes._subplots.AxesSubplot object at 0x7f99ee6f1b38>],\n",
       "       [<matplotlib.axes._subplots.AxesSubplot object at 0x7f99ee724f28>,\n",
       "        <matplotlib.axes._subplots.AxesSubplot object at 0x7f99ee6ccb00>,\n",
       "        <matplotlib.axes._subplots.AxesSubplot object at 0x7f99ee680f28>,\n",
       "        <matplotlib.axes._subplots.AxesSubplot object at 0x7f99ee68c320>],\n",
       "       [<matplotlib.axes._subplots.AxesSubplot object at 0x7f99ee66a438>,\n",
       "        <matplotlib.axes._subplots.AxesSubplot object at 0x7f99ee5f9e48>,\n",
       "        <matplotlib.axes._subplots.AxesSubplot object at 0x7f99ee5c9d68>,\n",
       "        <matplotlib.axes._subplots.AxesSubplot object at 0x7f99ee5820b8>]], dtype=object)"
      ]
     },
     "execution_count": 40,
     "metadata": {},
     "output_type": "execute_result"
    }
   ],
   "source": [
    "pd.scatter_matrix(trans_data, diagonal='kde', color='k', alpha=0.3)"
   ]
  },
  {
   "cell_type": "markdown",
   "metadata": {},
   "source": [
    "## 绘制地图：图形化显示海地地址危机数据"
   ]
  },
  {
   "cell_type": "code",
   "execution_count": 7,
   "metadata": {
    "collapsed": true
   },
   "outputs": [],
   "source": [
    "data  = pd.read_csv('Haiti.csv')"
   ]
  },
  {
   "cell_type": "code",
   "execution_count": 8,
   "metadata": {
    "collapsed": false
   },
   "outputs": [
    {
     "data": {
      "text/html": [
       "<div>\n",
       "<style>\n",
       "    .dataframe thead tr:only-child th {\n",
       "        text-align: right;\n",
       "    }\n",
       "\n",
       "    .dataframe thead th {\n",
       "        text-align: left;\n",
       "    }\n",
       "\n",
       "    .dataframe tbody tr th {\n",
       "        vertical-align: top;\n",
       "    }\n",
       "</style>\n",
       "<table border=\"1\" class=\"dataframe\">\n",
       "  <thead>\n",
       "    <tr style=\"text-align: right;\">\n",
       "      <th></th>\n",
       "      <th>Serial</th>\n",
       "      <th>INCIDENT TITLE</th>\n",
       "      <th>INCIDENT DATE</th>\n",
       "      <th>LOCATION</th>\n",
       "      <th>DESCRIPTION</th>\n",
       "      <th>CATEGORY</th>\n",
       "      <th>LATITUDE</th>\n",
       "      <th>LONGITUDE</th>\n",
       "      <th>APPROVED</th>\n",
       "      <th>VERIFIED</th>\n",
       "    </tr>\n",
       "  </thead>\n",
       "  <tbody>\n",
       "    <tr>\n",
       "      <th>0</th>\n",
       "      <td>4052</td>\n",
       "      <td>* URGENT * Type O blood donations needed in #J...</td>\n",
       "      <td>05/07/2010 17:26</td>\n",
       "      <td>Jacmel, Haiti</td>\n",
       "      <td>Birthing Clinic in Jacmel #Haiti urgently need...</td>\n",
       "      <td>1. Urgences | Emergency, 3. Public Health,</td>\n",
       "      <td>18.233333</td>\n",
       "      <td>-72.533333</td>\n",
       "      <td>YES</td>\n",
       "      <td>NO</td>\n",
       "    </tr>\n",
       "    <tr>\n",
       "      <th>1</th>\n",
       "      <td>4051</td>\n",
       "      <td>Food-Aid sent to Fondwa, Haiti</td>\n",
       "      <td>28/06/2010 23:06</td>\n",
       "      <td>fondwa</td>\n",
       "      <td>Please help food-aid.org deliver more food to ...</td>\n",
       "      <td>1. Urgences | Emergency, 2. Urgences logistiqu...</td>\n",
       "      <td>50.226029</td>\n",
       "      <td>5.729886</td>\n",
       "      <td>NO</td>\n",
       "      <td>NO</td>\n",
       "    </tr>\n",
       "    <tr>\n",
       "      <th>2</th>\n",
       "      <td>4050</td>\n",
       "      <td>how haiti is right now and how it was during t...</td>\n",
       "      <td>24/06/2010 16:21</td>\n",
       "      <td>centrie</td>\n",
       "      <td>i feel so bad for you i know i am supposed to ...</td>\n",
       "      <td>2. Urgences logistiques | Vital Lines, 8. Autr...</td>\n",
       "      <td>22.278381</td>\n",
       "      <td>114.174287</td>\n",
       "      <td>NO</td>\n",
       "      <td>NO</td>\n",
       "    </tr>\n",
       "    <tr>\n",
       "      <th>3</th>\n",
       "      <td>4049</td>\n",
       "      <td>Lost person</td>\n",
       "      <td>20/06/2010 21:59</td>\n",
       "      <td>Genoca</td>\n",
       "      <td>We are family members of Juan Antonio Zuniga O...</td>\n",
       "      <td>1. Urgences | Emergency,</td>\n",
       "      <td>44.407062</td>\n",
       "      <td>8.933989</td>\n",
       "      <td>NO</td>\n",
       "      <td>NO</td>\n",
       "    </tr>\n",
       "    <tr>\n",
       "      <th>4</th>\n",
       "      <td>4042</td>\n",
       "      <td>Citi Soleil school</td>\n",
       "      <td>18/05/2010 16:26</td>\n",
       "      <td>Citi Soleil, Haiti</td>\n",
       "      <td>We are working with Haitian (NGO) -The Christi...</td>\n",
       "      <td>1. Urgences | Emergency,</td>\n",
       "      <td>18.571084</td>\n",
       "      <td>-72.334671</td>\n",
       "      <td>YES</td>\n",
       "      <td>NO</td>\n",
       "    </tr>\n",
       "  </tbody>\n",
       "</table>\n",
       "</div>"
      ],
      "text/plain": [
       "   Serial                                     INCIDENT TITLE  \\\n",
       "0    4052  * URGENT * Type O blood donations needed in #J...   \n",
       "1    4051                     Food-Aid sent to Fondwa, Haiti   \n",
       "2    4050  how haiti is right now and how it was during t...   \n",
       "3    4049                                        Lost person   \n",
       "4    4042                                 Citi Soleil school   \n",
       "\n",
       "      INCIDENT DATE            LOCATION  \\\n",
       "0  05/07/2010 17:26       Jacmel, Haiti   \n",
       "1  28/06/2010 23:06              fondwa   \n",
       "2  24/06/2010 16:21             centrie   \n",
       "3  20/06/2010 21:59              Genoca   \n",
       "4  18/05/2010 16:26  Citi Soleil, Haiti   \n",
       "\n",
       "                                         DESCRIPTION  \\\n",
       "0  Birthing Clinic in Jacmel #Haiti urgently need...   \n",
       "1  Please help food-aid.org deliver more food to ...   \n",
       "2  i feel so bad for you i know i am supposed to ...   \n",
       "3  We are family members of Juan Antonio Zuniga O...   \n",
       "4  We are working with Haitian (NGO) -The Christi...   \n",
       "\n",
       "                                            CATEGORY   LATITUDE   LONGITUDE  \\\n",
       "0        1. Urgences | Emergency, 3. Public Health,   18.233333  -72.533333   \n",
       "1  1. Urgences | Emergency, 2. Urgences logistiqu...  50.226029    5.729886   \n",
       "2  2. Urgences logistiques | Vital Lines, 8. Autr...  22.278381  114.174287   \n",
       "3                          1. Urgences | Emergency,   44.407062    8.933989   \n",
       "4                          1. Urgences | Emergency,   18.571084  -72.334671   \n",
       "\n",
       "  APPROVED VERIFIED  \n",
       "0      YES       NO  \n",
       "1       NO       NO  \n",
       "2       NO       NO  \n",
       "3       NO       NO  \n",
       "4      YES       NO  "
      ]
     },
     "execution_count": 8,
     "metadata": {},
     "output_type": "execute_result"
    }
   ],
   "source": [
    "data.head()"
   ]
  },
  {
   "cell_type": "code",
   "execution_count": 9,
   "metadata": {
    "collapsed": false
   },
   "outputs": [
    {
     "data": {
      "text/html": [
       "<div>\n",
       "<style>\n",
       "    .dataframe thead tr:only-child th {\n",
       "        text-align: right;\n",
       "    }\n",
       "\n",
       "    .dataframe thead th {\n",
       "        text-align: left;\n",
       "    }\n",
       "\n",
       "    .dataframe tbody tr th {\n",
       "        vertical-align: top;\n",
       "    }\n",
       "</style>\n",
       "<table border=\"1\" class=\"dataframe\">\n",
       "  <thead>\n",
       "    <tr style=\"text-align: right;\">\n",
       "      <th></th>\n",
       "      <th>INCIDENT DATE</th>\n",
       "      <th>LATITUDE</th>\n",
       "      <th>LONGITUDE</th>\n",
       "    </tr>\n",
       "  </thead>\n",
       "  <tbody>\n",
       "    <tr>\n",
       "      <th>0</th>\n",
       "      <td>05/07/2010 17:26</td>\n",
       "      <td>18.233333</td>\n",
       "      <td>-72.533333</td>\n",
       "    </tr>\n",
       "    <tr>\n",
       "      <th>1</th>\n",
       "      <td>28/06/2010 23:06</td>\n",
       "      <td>50.226029</td>\n",
       "      <td>5.729886</td>\n",
       "    </tr>\n",
       "    <tr>\n",
       "      <th>2</th>\n",
       "      <td>24/06/2010 16:21</td>\n",
       "      <td>22.278381</td>\n",
       "      <td>114.174287</td>\n",
       "    </tr>\n",
       "    <tr>\n",
       "      <th>3</th>\n",
       "      <td>20/06/2010 21:59</td>\n",
       "      <td>44.407062</td>\n",
       "      <td>8.933989</td>\n",
       "    </tr>\n",
       "    <tr>\n",
       "      <th>4</th>\n",
       "      <td>18/05/2010 16:26</td>\n",
       "      <td>18.571084</td>\n",
       "      <td>-72.334671</td>\n",
       "    </tr>\n",
       "  </tbody>\n",
       "</table>\n",
       "</div>"
      ],
      "text/plain": [
       "      INCIDENT DATE   LATITUDE   LONGITUDE\n",
       "0  05/07/2010 17:26  18.233333  -72.533333\n",
       "1  28/06/2010 23:06  50.226029    5.729886\n",
       "2  24/06/2010 16:21  22.278381  114.174287\n",
       "3  20/06/2010 21:59  44.407062    8.933989\n",
       "4  18/05/2010 16:26  18.571084  -72.334671"
      ]
     },
     "execution_count": 9,
     "metadata": {},
     "output_type": "execute_result"
    }
   ],
   "source": [
    "data[['INCIDENT DATE', 'LATITUDE', 'LONGITUDE']].head()"
   ]
  },
  {
   "cell_type": "code",
   "execution_count": 10,
   "metadata": {
    "collapsed": false
   },
   "outputs": [
    {
     "data": {
      "text/plain": [
       "0          1. Urgences | Emergency, 3. Public Health, \n",
       "1    1. Urgences | Emergency, 2. Urgences logistiqu...\n",
       "2    2. Urgences logistiques | Vital Lines, 8. Autr...\n",
       "3                            1. Urgences | Emergency, \n",
       "4                            1. Urgences | Emergency, \n",
       "5                       5e. Communication lines down, \n",
       "Name: CATEGORY, dtype: object"
      ]
     },
     "execution_count": 10,
     "metadata": {},
     "output_type": "execute_result"
    }
   ],
   "source": [
    "data['CATEGORY'][:6]"
   ]
  },
  {
   "cell_type": "code",
   "execution_count": 11,
   "metadata": {
    "collapsed": false
   },
   "outputs": [
    {
     "data": {
      "text/html": [
       "<div>\n",
       "<style>\n",
       "    .dataframe thead tr:only-child th {\n",
       "        text-align: right;\n",
       "    }\n",
       "\n",
       "    .dataframe thead th {\n",
       "        text-align: left;\n",
       "    }\n",
       "\n",
       "    .dataframe tbody tr th {\n",
       "        vertical-align: top;\n",
       "    }\n",
       "</style>\n",
       "<table border=\"1\" class=\"dataframe\">\n",
       "  <thead>\n",
       "    <tr style=\"text-align: right;\">\n",
       "      <th></th>\n",
       "      <th>Serial</th>\n",
       "      <th>LATITUDE</th>\n",
       "      <th>LONGITUDE</th>\n",
       "    </tr>\n",
       "  </thead>\n",
       "  <tbody>\n",
       "    <tr>\n",
       "      <th>count</th>\n",
       "      <td>3593.000000</td>\n",
       "      <td>3593.000000</td>\n",
       "      <td>3593.000000</td>\n",
       "    </tr>\n",
       "    <tr>\n",
       "      <th>mean</th>\n",
       "      <td>2080.277484</td>\n",
       "      <td>18.611495</td>\n",
       "      <td>-72.322680</td>\n",
       "    </tr>\n",
       "    <tr>\n",
       "      <th>std</th>\n",
       "      <td>1171.100360</td>\n",
       "      <td>0.738572</td>\n",
       "      <td>3.650776</td>\n",
       "    </tr>\n",
       "    <tr>\n",
       "      <th>min</th>\n",
       "      <td>4.000000</td>\n",
       "      <td>18.041313</td>\n",
       "      <td>-74.452757</td>\n",
       "    </tr>\n",
       "    <tr>\n",
       "      <th>25%</th>\n",
       "      <td>1074.000000</td>\n",
       "      <td>18.524070</td>\n",
       "      <td>-72.417500</td>\n",
       "    </tr>\n",
       "    <tr>\n",
       "      <th>50%</th>\n",
       "      <td>2163.000000</td>\n",
       "      <td>18.539269</td>\n",
       "      <td>-72.335000</td>\n",
       "    </tr>\n",
       "    <tr>\n",
       "      <th>75%</th>\n",
       "      <td>3088.000000</td>\n",
       "      <td>18.561820</td>\n",
       "      <td>-72.293570</td>\n",
       "    </tr>\n",
       "    <tr>\n",
       "      <th>max</th>\n",
       "      <td>4052.000000</td>\n",
       "      <td>50.226029</td>\n",
       "      <td>114.174287</td>\n",
       "    </tr>\n",
       "  </tbody>\n",
       "</table>\n",
       "</div>"
      ],
      "text/plain": [
       "            Serial     LATITUDE    LONGITUDE\n",
       "count  3593.000000  3593.000000  3593.000000\n",
       "mean   2080.277484    18.611495   -72.322680\n",
       "std    1171.100360     0.738572     3.650776\n",
       "min       4.000000    18.041313   -74.452757\n",
       "25%    1074.000000    18.524070   -72.417500\n",
       "50%    2163.000000    18.539269   -72.335000\n",
       "75%    3088.000000    18.561820   -72.293570\n",
       "max    4052.000000    50.226029   114.174287"
      ]
     },
     "execution_count": 11,
     "metadata": {},
     "output_type": "execute_result"
    }
   ],
   "source": [
    "data.describe()"
   ]
  },
  {
   "cell_type": "code",
   "execution_count": 12,
   "metadata": {
    "collapsed": true
   },
   "outputs": [],
   "source": [
    "data = data[\n",
    "    (data.LATITUDE >18) & (data.LATITUDE <20) & (data.LONGITUDE >-75) & (data.LONGITUDE <-70)&data.CATEGORY.notnull()\n",
    "]"
   ]
  },
  {
   "cell_type": "code",
   "execution_count": 13,
   "metadata": {
    "collapsed": false
   },
   "outputs": [
    {
     "data": {
      "text/html": [
       "<div>\n",
       "<style>\n",
       "    .dataframe thead tr:only-child th {\n",
       "        text-align: right;\n",
       "    }\n",
       "\n",
       "    .dataframe thead th {\n",
       "        text-align: left;\n",
       "    }\n",
       "\n",
       "    .dataframe tbody tr th {\n",
       "        vertical-align: top;\n",
       "    }\n",
       "</style>\n",
       "<table border=\"1\" class=\"dataframe\">\n",
       "  <thead>\n",
       "    <tr style=\"text-align: right;\">\n",
       "      <th></th>\n",
       "      <th>Serial</th>\n",
       "      <th>INCIDENT TITLE</th>\n",
       "      <th>INCIDENT DATE</th>\n",
       "      <th>LOCATION</th>\n",
       "      <th>DESCRIPTION</th>\n",
       "      <th>CATEGORY</th>\n",
       "      <th>LATITUDE</th>\n",
       "      <th>LONGITUDE</th>\n",
       "      <th>APPROVED</th>\n",
       "      <th>VERIFIED</th>\n",
       "    </tr>\n",
       "  </thead>\n",
       "  <tbody>\n",
       "    <tr>\n",
       "      <th>0</th>\n",
       "      <td>4052</td>\n",
       "      <td>* URGENT * Type O blood donations needed in #J...</td>\n",
       "      <td>05/07/2010 17:26</td>\n",
       "      <td>Jacmel, Haiti</td>\n",
       "      <td>Birthing Clinic in Jacmel #Haiti urgently need...</td>\n",
       "      <td>1. Urgences | Emergency, 3. Public Health,</td>\n",
       "      <td>18.233333</td>\n",
       "      <td>-72.533333</td>\n",
       "      <td>YES</td>\n",
       "      <td>NO</td>\n",
       "    </tr>\n",
       "    <tr>\n",
       "      <th>4</th>\n",
       "      <td>4042</td>\n",
       "      <td>Citi Soleil school</td>\n",
       "      <td>18/05/2010 16:26</td>\n",
       "      <td>Citi Soleil, Haiti</td>\n",
       "      <td>We are working with Haitian (NGO) -The Christi...</td>\n",
       "      <td>1. Urgences | Emergency,</td>\n",
       "      <td>18.571084</td>\n",
       "      <td>-72.334671</td>\n",
       "      <td>YES</td>\n",
       "      <td>NO</td>\n",
       "    </tr>\n",
       "    <tr>\n",
       "      <th>5</th>\n",
       "      <td>4041</td>\n",
       "      <td>Radio Commerce in Sarthe</td>\n",
       "      <td>26/04/2010 13:14</td>\n",
       "      <td>Radio Commerce Shelter, Sarthe</td>\n",
       "      <td>i'm Louinel from Sarthe. I'd to know what can ...</td>\n",
       "      <td>5e. Communication lines down,</td>\n",
       "      <td>18.593707</td>\n",
       "      <td>-72.310079</td>\n",
       "      <td>YES</td>\n",
       "      <td>NO</td>\n",
       "    </tr>\n",
       "    <tr>\n",
       "      <th>6</th>\n",
       "      <td>4040</td>\n",
       "      <td>Contaminated water in Baraderes.</td>\n",
       "      <td>26/04/2010 14:19</td>\n",
       "      <td>Marc near Baraderes</td>\n",
       "      <td>How do we treat water in areas without Pipe?\\t...</td>\n",
       "      <td>4. Menaces | Security Threats, 4e. Assainissem...</td>\n",
       "      <td>18.482800</td>\n",
       "      <td>-73.638800</td>\n",
       "      <td>YES</td>\n",
       "      <td>NO</td>\n",
       "    </tr>\n",
       "    <tr>\n",
       "      <th>7</th>\n",
       "      <td>4039</td>\n",
       "      <td>Violence at &amp;quot;arcahaie bas Saint-Ard&amp;quot;</td>\n",
       "      <td>26/04/2010 14:27</td>\n",
       "      <td>unable to find &amp;quot;arcahaie bas Saint-Ard&amp;qu...</td>\n",
       "      <td>Goodnight at (arcahaie bas Saint-Ard) 2 young ...</td>\n",
       "      <td>4. Menaces | Security Threats,</td>\n",
       "      <td>18.415000</td>\n",
       "      <td>-73.195000</td>\n",
       "      <td>YES</td>\n",
       "      <td>NO</td>\n",
       "    </tr>\n",
       "  </tbody>\n",
       "</table>\n",
       "</div>"
      ],
      "text/plain": [
       "   Serial                                     INCIDENT TITLE  \\\n",
       "0    4052  * URGENT * Type O blood donations needed in #J...   \n",
       "4    4042                                 Citi Soleil school   \n",
       "5    4041                           Radio Commerce in Sarthe   \n",
       "6    4040                   Contaminated water in Baraderes.   \n",
       "7    4039     Violence at &quot;arcahaie bas Saint-Ard&quot;   \n",
       "\n",
       "      INCIDENT DATE                                           LOCATION  \\\n",
       "0  05/07/2010 17:26                                      Jacmel, Haiti   \n",
       "4  18/05/2010 16:26                                 Citi Soleil, Haiti   \n",
       "5  26/04/2010 13:14                     Radio Commerce Shelter, Sarthe   \n",
       "6  26/04/2010 14:19                                Marc near Baraderes   \n",
       "7  26/04/2010 14:27  unable to find &quot;arcahaie bas Saint-Ard&qu...   \n",
       "\n",
       "                                         DESCRIPTION  \\\n",
       "0  Birthing Clinic in Jacmel #Haiti urgently need...   \n",
       "4  We are working with Haitian (NGO) -The Christi...   \n",
       "5  i'm Louinel from Sarthe. I'd to know what can ...   \n",
       "6  How do we treat water in areas without Pipe?\\t...   \n",
       "7  Goodnight at (arcahaie bas Saint-Ard) 2 young ...   \n",
       "\n",
       "                                            CATEGORY   LATITUDE  LONGITUDE  \\\n",
       "0        1. Urgences | Emergency, 3. Public Health,   18.233333 -72.533333   \n",
       "4                          1. Urgences | Emergency,   18.571084 -72.334671   \n",
       "5                     5e. Communication lines down,   18.593707 -72.310079   \n",
       "6  4. Menaces | Security Threats, 4e. Assainissem...  18.482800 -73.638800   \n",
       "7                    4. Menaces | Security Threats,   18.415000 -73.195000   \n",
       "\n",
       "  APPROVED VERIFIED  \n",
       "0      YES       NO  \n",
       "4      YES       NO  \n",
       "5      YES       NO  \n",
       "6      YES       NO  \n",
       "7      YES       NO  "
      ]
     },
     "execution_count": 13,
     "metadata": {},
     "output_type": "execute_result"
    }
   ],
   "source": [
    "data.head()"
   ]
  },
  {
   "cell_type": "code",
   "execution_count": 14,
   "metadata": {
    "collapsed": true
   },
   "outputs": [],
   "source": [
    "def to_cat_list(catstr):\n",
    "    stripped = (x.strip() for x in catstr.split(','))\n",
    "    return [x for x in stripped if x]"
   ]
  },
  {
   "cell_type": "code",
   "execution_count": 15,
   "metadata": {
    "collapsed": true
   },
   "outputs": [],
   "source": [
    "def get_all_categories(cat_series):\n",
    "    cat_sets = (set(to_cat_list(x)) for x in cat_series)\n",
    "    return sorted(set.union(*cat_sets))"
   ]
  },
  {
   "cell_type": "code",
   "execution_count": 16,
   "metadata": {
    "collapsed": true
   },
   "outputs": [],
   "source": [
    "def get_english(cat):\n",
    "    code ,names=cat.split('.')\n",
    "    if '|' in names:\n",
    "        names = names.split('|')[1]\n",
    "    return code , names.strip()"
   ]
  },
  {
   "cell_type": "code",
   "execution_count": 17,
   "metadata": {
    "collapsed": false
   },
   "outputs": [
    {
     "data": {
      "text/plain": [
       "('2', 'sa')"
      ]
     },
     "execution_count": 17,
     "metadata": {},
     "output_type": "execute_result"
    }
   ],
   "source": [
    "get_english('2. zhang | sa')"
   ]
  },
  {
   "cell_type": "code",
   "execution_count": 18,
   "metadata": {
    "collapsed": true
   },
   "outputs": [],
   "source": [
    "all_cats = get_all_categories(data.CATEGORY)"
   ]
  },
  {
   "cell_type": "code",
   "execution_count": 19,
   "metadata": {
    "collapsed": false
   },
   "outputs": [
    {
     "data": {
      "text/plain": [
       "['1. Urgences | Emergency',\n",
       " '1a. Highly vulnerable',\n",
       " '1b. Urgence medicale | Medical Emergency',\n",
       " '1c. Personnes prises au piege | People trapped',\n",
       " '1d. Incendie | Fire',\n",
       " '2. Urgences logistiques | Vital Lines',\n",
       " \"2a. Penurie d'aliments | Food Shortage\",\n",
       " \"2b. Penurie d'eau | Water shortage\",\n",
       " '2c. Eau contaminee | Contaminated water',\n",
       " '2c. Probleme de securite | Security Concern',\n",
       " '2d. Refuge | Shelter needed',\n",
       " '2e. Penurie de carburant | Fuel shortage',\n",
       " '2f. Sans courant | Power Outage',\n",
       " '3. Public Health',\n",
       " '3a. Infectious human disease',\n",
       " '3b. Chronic care needs',\n",
       " '3c. Besoins en materiels et medicaments | Medical equipment and supply needs',\n",
       " \"3d. OBGYN/Women's Health\",\n",
       " '3e. Psychiatric need',\n",
       " '4. Menaces | Security Threats',\n",
       " '4a. Pillage | Looting',\n",
       " '4c. Group violence',\n",
       " '4e. Assainissement eau et hygiene | Water sanitation and hygiene promotion',\n",
       " '5. Infrastructure Damage',\n",
       " '5a. Structure effondres | Collapsed structure',\n",
       " '5b. Structures a risque | Unstable Structure',\n",
       " '5c. Route barree | Road blocked',\n",
       " '5d. Compromised bridge',\n",
       " '5e. Communication lines down',\n",
       " '6. Natural Hazards',\n",
       " '6a. Deces | Deaths',\n",
       " '6b. Personnes Disparues | Missing Persons',\n",
       " '6c. Demandant de transmettre un message | Asking to forward a message',\n",
       " '6c. Seisme et repliques | Earthquake and aftershocks',\n",
       " '7. Secours | Services Available',\n",
       " \"7a. Distribution d'aliments | Food distribution point\",\n",
       " \"7b. Distribution d'eau | Water distribution point\",\n",
       " '7c. Denrees non alimentaires | Non-food aid distribution point',\n",
       " '7d. Services de sante | Hospital/Clinics Operating',\n",
       " '7g. Morgue | Human remains management',\n",
       " '7h. Deblayage de gravats | Rubble removal',\n",
       " '8. Autre | Other',\n",
       " '8a. IDP concentration',\n",
       " '8c. Price gouging',\n",
       " '8d. Recherche et sauvetage | Search and Rescue',\n",
       " '8e. Nouvelles de Personnes | Persons News',\n",
       " '8f. Other']"
      ]
     },
     "execution_count": 19,
     "metadata": {},
     "output_type": "execute_result"
    }
   ],
   "source": [
    "all_cats"
   ]
  },
  {
   "cell_type": "code",
   "execution_count": 20,
   "metadata": {
    "collapsed": true
   },
   "outputs": [],
   "source": [
    "english_mapping = dict(get_english(x) for x in all_cats)"
   ]
  },
  {
   "cell_type": "code",
   "execution_count": 21,
   "metadata": {
    "collapsed": false
   },
   "outputs": [
    {
     "data": {
      "text/plain": [
       "{'1': 'Emergency',\n",
       " '1a': 'Highly vulnerable',\n",
       " '1b': 'Medical Emergency',\n",
       " '1c': 'People trapped',\n",
       " '1d': 'Fire',\n",
       " '2': 'Vital Lines',\n",
       " '2a': 'Food Shortage',\n",
       " '2b': 'Water shortage',\n",
       " '2c': 'Security Concern',\n",
       " '2d': 'Shelter needed',\n",
       " '2e': 'Fuel shortage',\n",
       " '2f': 'Power Outage',\n",
       " '3': 'Public Health',\n",
       " '3a': 'Infectious human disease',\n",
       " '3b': 'Chronic care needs',\n",
       " '3c': 'Medical equipment and supply needs',\n",
       " '3d': \"OBGYN/Women's Health\",\n",
       " '3e': 'Psychiatric need',\n",
       " '4': 'Security Threats',\n",
       " '4a': 'Looting',\n",
       " '4c': 'Group violence',\n",
       " '4e': 'Water sanitation and hygiene promotion',\n",
       " '5': 'Infrastructure Damage',\n",
       " '5a': 'Collapsed structure',\n",
       " '5b': 'Unstable Structure',\n",
       " '5c': 'Road blocked',\n",
       " '5d': 'Compromised bridge',\n",
       " '5e': 'Communication lines down',\n",
       " '6': 'Natural Hazards',\n",
       " '6a': 'Deaths',\n",
       " '6b': 'Missing Persons',\n",
       " '6c': 'Earthquake and aftershocks',\n",
       " '7': 'Services Available',\n",
       " '7a': 'Food distribution point',\n",
       " '7b': 'Water distribution point',\n",
       " '7c': 'Non-food aid distribution point',\n",
       " '7d': 'Hospital/Clinics Operating',\n",
       " '7g': 'Human remains management',\n",
       " '7h': 'Rubble removal',\n",
       " '8': 'Other',\n",
       " '8a': 'IDP concentration',\n",
       " '8c': 'Price gouging',\n",
       " '8d': 'Search and Rescue',\n",
       " '8e': 'Persons News',\n",
       " '8f': 'Other'}"
      ]
     },
     "execution_count": 21,
     "metadata": {},
     "output_type": "execute_result"
    }
   ],
   "source": [
    "english_mapping"
   ]
  },
  {
   "cell_type": "code",
   "execution_count": 22,
   "metadata": {
    "collapsed": true
   },
   "outputs": [],
   "source": [
    "def get_code(seq):\n",
    "    return [x.split('.')[0] for x in seq if x]"
   ]
  },
  {
   "cell_type": "code",
   "execution_count": 23,
   "metadata": {
    "collapsed": true
   },
   "outputs": [],
   "source": [
    "all_codes = get_code(all_cats)"
   ]
  },
  {
   "cell_type": "code",
   "execution_count": 24,
   "metadata": {
    "collapsed": false
   },
   "outputs": [
    {
     "data": {
      "text/plain": [
       "['1',\n",
       " '1a',\n",
       " '1b',\n",
       " '1c',\n",
       " '1d',\n",
       " '2',\n",
       " '2a',\n",
       " '2b',\n",
       " '2c',\n",
       " '2c',\n",
       " '2d',\n",
       " '2e',\n",
       " '2f',\n",
       " '3',\n",
       " '3a',\n",
       " '3b',\n",
       " '3c',\n",
       " '3d',\n",
       " '3e',\n",
       " '4',\n",
       " '4a',\n",
       " '4c',\n",
       " '4e',\n",
       " '5',\n",
       " '5a',\n",
       " '5b',\n",
       " '5c',\n",
       " '5d',\n",
       " '5e',\n",
       " '6',\n",
       " '6a',\n",
       " '6b',\n",
       " '6c',\n",
       " '6c',\n",
       " '7',\n",
       " '7a',\n",
       " '7b',\n",
       " '7c',\n",
       " '7d',\n",
       " '7g',\n",
       " '7h',\n",
       " '8',\n",
       " '8a',\n",
       " '8c',\n",
       " '8d',\n",
       " '8e',\n",
       " '8f']"
      ]
     },
     "execution_count": 24,
     "metadata": {},
     "output_type": "execute_result"
    }
   ],
   "source": [
    "all_codes"
   ]
  },
  {
   "cell_type": "code",
   "execution_count": 25,
   "metadata": {
    "collapsed": true
   },
   "outputs": [],
   "source": [
    "code_index = pd.Index(np.unique(all_codes))"
   ]
  },
  {
   "cell_type": "code",
   "execution_count": 26,
   "metadata": {
    "collapsed": true
   },
   "outputs": [],
   "source": [
    "code_index= pd.Index(set(all_codes))"
   ]
  },
  {
   "cell_type": "code",
   "execution_count": 27,
   "metadata": {
    "collapsed": true
   },
   "outputs": [],
   "source": [
    "dummy_df = DataFrame(np.zeros((len(data),len(code_index))), index= data.index,\n",
    "                    columns = code_index\n",
    "                    )"
   ]
  },
  {
   "cell_type": "code",
   "execution_count": 28,
   "metadata": {
    "collapsed": false
   },
   "outputs": [
    {
     "data": {
      "text/html": [
       "<div>\n",
       "<style>\n",
       "    .dataframe thead tr:only-child th {\n",
       "        text-align: right;\n",
       "    }\n",
       "\n",
       "    .dataframe thead th {\n",
       "        text-align: left;\n",
       "    }\n",
       "\n",
       "    .dataframe tbody tr th {\n",
       "        vertical-align: top;\n",
       "    }\n",
       "</style>\n",
       "<table border=\"1\" class=\"dataframe\">\n",
       "  <thead>\n",
       "    <tr style=\"text-align: right;\">\n",
       "      <th></th>\n",
       "      <th>8f</th>\n",
       "      <th>1a</th>\n",
       "      <th>4c</th>\n",
       "      <th>2</th>\n",
       "      <th>7a</th>\n",
       "      <th>7h</th>\n",
       "      <th>4e</th>\n",
       "      <th>8e</th>\n",
       "      <th>8</th>\n",
       "      <th>1d</th>\n",
       "      <th>...</th>\n",
       "      <th>3</th>\n",
       "      <th>2f</th>\n",
       "      <th>5b</th>\n",
       "      <th>2b</th>\n",
       "      <th>7d</th>\n",
       "      <th>4a</th>\n",
       "      <th>2e</th>\n",
       "      <th>2d</th>\n",
       "      <th>5</th>\n",
       "      <th>2a</th>\n",
       "    </tr>\n",
       "  </thead>\n",
       "  <tbody>\n",
       "    <tr>\n",
       "      <th>0</th>\n",
       "      <td>0.0</td>\n",
       "      <td>0.0</td>\n",
       "      <td>0.0</td>\n",
       "      <td>0.0</td>\n",
       "      <td>0.0</td>\n",
       "      <td>0.0</td>\n",
       "      <td>0.0</td>\n",
       "      <td>0.0</td>\n",
       "      <td>0.0</td>\n",
       "      <td>0.0</td>\n",
       "      <td>...</td>\n",
       "      <td>0.0</td>\n",
       "      <td>0.0</td>\n",
       "      <td>0.0</td>\n",
       "      <td>0.0</td>\n",
       "      <td>0.0</td>\n",
       "      <td>0.0</td>\n",
       "      <td>0.0</td>\n",
       "      <td>0.0</td>\n",
       "      <td>0.0</td>\n",
       "      <td>0.0</td>\n",
       "    </tr>\n",
       "    <tr>\n",
       "      <th>4</th>\n",
       "      <td>0.0</td>\n",
       "      <td>0.0</td>\n",
       "      <td>0.0</td>\n",
       "      <td>0.0</td>\n",
       "      <td>0.0</td>\n",
       "      <td>0.0</td>\n",
       "      <td>0.0</td>\n",
       "      <td>0.0</td>\n",
       "      <td>0.0</td>\n",
       "      <td>0.0</td>\n",
       "      <td>...</td>\n",
       "      <td>0.0</td>\n",
       "      <td>0.0</td>\n",
       "      <td>0.0</td>\n",
       "      <td>0.0</td>\n",
       "      <td>0.0</td>\n",
       "      <td>0.0</td>\n",
       "      <td>0.0</td>\n",
       "      <td>0.0</td>\n",
       "      <td>0.0</td>\n",
       "      <td>0.0</td>\n",
       "    </tr>\n",
       "    <tr>\n",
       "      <th>5</th>\n",
       "      <td>0.0</td>\n",
       "      <td>0.0</td>\n",
       "      <td>0.0</td>\n",
       "      <td>0.0</td>\n",
       "      <td>0.0</td>\n",
       "      <td>0.0</td>\n",
       "      <td>0.0</td>\n",
       "      <td>0.0</td>\n",
       "      <td>0.0</td>\n",
       "      <td>0.0</td>\n",
       "      <td>...</td>\n",
       "      <td>0.0</td>\n",
       "      <td>0.0</td>\n",
       "      <td>0.0</td>\n",
       "      <td>0.0</td>\n",
       "      <td>0.0</td>\n",
       "      <td>0.0</td>\n",
       "      <td>0.0</td>\n",
       "      <td>0.0</td>\n",
       "      <td>0.0</td>\n",
       "      <td>0.0</td>\n",
       "    </tr>\n",
       "    <tr>\n",
       "      <th>6</th>\n",
       "      <td>0.0</td>\n",
       "      <td>0.0</td>\n",
       "      <td>0.0</td>\n",
       "      <td>0.0</td>\n",
       "      <td>0.0</td>\n",
       "      <td>0.0</td>\n",
       "      <td>0.0</td>\n",
       "      <td>0.0</td>\n",
       "      <td>0.0</td>\n",
       "      <td>0.0</td>\n",
       "      <td>...</td>\n",
       "      <td>0.0</td>\n",
       "      <td>0.0</td>\n",
       "      <td>0.0</td>\n",
       "      <td>0.0</td>\n",
       "      <td>0.0</td>\n",
       "      <td>0.0</td>\n",
       "      <td>0.0</td>\n",
       "      <td>0.0</td>\n",
       "      <td>0.0</td>\n",
       "      <td>0.0</td>\n",
       "    </tr>\n",
       "    <tr>\n",
       "      <th>7</th>\n",
       "      <td>0.0</td>\n",
       "      <td>0.0</td>\n",
       "      <td>0.0</td>\n",
       "      <td>0.0</td>\n",
       "      <td>0.0</td>\n",
       "      <td>0.0</td>\n",
       "      <td>0.0</td>\n",
       "      <td>0.0</td>\n",
       "      <td>0.0</td>\n",
       "      <td>0.0</td>\n",
       "      <td>...</td>\n",
       "      <td>0.0</td>\n",
       "      <td>0.0</td>\n",
       "      <td>0.0</td>\n",
       "      <td>0.0</td>\n",
       "      <td>0.0</td>\n",
       "      <td>0.0</td>\n",
       "      <td>0.0</td>\n",
       "      <td>0.0</td>\n",
       "      <td>0.0</td>\n",
       "      <td>0.0</td>\n",
       "    </tr>\n",
       "  </tbody>\n",
       "</table>\n",
       "<p>5 rows × 45 columns</p>\n",
       "</div>"
      ],
      "text/plain": [
       "    8f   1a   4c    2   7a   7h   4e   8e    8   1d ...     3   2f   5b   2b  \\\n",
       "0  0.0  0.0  0.0  0.0  0.0  0.0  0.0  0.0  0.0  0.0 ...   0.0  0.0  0.0  0.0   \n",
       "4  0.0  0.0  0.0  0.0  0.0  0.0  0.0  0.0  0.0  0.0 ...   0.0  0.0  0.0  0.0   \n",
       "5  0.0  0.0  0.0  0.0  0.0  0.0  0.0  0.0  0.0  0.0 ...   0.0  0.0  0.0  0.0   \n",
       "6  0.0  0.0  0.0  0.0  0.0  0.0  0.0  0.0  0.0  0.0 ...   0.0  0.0  0.0  0.0   \n",
       "7  0.0  0.0  0.0  0.0  0.0  0.0  0.0  0.0  0.0  0.0 ...   0.0  0.0  0.0  0.0   \n",
       "\n",
       "    7d   4a   2e   2d    5   2a  \n",
       "0  0.0  0.0  0.0  0.0  0.0  0.0  \n",
       "4  0.0  0.0  0.0  0.0  0.0  0.0  \n",
       "5  0.0  0.0  0.0  0.0  0.0  0.0  \n",
       "6  0.0  0.0  0.0  0.0  0.0  0.0  \n",
       "7  0.0  0.0  0.0  0.0  0.0  0.0  \n",
       "\n",
       "[5 rows x 45 columns]"
      ]
     },
     "execution_count": 28,
     "metadata": {},
     "output_type": "execute_result"
    }
   ],
   "source": [
    "dummy_df.head()"
   ]
  },
  {
   "cell_type": "code",
   "execution_count": 29,
   "metadata": {
    "collapsed": true
   },
   "outputs": [],
   "source": [
    "for row ,cat in zip(data.index , data.CATEGORY):\n",
    "    codes = get_code(to_cat_list(cat))\n",
    "    dummy_df.loc[row, codes] = 1"
   ]
  },
  {
   "cell_type": "code",
   "execution_count": 30,
   "metadata": {
    "collapsed": false
   },
   "outputs": [
    {
     "data": {
      "text/html": [
       "<div>\n",
       "<style>\n",
       "    .dataframe thead tr:only-child th {\n",
       "        text-align: right;\n",
       "    }\n",
       "\n",
       "    .dataframe thead th {\n",
       "        text-align: left;\n",
       "    }\n",
       "\n",
       "    .dataframe tbody tr th {\n",
       "        vertical-align: top;\n",
       "    }\n",
       "</style>\n",
       "<table border=\"1\" class=\"dataframe\">\n",
       "  <thead>\n",
       "    <tr style=\"text-align: right;\">\n",
       "      <th></th>\n",
       "      <th>Serial</th>\n",
       "      <th>INCIDENT TITLE</th>\n",
       "      <th>INCIDENT DATE</th>\n",
       "      <th>LOCATION</th>\n",
       "      <th>DESCRIPTION</th>\n",
       "      <th>CATEGORY</th>\n",
       "      <th>LATITUDE</th>\n",
       "      <th>LONGITUDE</th>\n",
       "      <th>APPROVED</th>\n",
       "      <th>VERIFIED</th>\n",
       "      <th>...</th>\n",
       "      <th>category_3</th>\n",
       "      <th>category_2f</th>\n",
       "      <th>category_5b</th>\n",
       "      <th>category_2b</th>\n",
       "      <th>category_7d</th>\n",
       "      <th>category_4a</th>\n",
       "      <th>category_2e</th>\n",
       "      <th>category_2d</th>\n",
       "      <th>category_5</th>\n",
       "      <th>category_2a</th>\n",
       "    </tr>\n",
       "  </thead>\n",
       "  <tbody>\n",
       "    <tr>\n",
       "      <th>0</th>\n",
       "      <td>4052</td>\n",
       "      <td>* URGENT * Type O blood donations needed in #J...</td>\n",
       "      <td>05/07/2010 17:26</td>\n",
       "      <td>Jacmel, Haiti</td>\n",
       "      <td>Birthing Clinic in Jacmel #Haiti urgently need...</td>\n",
       "      <td>1. Urgences | Emergency, 3. Public Health,</td>\n",
       "      <td>18.233333</td>\n",
       "      <td>-72.533333</td>\n",
       "      <td>YES</td>\n",
       "      <td>NO</td>\n",
       "      <td>...</td>\n",
       "      <td>1.0</td>\n",
       "      <td>0.0</td>\n",
       "      <td>0.0</td>\n",
       "      <td>0.0</td>\n",
       "      <td>0.0</td>\n",
       "      <td>0.0</td>\n",
       "      <td>0.0</td>\n",
       "      <td>0.0</td>\n",
       "      <td>0.0</td>\n",
       "      <td>0.0</td>\n",
       "    </tr>\n",
       "    <tr>\n",
       "      <th>4</th>\n",
       "      <td>4042</td>\n",
       "      <td>Citi Soleil school</td>\n",
       "      <td>18/05/2010 16:26</td>\n",
       "      <td>Citi Soleil, Haiti</td>\n",
       "      <td>We are working with Haitian (NGO) -The Christi...</td>\n",
       "      <td>1. Urgences | Emergency,</td>\n",
       "      <td>18.571084</td>\n",
       "      <td>-72.334671</td>\n",
       "      <td>YES</td>\n",
       "      <td>NO</td>\n",
       "      <td>...</td>\n",
       "      <td>0.0</td>\n",
       "      <td>0.0</td>\n",
       "      <td>0.0</td>\n",
       "      <td>0.0</td>\n",
       "      <td>0.0</td>\n",
       "      <td>0.0</td>\n",
       "      <td>0.0</td>\n",
       "      <td>0.0</td>\n",
       "      <td>0.0</td>\n",
       "      <td>0.0</td>\n",
       "    </tr>\n",
       "    <tr>\n",
       "      <th>5</th>\n",
       "      <td>4041</td>\n",
       "      <td>Radio Commerce in Sarthe</td>\n",
       "      <td>26/04/2010 13:14</td>\n",
       "      <td>Radio Commerce Shelter, Sarthe</td>\n",
       "      <td>i'm Louinel from Sarthe. I'd to know what can ...</td>\n",
       "      <td>5e. Communication lines down,</td>\n",
       "      <td>18.593707</td>\n",
       "      <td>-72.310079</td>\n",
       "      <td>YES</td>\n",
       "      <td>NO</td>\n",
       "      <td>...</td>\n",
       "      <td>0.0</td>\n",
       "      <td>0.0</td>\n",
       "      <td>0.0</td>\n",
       "      <td>0.0</td>\n",
       "      <td>0.0</td>\n",
       "      <td>0.0</td>\n",
       "      <td>0.0</td>\n",
       "      <td>0.0</td>\n",
       "      <td>0.0</td>\n",
       "      <td>0.0</td>\n",
       "    </tr>\n",
       "    <tr>\n",
       "      <th>6</th>\n",
       "      <td>4040</td>\n",
       "      <td>Contaminated water in Baraderes.</td>\n",
       "      <td>26/04/2010 14:19</td>\n",
       "      <td>Marc near Baraderes</td>\n",
       "      <td>How do we treat water in areas without Pipe?\\t...</td>\n",
       "      <td>4. Menaces | Security Threats, 4e. Assainissem...</td>\n",
       "      <td>18.482800</td>\n",
       "      <td>-73.638800</td>\n",
       "      <td>YES</td>\n",
       "      <td>NO</td>\n",
       "      <td>...</td>\n",
       "      <td>0.0</td>\n",
       "      <td>0.0</td>\n",
       "      <td>0.0</td>\n",
       "      <td>0.0</td>\n",
       "      <td>0.0</td>\n",
       "      <td>0.0</td>\n",
       "      <td>0.0</td>\n",
       "      <td>0.0</td>\n",
       "      <td>0.0</td>\n",
       "      <td>0.0</td>\n",
       "    </tr>\n",
       "    <tr>\n",
       "      <th>7</th>\n",
       "      <td>4039</td>\n",
       "      <td>Violence at &amp;quot;arcahaie bas Saint-Ard&amp;quot;</td>\n",
       "      <td>26/04/2010 14:27</td>\n",
       "      <td>unable to find &amp;quot;arcahaie bas Saint-Ard&amp;qu...</td>\n",
       "      <td>Goodnight at (arcahaie bas Saint-Ard) 2 young ...</td>\n",
       "      <td>4. Menaces | Security Threats,</td>\n",
       "      <td>18.415000</td>\n",
       "      <td>-73.195000</td>\n",
       "      <td>YES</td>\n",
       "      <td>NO</td>\n",
       "      <td>...</td>\n",
       "      <td>0.0</td>\n",
       "      <td>0.0</td>\n",
       "      <td>0.0</td>\n",
       "      <td>0.0</td>\n",
       "      <td>0.0</td>\n",
       "      <td>0.0</td>\n",
       "      <td>0.0</td>\n",
       "      <td>0.0</td>\n",
       "      <td>0.0</td>\n",
       "      <td>0.0</td>\n",
       "    </tr>\n",
       "    <tr>\n",
       "      <th>8</th>\n",
       "      <td>4038</td>\n",
       "      <td>No electricity in pernier</td>\n",
       "      <td>15/03/2010 10:58</td>\n",
       "      <td>Pernier</td>\n",
       "      <td>why the people who lives in pernier doesn't fi...</td>\n",
       "      <td>2. Urgences logistiques | Vital Lines, 2f. San...</td>\n",
       "      <td>18.517443</td>\n",
       "      <td>-72.236841</td>\n",
       "      <td>YES</td>\n",
       "      <td>NO</td>\n",
       "      <td>...</td>\n",
       "      <td>0.0</td>\n",
       "      <td>1.0</td>\n",
       "      <td>0.0</td>\n",
       "      <td>0.0</td>\n",
       "      <td>0.0</td>\n",
       "      <td>0.0</td>\n",
       "      <td>0.0</td>\n",
       "      <td>0.0</td>\n",
       "      <td>0.0</td>\n",
       "      <td>0.0</td>\n",
       "    </tr>\n",
       "    <tr>\n",
       "      <th>9</th>\n",
       "      <td>4037</td>\n",
       "      <td>Shelter and food needed at Lamentin 54 and Rue...</td>\n",
       "      <td>15/03/2010 11:00</td>\n",
       "      <td>Intersection of Lamentin 54 and Rue St Juste</td>\n",
       "      <td>GOOD EVENING ONG, I'M VERY HAPPY FOR THE AID Y...</td>\n",
       "      <td>2. Urgences logistiques | Vital Lines, 2d. Ref...</td>\n",
       "      <td>18.547790</td>\n",
       "      <td>-72.410010</td>\n",
       "      <td>YES</td>\n",
       "      <td>NO</td>\n",
       "      <td>...</td>\n",
       "      <td>0.0</td>\n",
       "      <td>0.0</td>\n",
       "      <td>0.0</td>\n",
       "      <td>0.0</td>\n",
       "      <td>0.0</td>\n",
       "      <td>0.0</td>\n",
       "      <td>0.0</td>\n",
       "      <td>1.0</td>\n",
       "      <td>0.0</td>\n",
       "      <td>1.0</td>\n",
       "    </tr>\n",
       "    <tr>\n",
       "      <th>10</th>\n",
       "      <td>4036</td>\n",
       "      <td>Food needed, House collapsed in 1ere Section S...</td>\n",
       "      <td>15/03/2010 14:18</td>\n",
       "      <td>Assumed 1ere Section Salagnac and Salagnac de ...</td>\n",
       "      <td>i'm living in Nip Department, First section sa...</td>\n",
       "      <td>1a. Highly vulnerable, 2. Urgences logistiques...</td>\n",
       "      <td>18.415000</td>\n",
       "      <td>-73.195000</td>\n",
       "      <td>YES</td>\n",
       "      <td>NO</td>\n",
       "      <td>...</td>\n",
       "      <td>0.0</td>\n",
       "      <td>0.0</td>\n",
       "      <td>0.0</td>\n",
       "      <td>0.0</td>\n",
       "      <td>0.0</td>\n",
       "      <td>0.0</td>\n",
       "      <td>0.0</td>\n",
       "      <td>1.0</td>\n",
       "      <td>0.0</td>\n",
       "      <td>1.0</td>\n",
       "    </tr>\n",
       "    <tr>\n",
       "      <th>11</th>\n",
       "      <td>4035</td>\n",
       "      <td>Clogged toilet in canape vert</td>\n",
       "      <td>19/03/2010 10:19</td>\n",
       "      <td>Canape Vert</td>\n",
       "      <td>Please give the message for with the concern O...</td>\n",
       "      <td>4. Menaces | Security Threats, 4e. Assainissem...</td>\n",
       "      <td>18.539513</td>\n",
       "      <td>-72.327118</td>\n",
       "      <td>YES</td>\n",
       "      <td>NO</td>\n",
       "      <td>...</td>\n",
       "      <td>0.0</td>\n",
       "      <td>0.0</td>\n",
       "      <td>0.0</td>\n",
       "      <td>0.0</td>\n",
       "      <td>0.0</td>\n",
       "      <td>0.0</td>\n",
       "      <td>0.0</td>\n",
       "      <td>0.0</td>\n",
       "      <td>0.0</td>\n",
       "      <td>0.0</td>\n",
       "    </tr>\n",
       "    <tr>\n",
       "      <th>12</th>\n",
       "      <td>4034</td>\n",
       "      <td>Tent shelter and food needed on Lapot St. Carr...</td>\n",
       "      <td>22/03/2010 10:49</td>\n",
       "      <td>unable to find street, mapped to Carrefour</td>\n",
       "      <td>We need tent, cover, rice. Uneted Nation never...</td>\n",
       "      <td>2. Urgences logistiques | Vital Lines, 2d. Ref...</td>\n",
       "      <td>18.534260</td>\n",
       "      <td>-72.408960</td>\n",
       "      <td>YES</td>\n",
       "      <td>NO</td>\n",
       "      <td>...</td>\n",
       "      <td>0.0</td>\n",
       "      <td>0.0</td>\n",
       "      <td>0.0</td>\n",
       "      <td>0.0</td>\n",
       "      <td>0.0</td>\n",
       "      <td>0.0</td>\n",
       "      <td>0.0</td>\n",
       "      <td>1.0</td>\n",
       "      <td>0.0</td>\n",
       "      <td>1.0</td>\n",
       "    </tr>\n",
       "    <tr>\n",
       "      <th>13</th>\n",
       "      <td>4033</td>\n",
       "      <td>Help needed in Brochette</td>\n",
       "      <td>17/03/2010 13:40</td>\n",
       "      <td>Brochette 99, Brochette, west of Carrefour</td>\n",
       "      <td>We live in brochette 99, we don't find any hel...</td>\n",
       "      <td>2. Urgences logistiques | Vital Lines, 2b. Pen...</td>\n",
       "      <td>18.525190</td>\n",
       "      <td>-72.458954</td>\n",
       "      <td>YES</td>\n",
       "      <td>NO</td>\n",
       "      <td>...</td>\n",
       "      <td>0.0</td>\n",
       "      <td>0.0</td>\n",
       "      <td>0.0</td>\n",
       "      <td>1.0</td>\n",
       "      <td>0.0</td>\n",
       "      <td>0.0</td>\n",
       "      <td>0.0</td>\n",
       "      <td>0.0</td>\n",
       "      <td>0.0</td>\n",
       "      <td>1.0</td>\n",
       "    </tr>\n",
       "    <tr>\n",
       "      <th>14</th>\n",
       "      <td>4031</td>\n",
       "      <td>Victims of Sexual Assault in Champs-de-Mars Sh...</td>\n",
       "      <td>16/04/2010 14:45</td>\n",
       "      <td>provisional shleter on Champs-de-Mars</td>\n",
       "      <td>if women and children are victim of rape or ot...</td>\n",
       "      <td>3. Public Health,</td>\n",
       "      <td>18.542300</td>\n",
       "      <td>-72.336200</td>\n",
       "      <td>YES</td>\n",
       "      <td>NO</td>\n",
       "      <td>...</td>\n",
       "      <td>1.0</td>\n",
       "      <td>0.0</td>\n",
       "      <td>0.0</td>\n",
       "      <td>0.0</td>\n",
       "      <td>0.0</td>\n",
       "      <td>0.0</td>\n",
       "      <td>0.0</td>\n",
       "      <td>0.0</td>\n",
       "      <td>0.0</td>\n",
       "      <td>0.0</td>\n",
       "    </tr>\n",
       "    <tr>\n",
       "      <th>15</th>\n",
       "      <td>4030</td>\n",
       "      <td>Help needed in 1ere section, Leogane</td>\n",
       "      <td>26/04/2010 14:26</td>\n",
       "      <td>&amp;quot;corail le maire&amp;quot;  in 1st section de...</td>\n",
       "      <td>TO WHOM IT MAY CONCERN, PLEASE HELP US WE ARE ...</td>\n",
       "      <td>2. Urgences logistiques | Vital Lines,</td>\n",
       "      <td>18.499145</td>\n",
       "      <td>-72.651215</td>\n",
       "      <td>YES</td>\n",
       "      <td>NO</td>\n",
       "      <td>...</td>\n",
       "      <td>0.0</td>\n",
       "      <td>0.0</td>\n",
       "      <td>0.0</td>\n",
       "      <td>0.0</td>\n",
       "      <td>0.0</td>\n",
       "      <td>0.0</td>\n",
       "      <td>0.0</td>\n",
       "      <td>0.0</td>\n",
       "      <td>0.0</td>\n",
       "      <td>0.0</td>\n",
       "    </tr>\n",
       "    <tr>\n",
       "      <th>16</th>\n",
       "      <td>4029</td>\n",
       "      <td>Food /water  and  medicals supplies/ petit-goave</td>\n",
       "      <td>26/04/2010 12:37</td>\n",
       "      <td>petit goave</td>\n",
       "      <td>[13709949] · we are suffering in the area &amp;quo...</td>\n",
       "      <td>1. Urgences | Emergency, 7. Secours | Services...</td>\n",
       "      <td>18.426199</td>\n",
       "      <td>-72.818756</td>\n",
       "      <td>YES</td>\n",
       "      <td>NO</td>\n",
       "      <td>...</td>\n",
       "      <td>0.0</td>\n",
       "      <td>0.0</td>\n",
       "      <td>0.0</td>\n",
       "      <td>0.0</td>\n",
       "      <td>0.0</td>\n",
       "      <td>0.0</td>\n",
       "      <td>0.0</td>\n",
       "      <td>0.0</td>\n",
       "      <td>0.0</td>\n",
       "      <td>0.0</td>\n",
       "    </tr>\n",
       "    <tr>\n",
       "      <th>17</th>\n",
       "      <td>4027</td>\n",
       "      <td>Medical attention needed on Delmas 41</td>\n",
       "      <td>26/04/2010 16:12</td>\n",
       "      <td>Delmas 41</td>\n",
       "      <td>I am mikaelle I need to know where the hospita...</td>\n",
       "      <td>3. Public Health, 3b. Chronic care needs,</td>\n",
       "      <td>18.547300</td>\n",
       "      <td>-72.301000</td>\n",
       "      <td>YES</td>\n",
       "      <td>NO</td>\n",
       "      <td>...</td>\n",
       "      <td>1.0</td>\n",
       "      <td>0.0</td>\n",
       "      <td>0.0</td>\n",
       "      <td>0.0</td>\n",
       "      <td>0.0</td>\n",
       "      <td>0.0</td>\n",
       "      <td>0.0</td>\n",
       "      <td>0.0</td>\n",
       "      <td>0.0</td>\n",
       "      <td>0.0</td>\n",
       "    </tr>\n",
       "    <tr>\n",
       "      <th>18</th>\n",
       "      <td>4025</td>\n",
       "      <td>Water needed for woman and child on Delmas 72</td>\n",
       "      <td>28/01/2010 22:38</td>\n",
       "      <td>Rte Delmas 72</td>\n",
       "      <td>english:\\t\\nNeed help. I have a 1 year old chi...</td>\n",
       "      <td>2. Urgences logistiques | Vital Lines, 2b. Pen...</td>\n",
       "      <td>18.519200</td>\n",
       "      <td>-72.283100</td>\n",
       "      <td>YES</td>\n",
       "      <td>NO</td>\n",
       "      <td>...</td>\n",
       "      <td>0.0</td>\n",
       "      <td>0.0</td>\n",
       "      <td>0.0</td>\n",
       "      <td>1.0</td>\n",
       "      <td>0.0</td>\n",
       "      <td>0.0</td>\n",
       "      <td>0.0</td>\n",
       "      <td>0.0</td>\n",
       "      <td>0.0</td>\n",
       "      <td>0.0</td>\n",
       "    </tr>\n",
       "    <tr>\n",
       "      <th>19</th>\n",
       "      <td>4024</td>\n",
       "      <td>needed help on anything/ Aral road</td>\n",
       "      <td>22/01/2010 19:09</td>\n",
       "      <td>Aral road/sarthe</td>\n",
       "      <td>Nou nan Sat, nan wout Aral. Nou pa jwenn oken ...</td>\n",
       "      <td>1. Urgences | Emergency, 7. Secours | Services...</td>\n",
       "      <td>18.587030</td>\n",
       "      <td>-72.306519</td>\n",
       "      <td>YES</td>\n",
       "      <td>NO</td>\n",
       "      <td>...</td>\n",
       "      <td>0.0</td>\n",
       "      <td>0.0</td>\n",
       "      <td>0.0</td>\n",
       "      <td>0.0</td>\n",
       "      <td>0.0</td>\n",
       "      <td>0.0</td>\n",
       "      <td>0.0</td>\n",
       "      <td>0.0</td>\n",
       "      <td>0.0</td>\n",
       "      <td>0.0</td>\n",
       "    </tr>\n",
       "    <tr>\n",
       "      <th>20</th>\n",
       "      <td>4021</td>\n",
       "      <td>school materials needed in Mirebalais</td>\n",
       "      <td>27/04/2010 14:44</td>\n",
       "      <td>Mirebalais</td>\n",
       "      <td>I'm Duclervil Saintody, principal of &amp;lt;Ecole...</td>\n",
       "      <td>1. Urgences | Emergency, 2. Urgences logistiqu...</td>\n",
       "      <td>18.825717</td>\n",
       "      <td>-72.103271</td>\n",
       "      <td>YES</td>\n",
       "      <td>NO</td>\n",
       "      <td>...</td>\n",
       "      <td>0.0</td>\n",
       "      <td>0.0</td>\n",
       "      <td>0.0</td>\n",
       "      <td>0.0</td>\n",
       "      <td>0.0</td>\n",
       "      <td>0.0</td>\n",
       "      <td>0.0</td>\n",
       "      <td>0.0</td>\n",
       "      <td>0.0</td>\n",
       "      <td>1.0</td>\n",
       "    </tr>\n",
       "    <tr>\n",
       "      <th>21</th>\n",
       "      <td>4020</td>\n",
       "      <td>Shelters needed for school in Dikini.</td>\n",
       "      <td>15/02/2010 10:30</td>\n",
       "      <td>Carrefour, zone Dikini, Ecole Henri Christophe</td>\n",
       "      <td>13727217] · If i want shelter for my school it...</td>\n",
       "      <td>2. Urgences logistiques | Vital Lines, 2d. Ref...</td>\n",
       "      <td>18.539838</td>\n",
       "      <td>-72.406425</td>\n",
       "      <td>YES</td>\n",
       "      <td>NO</td>\n",
       "      <td>...</td>\n",
       "      <td>0.0</td>\n",
       "      <td>0.0</td>\n",
       "      <td>0.0</td>\n",
       "      <td>0.0</td>\n",
       "      <td>0.0</td>\n",
       "      <td>0.0</td>\n",
       "      <td>0.0</td>\n",
       "      <td>1.0</td>\n",
       "      <td>0.0</td>\n",
       "      <td>0.0</td>\n",
       "    </tr>\n",
       "    <tr>\n",
       "      <th>22</th>\n",
       "      <td>4019</td>\n",
       "      <td>Shelter needed in Leogane.</td>\n",
       "      <td>27/04/2010 17:44</td>\n",
       "      <td>Leogane, area of Mapou bissonière</td>\n",
       "      <td>I am a person in charge of site to Leogane in ...</td>\n",
       "      <td>2. Urgences logistiques | Vital Lines, 2d. Ref...</td>\n",
       "      <td>18.497843</td>\n",
       "      <td>-72.649841</td>\n",
       "      <td>YES</td>\n",
       "      <td>NO</td>\n",
       "      <td>...</td>\n",
       "      <td>0.0</td>\n",
       "      <td>0.0</td>\n",
       "      <td>0.0</td>\n",
       "      <td>0.0</td>\n",
       "      <td>0.0</td>\n",
       "      <td>0.0</td>\n",
       "      <td>0.0</td>\n",
       "      <td>1.0</td>\n",
       "      <td>0.0</td>\n",
       "      <td>0.0</td>\n",
       "    </tr>\n",
       "    <tr>\n",
       "      <th>23</th>\n",
       "      <td>4018</td>\n",
       "      <td>Eliante Valentin</td>\n",
       "      <td>03/05/2010 20:05</td>\n",
       "      <td>664 Blv. Jean Jacques Dessalines, Port-au-Prin...</td>\n",
       "      <td>SOS ! HELP! Eliante Valentin (sleeping in fron...</td>\n",
       "      <td>2d. Refuge | Shelter needed, 2a. Penurie d'ali...</td>\n",
       "      <td>18.539167</td>\n",
       "      <td>-72.335000</td>\n",
       "      <td>YES</td>\n",
       "      <td>NO</td>\n",
       "      <td>...</td>\n",
       "      <td>0.0</td>\n",
       "      <td>0.0</td>\n",
       "      <td>0.0</td>\n",
       "      <td>0.0</td>\n",
       "      <td>0.0</td>\n",
       "      <td>0.0</td>\n",
       "      <td>0.0</td>\n",
       "      <td>1.0</td>\n",
       "      <td>0.0</td>\n",
       "      <td>1.0</td>\n",
       "    </tr>\n",
       "    <tr>\n",
       "      <th>24</th>\n",
       "      <td>4010</td>\n",
       "      <td>Starvation in La Gonave</td>\n",
       "      <td>28/01/2010 10:38</td>\n",
       "      <td>There was no specific location within the Island</td>\n",
       "      <td>Please, can we still be counted as victims of ...</td>\n",
       "      <td>2. Urgences logistiques | Vital Lines, 2a. Pen...</td>\n",
       "      <td>18.829100</td>\n",
       "      <td>-73.015000</td>\n",
       "      <td>YES</td>\n",
       "      <td>NO</td>\n",
       "      <td>...</td>\n",
       "      <td>0.0</td>\n",
       "      <td>0.0</td>\n",
       "      <td>0.0</td>\n",
       "      <td>0.0</td>\n",
       "      <td>0.0</td>\n",
       "      <td>0.0</td>\n",
       "      <td>0.0</td>\n",
       "      <td>0.0</td>\n",
       "      <td>0.0</td>\n",
       "      <td>1.0</td>\n",
       "    </tr>\n",
       "    <tr>\n",
       "      <th>25</th>\n",
       "      <td>4009</td>\n",
       "      <td>children  need help, in Corail, Jeremie.</td>\n",
       "      <td>27/03/2010 15:52</td>\n",
       "      <td>Corail, Jeremie</td>\n",
       "      <td>[13727646] · Good morning, it's urgences,urgen...</td>\n",
       "      <td>1b. Urgence medicale | Medical Emergency, 2. U...</td>\n",
       "      <td>18.650000</td>\n",
       "      <td>-74.116667</td>\n",
       "      <td>YES</td>\n",
       "      <td>NO</td>\n",
       "      <td>...</td>\n",
       "      <td>0.0</td>\n",
       "      <td>0.0</td>\n",
       "      <td>0.0</td>\n",
       "      <td>1.0</td>\n",
       "      <td>1.0</td>\n",
       "      <td>0.0</td>\n",
       "      <td>0.0</td>\n",
       "      <td>0.0</td>\n",
       "      <td>0.0</td>\n",
       "      <td>1.0</td>\n",
       "    </tr>\n",
       "    <tr>\n",
       "      <th>26</th>\n",
       "      <td>4008</td>\n",
       "      <td>Water desperately needed in Delmas 3</td>\n",
       "      <td>19/04/2010 20:28</td>\n",
       "      <td>IDP camp in Delmas 3, Cite Numero Un</td>\n",
       "      <td>Please thirst is killing us in Delma 3 Idalina...</td>\n",
       "      <td>2. Urgences logistiques | Vital Lines, 2b. Pen...</td>\n",
       "      <td>18.558600</td>\n",
       "      <td>-72.321800</td>\n",
       "      <td>YES</td>\n",
       "      <td>NO</td>\n",
       "      <td>...</td>\n",
       "      <td>0.0</td>\n",
       "      <td>0.0</td>\n",
       "      <td>0.0</td>\n",
       "      <td>1.0</td>\n",
       "      <td>0.0</td>\n",
       "      <td>0.0</td>\n",
       "      <td>0.0</td>\n",
       "      <td>0.0</td>\n",
       "      <td>0.0</td>\n",
       "      <td>0.0</td>\n",
       "    </tr>\n",
       "    <tr>\n",
       "      <th>27</th>\n",
       "      <td>4007</td>\n",
       "      <td>Tent needed in Santo 6</td>\n",
       "      <td>02/04/2010 17:10</td>\n",
       "      <td>Santo 6</td>\n",
       "      <td>iv, santo 6 I would like us me messenger the g...</td>\n",
       "      <td>2. Urgences logistiques | Vital Lines, 2d. Ref...</td>\n",
       "      <td>18.602720</td>\n",
       "      <td>-72.270760</td>\n",
       "      <td>YES</td>\n",
       "      <td>NO</td>\n",
       "      <td>...</td>\n",
       "      <td>0.0</td>\n",
       "      <td>0.0</td>\n",
       "      <td>0.0</td>\n",
       "      <td>0.0</td>\n",
       "      <td>0.0</td>\n",
       "      <td>0.0</td>\n",
       "      <td>0.0</td>\n",
       "      <td>1.0</td>\n",
       "      <td>0.0</td>\n",
       "      <td>0.0</td>\n",
       "    </tr>\n",
       "    <tr>\n",
       "      <th>28</th>\n",
       "      <td>4006</td>\n",
       "      <td>Electricity needed in Marin</td>\n",
       "      <td>06/04/2010 10:34</td>\n",
       "      <td>It's not clear where &amp;quot;la plaine&amp;quot; is ...</td>\n",
       "      <td>people of the area laplaine in marin needs ele...</td>\n",
       "      <td>2. Urgences logistiques | Vital Lines, 2f. San...</td>\n",
       "      <td>18.605600</td>\n",
       "      <td>-72.282400</td>\n",
       "      <td>YES</td>\n",
       "      <td>NO</td>\n",
       "      <td>...</td>\n",
       "      <td>0.0</td>\n",
       "      <td>1.0</td>\n",
       "      <td>0.0</td>\n",
       "      <td>0.0</td>\n",
       "      <td>0.0</td>\n",
       "      <td>0.0</td>\n",
       "      <td>0.0</td>\n",
       "      <td>0.0</td>\n",
       "      <td>0.0</td>\n",
       "      <td>0.0</td>\n",
       "    </tr>\n",
       "    <tr>\n",
       "      <th>29</th>\n",
       "      <td>4005</td>\n",
       "      <td>Help needed on Delmas 9</td>\n",
       "      <td>06/04/2010 20:02</td>\n",
       "      <td>Intersection of Delmas 9 and Rue De Cosquer</td>\n",
       "      <td>Help for Delmas 9 impasse Cosquer. \\n\\nIDUshah...</td>\n",
       "      <td>2. Urgences logistiques | Vital Lines,</td>\n",
       "      <td>18.554980</td>\n",
       "      <td>-72.318580</td>\n",
       "      <td>YES</td>\n",
       "      <td>NO</td>\n",
       "      <td>...</td>\n",
       "      <td>0.0</td>\n",
       "      <td>0.0</td>\n",
       "      <td>0.0</td>\n",
       "      <td>0.0</td>\n",
       "      <td>0.0</td>\n",
       "      <td>0.0</td>\n",
       "      <td>0.0</td>\n",
       "      <td>0.0</td>\n",
       "      <td>0.0</td>\n",
       "      <td>0.0</td>\n",
       "    </tr>\n",
       "    <tr>\n",
       "      <th>30</th>\n",
       "      <td>4004</td>\n",
       "      <td>Help needed in Saint Louis du Nord</td>\n",
       "      <td>07/04/2010 09:07</td>\n",
       "      <td>Saint-Lous Du Nord</td>\n",
       "      <td>What's happen there is no help for the peoole ...</td>\n",
       "      <td>2. Urgences logistiques | Vital Lines,</td>\n",
       "      <td>19.933400</td>\n",
       "      <td>-72.720900</td>\n",
       "      <td>YES</td>\n",
       "      <td>NO</td>\n",
       "      <td>...</td>\n",
       "      <td>0.0</td>\n",
       "      <td>0.0</td>\n",
       "      <td>0.0</td>\n",
       "      <td>0.0</td>\n",
       "      <td>0.0</td>\n",
       "      <td>0.0</td>\n",
       "      <td>0.0</td>\n",
       "      <td>0.0</td>\n",
       "      <td>0.0</td>\n",
       "      <td>0.0</td>\n",
       "    </tr>\n",
       "    <tr>\n",
       "      <th>31</th>\n",
       "      <td>4003</td>\n",
       "      <td>Dust is a problem in Port-de-paix</td>\n",
       "      <td>12/04/2010 10:26</td>\n",
       "      <td>Port-de-Paix</td>\n",
       "      <td>the dust is killing us in the area of Port-de-...</td>\n",
       "      <td>6. Natural Hazards,</td>\n",
       "      <td>19.940630</td>\n",
       "      <td>-72.839700</td>\n",
       "      <td>YES</td>\n",
       "      <td>NO</td>\n",
       "      <td>...</td>\n",
       "      <td>0.0</td>\n",
       "      <td>0.0</td>\n",
       "      <td>0.0</td>\n",
       "      <td>0.0</td>\n",
       "      <td>0.0</td>\n",
       "      <td>0.0</td>\n",
       "      <td>0.0</td>\n",
       "      <td>0.0</td>\n",
       "      <td>0.0</td>\n",
       "      <td>0.0</td>\n",
       "    </tr>\n",
       "    <tr>\n",
       "      <th>32</th>\n",
       "      <td>4002</td>\n",
       "      <td>Victim needs food and shelter in Clercine 4</td>\n",
       "      <td>04/04/2010 09:29</td>\n",
       "      <td>These coordinates indicate rue Clercine, there...</td>\n",
       "      <td>I am a Victim, I'm living in Clercine 4, I nee...</td>\n",
       "      <td>2. Urgences logistiques | Vital Lines,</td>\n",
       "      <td>18.593300</td>\n",
       "      <td>-72.265400</td>\n",
       "      <td>YES</td>\n",
       "      <td>NO</td>\n",
       "      <td>...</td>\n",
       "      <td>0.0</td>\n",
       "      <td>0.0</td>\n",
       "      <td>0.0</td>\n",
       "      <td>0.0</td>\n",
       "      <td>0.0</td>\n",
       "      <td>0.0</td>\n",
       "      <td>0.0</td>\n",
       "      <td>0.0</td>\n",
       "      <td>0.0</td>\n",
       "      <td>0.0</td>\n",
       "    </tr>\n",
       "    <tr>\n",
       "      <th>...</th>\n",
       "      <td>...</td>\n",
       "      <td>...</td>\n",
       "      <td>...</td>\n",
       "      <td>...</td>\n",
       "      <td>...</td>\n",
       "      <td>...</td>\n",
       "      <td>...</td>\n",
       "      <td>...</td>\n",
       "      <td>...</td>\n",
       "      <td>...</td>\n",
       "      <td>...</td>\n",
       "      <td>...</td>\n",
       "      <td>...</td>\n",
       "      <td>...</td>\n",
       "      <td>...</td>\n",
       "      <td>...</td>\n",
       "      <td>...</td>\n",
       "      <td>...</td>\n",
       "      <td>...</td>\n",
       "      <td>...</td>\n",
       "      <td>...</td>\n",
       "    </tr>\n",
       "    <tr>\n",
       "      <th>3563</th>\n",
       "      <td>33</td>\n",
       "      <td>Buses between Les Cayes and PAP getting through</td>\n",
       "      <td>13/01/2010 03:19</td>\n",
       "      <td>Les Cayes, Haiti</td>\n",
       "      <td>Buses between Les Cayes and PAP getting throug...</td>\n",
       "      <td>8. Autre | Other,</td>\n",
       "      <td>18.190359</td>\n",
       "      <td>-73.748291</td>\n",
       "      <td>YES</td>\n",
       "      <td>YES</td>\n",
       "      <td>...</td>\n",
       "      <td>0.0</td>\n",
       "      <td>0.0</td>\n",
       "      <td>0.0</td>\n",
       "      <td>0.0</td>\n",
       "      <td>0.0</td>\n",
       "      <td>0.0</td>\n",
       "      <td>0.0</td>\n",
       "      <td>0.0</td>\n",
       "      <td>0.0</td>\n",
       "      <td>0.0</td>\n",
       "    </tr>\n",
       "    <tr>\n",
       "      <th>3564</th>\n",
       "      <td>32</td>\n",
       "      <td>Looking for UN Member</td>\n",
       "      <td>13/01/2010 02:18</td>\n",
       "      <td>port-au-prince</td>\n",
       "      <td>help!!! ask for information!\\n\\n\\ni need infor...</td>\n",
       "      <td>8e. Nouvelles de Personnes | Persons News,</td>\n",
       "      <td>18.539269</td>\n",
       "      <td>-72.336408</td>\n",
       "      <td>YES</td>\n",
       "      <td>NO</td>\n",
       "      <td>...</td>\n",
       "      <td>0.0</td>\n",
       "      <td>0.0</td>\n",
       "      <td>0.0</td>\n",
       "      <td>0.0</td>\n",
       "      <td>0.0</td>\n",
       "      <td>0.0</td>\n",
       "      <td>0.0</td>\n",
       "      <td>0.0</td>\n",
       "      <td>0.0</td>\n",
       "      <td>0.0</td>\n",
       "    </tr>\n",
       "    <tr>\n",
       "      <th>3565</th>\n",
       "      <td>31</td>\n",
       "      <td>The tax office has collapsed</td>\n",
       "      <td>13/01/2010 04:00</td>\n",
       "      <td>Port-au-Prince</td>\n",
       "      <td>&amp;quot;President Rene Preval (...) told the Mia...</td>\n",
       "      <td>1. Urgences | Emergency, 5a. Structure effondr...</td>\n",
       "      <td>18.539167</td>\n",
       "      <td>-72.335000</td>\n",
       "      <td>YES</td>\n",
       "      <td>NO</td>\n",
       "      <td>...</td>\n",
       "      <td>0.0</td>\n",
       "      <td>0.0</td>\n",
       "      <td>0.0</td>\n",
       "      <td>0.0</td>\n",
       "      <td>0.0</td>\n",
       "      <td>0.0</td>\n",
       "      <td>0.0</td>\n",
       "      <td>0.0</td>\n",
       "      <td>0.0</td>\n",
       "      <td>0.0</td>\n",
       "    </tr>\n",
       "    <tr>\n",
       "      <th>3566</th>\n",
       "      <td>30</td>\n",
       "      <td>Parliament has collapsed</td>\n",
       "      <td>13/01/2010 03:56</td>\n",
       "      <td>Port-au-Prince</td>\n",
       "      <td>&amp;quot;President Rene Preval (...) told the Mia...</td>\n",
       "      <td>1. Urgences | Emergency, 5a. Structure effondr...</td>\n",
       "      <td>18.539167</td>\n",
       "      <td>-72.335000</td>\n",
       "      <td>YES</td>\n",
       "      <td>NO</td>\n",
       "      <td>...</td>\n",
       "      <td>0.0</td>\n",
       "      <td>0.0</td>\n",
       "      <td>0.0</td>\n",
       "      <td>0.0</td>\n",
       "      <td>0.0</td>\n",
       "      <td>0.0</td>\n",
       "      <td>0.0</td>\n",
       "      <td>0.0</td>\n",
       "      <td>0.0</td>\n",
       "      <td>0.0</td>\n",
       "    </tr>\n",
       "    <tr>\n",
       "      <th>3567</th>\n",
       "      <td>29</td>\n",
       "      <td>Found - James Colin, Alourdes Thomas Colin, Xa...</td>\n",
       "      <td>13/01/2010 12:44</td>\n",
       "      <td>rue malval</td>\n",
       "      <td>#9 rue malval, turgeau.  please post updates. ...</td>\n",
       "      <td>8e. Nouvelles de Personnes | Persons News,</td>\n",
       "      <td>18.530591</td>\n",
       "      <td>-72.327731</td>\n",
       "      <td>YES</td>\n",
       "      <td>NO</td>\n",
       "      <td>...</td>\n",
       "      <td>0.0</td>\n",
       "      <td>0.0</td>\n",
       "      <td>0.0</td>\n",
       "      <td>0.0</td>\n",
       "      <td>0.0</td>\n",
       "      <td>0.0</td>\n",
       "      <td>0.0</td>\n",
       "      <td>0.0</td>\n",
       "      <td>0.0</td>\n",
       "      <td>0.0</td>\n",
       "    </tr>\n",
       "    <tr>\n",
       "      <th>3568</th>\n",
       "      <td>28</td>\n",
       "      <td>Looking for the Dorce Family</td>\n",
       "      <td>13/01/2010 12:59</td>\n",
       "      <td>tabarre, haiti</td>\n",
       "      <td>RT @saskwatch: Looking for the Dorce Family ht...</td>\n",
       "      <td>8e. Nouvelles de Personnes | Persons News,</td>\n",
       "      <td>18.583333</td>\n",
       "      <td>-72.266667</td>\n",
       "      <td>YES</td>\n",
       "      <td>NO</td>\n",
       "      <td>...</td>\n",
       "      <td>0.0</td>\n",
       "      <td>0.0</td>\n",
       "      <td>0.0</td>\n",
       "      <td>0.0</td>\n",
       "      <td>0.0</td>\n",
       "      <td>0.0</td>\n",
       "      <td>0.0</td>\n",
       "      <td>0.0</td>\n",
       "      <td>0.0</td>\n",
       "      <td>0.0</td>\n",
       "    </tr>\n",
       "    <tr>\n",
       "      <th>3569</th>\n",
       "      <td>27</td>\n",
       "      <td>Trapped in building</td>\n",
       "      <td>13/01/2010 01:31</td>\n",
       "      <td>Mont Joli-Turgeau , 8 rue Mont-Joli Turgeau</td>\n",
       "      <td>To anyone in the MontJoli-Turgeau area....Jean...</td>\n",
       "      <td>1c. Personnes prises au piege | People trapped,</td>\n",
       "      <td>18.535200</td>\n",
       "      <td>-72.332954</td>\n",
       "      <td>YES</td>\n",
       "      <td>NO</td>\n",
       "      <td>...</td>\n",
       "      <td>0.0</td>\n",
       "      <td>0.0</td>\n",
       "      <td>0.0</td>\n",
       "      <td>0.0</td>\n",
       "      <td>0.0</td>\n",
       "      <td>0.0</td>\n",
       "      <td>0.0</td>\n",
       "      <td>0.0</td>\n",
       "      <td>0.0</td>\n",
       "      <td>0.0</td>\n",
       "    </tr>\n",
       "    <tr>\n",
       "      <th>3570</th>\n",
       "      <td>26</td>\n",
       "      <td>More photos and videos of earthquake aftermath</td>\n",
       "      <td>13/01/2010 12:41</td>\n",
       "      <td>Port-au-Prince</td>\n",
       "      <td>http://www.jlaforums.com/viewtopic.php?t=20778...</td>\n",
       "      <td>8. Autre | Other,</td>\n",
       "      <td>18.539167</td>\n",
       "      <td>-72.335000</td>\n",
       "      <td>YES</td>\n",
       "      <td>NO</td>\n",
       "      <td>...</td>\n",
       "      <td>0.0</td>\n",
       "      <td>0.0</td>\n",
       "      <td>0.0</td>\n",
       "      <td>0.0</td>\n",
       "      <td>0.0</td>\n",
       "      <td>0.0</td>\n",
       "      <td>0.0</td>\n",
       "      <td>0.0</td>\n",
       "      <td>0.0</td>\n",
       "      <td>0.0</td>\n",
       "    </tr>\n",
       "    <tr>\n",
       "      <th>3571</th>\n",
       "      <td>25</td>\n",
       "      <td>Post-earthquake footage</td>\n",
       "      <td>12/01/2010 07:59</td>\n",
       "      <td>Port-Au-Prince</td>\n",
       "      <td>RT @caribnews: JUST IN: #Haiti earthquake foot...</td>\n",
       "      <td>8. Autre | Other, 6c. Seisme et repliques | Ea...</td>\n",
       "      <td>18.508912</td>\n",
       "      <td>-72.325058</td>\n",
       "      <td>YES</td>\n",
       "      <td>NO</td>\n",
       "      <td>...</td>\n",
       "      <td>0.0</td>\n",
       "      <td>0.0</td>\n",
       "      <td>0.0</td>\n",
       "      <td>0.0</td>\n",
       "      <td>0.0</td>\n",
       "      <td>0.0</td>\n",
       "      <td>0.0</td>\n",
       "      <td>0.0</td>\n",
       "      <td>0.0</td>\n",
       "      <td>0.0</td>\n",
       "    </tr>\n",
       "    <tr>\n",
       "      <th>3572</th>\n",
       "      <td>24</td>\n",
       "      <td>Earth quake SERIAL!</td>\n",
       "      <td>13/01/2010 06:33</td>\n",
       "      <td>Haiti</td>\n",
       "      <td>Yes, there was one quake 7.0 But there is an o...</td>\n",
       "      <td>6c. Seisme et repliques | Earthquake and after...</td>\n",
       "      <td>18.479609</td>\n",
       "      <td>-72.312012</td>\n",
       "      <td>YES</td>\n",
       "      <td>NO</td>\n",
       "      <td>...</td>\n",
       "      <td>0.0</td>\n",
       "      <td>0.0</td>\n",
       "      <td>0.0</td>\n",
       "      <td>0.0</td>\n",
       "      <td>0.0</td>\n",
       "      <td>0.0</td>\n",
       "      <td>0.0</td>\n",
       "      <td>0.0</td>\n",
       "      <td>0.0</td>\n",
       "      <td>0.0</td>\n",
       "    </tr>\n",
       "    <tr>\n",
       "      <th>3573</th>\n",
       "      <td>23</td>\n",
       "      <td>The National Palace, Before &amp;amp; After</td>\n",
       "      <td>13/01/2010 11:00</td>\n",
       "      <td>National Palace, Avenue de la Liberte Port-au-...</td>\n",
       "      <td>RT @AVGVST: A jarring visual - The Presidentia...</td>\n",
       "      <td>5a. Structure effondres | Collapsed structure,...</td>\n",
       "      <td>18.543012</td>\n",
       "      <td>-72.338490</td>\n",
       "      <td>YES</td>\n",
       "      <td>NO</td>\n",
       "      <td>...</td>\n",
       "      <td>0.0</td>\n",
       "      <td>0.0</td>\n",
       "      <td>1.0</td>\n",
       "      <td>0.0</td>\n",
       "      <td>0.0</td>\n",
       "      <td>0.0</td>\n",
       "      <td>0.0</td>\n",
       "      <td>0.0</td>\n",
       "      <td>0.0</td>\n",
       "      <td>0.0</td>\n",
       "    </tr>\n",
       "    <tr>\n",
       "      <th>3574</th>\n",
       "      <td>22</td>\n",
       "      <td>Over 100 UN personnel trapped in collapsed HQ</td>\n",
       "      <td>13/01/2010 11:01</td>\n",
       "      <td>UN Headquarters, Port-au-Prince</td>\n",
       "      <td>RT @zaibatsu: Over 100 #UN personnel trapped i...</td>\n",
       "      <td>5a. Structure effondres | Collapsed structure,...</td>\n",
       "      <td>18.518516</td>\n",
       "      <td>-72.300510</td>\n",
       "      <td>YES</td>\n",
       "      <td>NO</td>\n",
       "      <td>...</td>\n",
       "      <td>0.0</td>\n",
       "      <td>0.0</td>\n",
       "      <td>0.0</td>\n",
       "      <td>0.0</td>\n",
       "      <td>0.0</td>\n",
       "      <td>0.0</td>\n",
       "      <td>0.0</td>\n",
       "      <td>0.0</td>\n",
       "      <td>0.0</td>\n",
       "      <td>0.0</td>\n",
       "    </tr>\n",
       "    <tr>\n",
       "      <th>3575</th>\n",
       "      <td>21</td>\n",
       "      <td>Ruined school</td>\n",
       "      <td>13/01/2010 06:09</td>\n",
       "      <td>Jacmel</td>\n",
       "      <td>Ruined school</td>\n",
       "      <td>5a. Structure effondres | Collapsed structure,</td>\n",
       "      <td>18.234167</td>\n",
       "      <td>-72.534722</td>\n",
       "      <td>YES</td>\n",
       "      <td>NO</td>\n",
       "      <td>...</td>\n",
       "      <td>0.0</td>\n",
       "      <td>0.0</td>\n",
       "      <td>0.0</td>\n",
       "      <td>0.0</td>\n",
       "      <td>0.0</td>\n",
       "      <td>0.0</td>\n",
       "      <td>0.0</td>\n",
       "      <td>0.0</td>\n",
       "      <td>0.0</td>\n",
       "      <td>0.0</td>\n",
       "    </tr>\n",
       "    <tr>\n",
       "      <th>3576</th>\n",
       "      <td>20</td>\n",
       "      <td>PAP Airport</td>\n",
       "      <td>13/01/2010 10:53</td>\n",
       "      <td>PAP Airport, Port-Au-Prince</td>\n",
       "      <td>PAP Airport</td>\n",
       "      <td>5b. Structures a risque | Unstable Structure, ...</td>\n",
       "      <td>18.575394</td>\n",
       "      <td>-72.294710</td>\n",
       "      <td>YES</td>\n",
       "      <td>NO</td>\n",
       "      <td>...</td>\n",
       "      <td>0.0</td>\n",
       "      <td>0.0</td>\n",
       "      <td>1.0</td>\n",
       "      <td>0.0</td>\n",
       "      <td>0.0</td>\n",
       "      <td>0.0</td>\n",
       "      <td>0.0</td>\n",
       "      <td>0.0</td>\n",
       "      <td>0.0</td>\n",
       "      <td>0.0</td>\n",
       "    </tr>\n",
       "    <tr>\n",
       "      <th>3577</th>\n",
       "      <td>19</td>\n",
       "      <td>Hospital du Canape Vert</td>\n",
       "      <td>13/01/2010 10:51</td>\n",
       "      <td>Hospital du Canape Vert</td>\n",
       "      <td>Hospital providing emergency relief following ...</td>\n",
       "      <td>7d. Services de sante | Hospital/Clinics Opera...</td>\n",
       "      <td>18.533328</td>\n",
       "      <td>-72.316604</td>\n",
       "      <td>YES</td>\n",
       "      <td>YES</td>\n",
       "      <td>...</td>\n",
       "      <td>0.0</td>\n",
       "      <td>0.0</td>\n",
       "      <td>0.0</td>\n",
       "      <td>0.0</td>\n",
       "      <td>1.0</td>\n",
       "      <td>0.0</td>\n",
       "      <td>0.0</td>\n",
       "      <td>0.0</td>\n",
       "      <td>0.0</td>\n",
       "      <td>0.0</td>\n",
       "    </tr>\n",
       "    <tr>\n",
       "      <th>3578</th>\n",
       "      <td>18</td>\n",
       "      <td>Hospital Frances</td>\n",
       "      <td>13/01/2010 11:46</td>\n",
       "      <td>Port-au-Prince</td>\n",
       "      <td>Hospital providing emergency relief following ...</td>\n",
       "      <td>7d. Services de sante | Hospital/Clinics Opera...</td>\n",
       "      <td>18.537641</td>\n",
       "      <td>-72.340894</td>\n",
       "      <td>YES</td>\n",
       "      <td>NO</td>\n",
       "      <td>...</td>\n",
       "      <td>0.0</td>\n",
       "      <td>0.0</td>\n",
       "      <td>0.0</td>\n",
       "      <td>0.0</td>\n",
       "      <td>1.0</td>\n",
       "      <td>0.0</td>\n",
       "      <td>0.0</td>\n",
       "      <td>0.0</td>\n",
       "      <td>0.0</td>\n",
       "      <td>0.0</td>\n",
       "    </tr>\n",
       "    <tr>\n",
       "      <th>3579</th>\n",
       "      <td>17</td>\n",
       "      <td>Hospital Universitario De Haiti</td>\n",
       "      <td>13/01/2010 11:42</td>\n",
       "      <td>Hospital Universitario De Haiti</td>\n",
       "      <td>Hospital providing emergency relief following ...</td>\n",
       "      <td>7d. Services de sante | Hospital/Clinics Opera...</td>\n",
       "      <td>18.539675</td>\n",
       "      <td>-72.340336</td>\n",
       "      <td>YES</td>\n",
       "      <td>YES</td>\n",
       "      <td>...</td>\n",
       "      <td>0.0</td>\n",
       "      <td>0.0</td>\n",
       "      <td>0.0</td>\n",
       "      <td>0.0</td>\n",
       "      <td>1.0</td>\n",
       "      <td>0.0</td>\n",
       "      <td>0.0</td>\n",
       "      <td>0.0</td>\n",
       "      <td>0.0</td>\n",
       "      <td>0.0</td>\n",
       "    </tr>\n",
       "    <tr>\n",
       "      <th>3580</th>\n",
       "      <td>16</td>\n",
       "      <td>Magnitude 7.0, 2010 January 12 21:53:09 UTC</td>\n",
       "      <td>12/01/2010 04:53</td>\n",
       "      <td>Chauflard</td>\n",
       "      <td>Location: 18.451°N, 72.445°W\\nDepth: 10 km (6....</td>\n",
       "      <td>6c. Seisme et repliques | Earthquake and after...</td>\n",
       "      <td>18.465589</td>\n",
       "      <td>-72.412499</td>\n",
       "      <td>YES</td>\n",
       "      <td>NO</td>\n",
       "      <td>...</td>\n",
       "      <td>0.0</td>\n",
       "      <td>0.0</td>\n",
       "      <td>0.0</td>\n",
       "      <td>0.0</td>\n",
       "      <td>0.0</td>\n",
       "      <td>0.0</td>\n",
       "      <td>0.0</td>\n",
       "      <td>0.0</td>\n",
       "      <td>0.0</td>\n",
       "      <td>0.0</td>\n",
       "    </tr>\n",
       "    <tr>\n",
       "      <th>3581</th>\n",
       "      <td>15</td>\n",
       "      <td>Karibe Hotel Collapsed</td>\n",
       "      <td>13/01/2010 10:57</td>\n",
       "      <td>Karibe Hotel, Juvenat 7 Petion-Ville, HAITI (n...</td>\n",
       "      <td>The Karibe Hotel and ajoining apartments have ...</td>\n",
       "      <td>5a. Structure effondres | Collapsed structure,...</td>\n",
       "      <td>18.519330</td>\n",
       "      <td>-72.301626</td>\n",
       "      <td>YES</td>\n",
       "      <td>NO</td>\n",
       "      <td>...</td>\n",
       "      <td>0.0</td>\n",
       "      <td>0.0</td>\n",
       "      <td>0.0</td>\n",
       "      <td>0.0</td>\n",
       "      <td>0.0</td>\n",
       "      <td>0.0</td>\n",
       "      <td>0.0</td>\n",
       "      <td>0.0</td>\n",
       "      <td>0.0</td>\n",
       "      <td>0.0</td>\n",
       "    </tr>\n",
       "    <tr>\n",
       "      <th>3582</th>\n",
       "      <td>14</td>\n",
       "      <td>MSF Teams Set up Clinics to Treat Injured</td>\n",
       "      <td>13/01/2010 11:01</td>\n",
       "      <td>Port-au-Prince</td>\n",
       "      <td>The Martissant health center in a poor area of...</td>\n",
       "      <td>7d. Services de sante | Hospital/Clinics Opera...</td>\n",
       "      <td>18.553183</td>\n",
       "      <td>-72.335100</td>\n",
       "      <td>YES</td>\n",
       "      <td>NO</td>\n",
       "      <td>...</td>\n",
       "      <td>0.0</td>\n",
       "      <td>0.0</td>\n",
       "      <td>0.0</td>\n",
       "      <td>0.0</td>\n",
       "      <td>1.0</td>\n",
       "      <td>0.0</td>\n",
       "      <td>0.0</td>\n",
       "      <td>0.0</td>\n",
       "      <td>0.0</td>\n",
       "      <td>0.0</td>\n",
       "    </tr>\n",
       "    <tr>\n",
       "      <th>3583</th>\n",
       "      <td>13</td>\n",
       "      <td>Prisoners escaped from collapsed prison</td>\n",
       "      <td>13/01/2010 10:31</td>\n",
       "      <td>Pénitencier National</td>\n",
       "      <td>CNN International receiving reports from UN th...</td>\n",
       "      <td>5a. Structure effondres | Collapsed structure,...</td>\n",
       "      <td>18.539167</td>\n",
       "      <td>-72.335000</td>\n",
       "      <td>YES</td>\n",
       "      <td>NO</td>\n",
       "      <td>...</td>\n",
       "      <td>0.0</td>\n",
       "      <td>0.0</td>\n",
       "      <td>0.0</td>\n",
       "      <td>0.0</td>\n",
       "      <td>0.0</td>\n",
       "      <td>0.0</td>\n",
       "      <td>0.0</td>\n",
       "      <td>0.0</td>\n",
       "      <td>0.0</td>\n",
       "      <td>0.0</td>\n",
       "    </tr>\n",
       "    <tr>\n",
       "      <th>3584</th>\n",
       "      <td>12</td>\n",
       "      <td>Hotel Montana Collapsed</td>\n",
       "      <td>13/01/2010 09:03</td>\n",
       "      <td>Pétionville</td>\n",
       "      <td>Hotel Montana at Rue Franck Cardozo in Petionv...</td>\n",
       "      <td>5a. Structure effondres | Collapsed structure,...</td>\n",
       "      <td>18.529556</td>\n",
       "      <td>-72.337876</td>\n",
       "      <td>YES</td>\n",
       "      <td>YES</td>\n",
       "      <td>...</td>\n",
       "      <td>0.0</td>\n",
       "      <td>0.0</td>\n",
       "      <td>0.0</td>\n",
       "      <td>0.0</td>\n",
       "      <td>0.0</td>\n",
       "      <td>0.0</td>\n",
       "      <td>0.0</td>\n",
       "      <td>0.0</td>\n",
       "      <td>0.0</td>\n",
       "      <td>0.0</td>\n",
       "    </tr>\n",
       "    <tr>\n",
       "      <th>3585</th>\n",
       "      <td>11</td>\n",
       "      <td>Haiti: Earthquake - Jan 2010 / SiRep</td>\n",
       "      <td>12/01/2010 04:53</td>\n",
       "      <td>17km south-west of Port-au-Prince (18.45N, 72....</td>\n",
       "      <td>This report was issued by the Office of the Co...</td>\n",
       "      <td>6c. Seisme et repliques | Earthquake and after...</td>\n",
       "      <td>18.484819</td>\n",
       "      <td>-72.336731</td>\n",
       "      <td>YES</td>\n",
       "      <td>NO</td>\n",
       "      <td>...</td>\n",
       "      <td>0.0</td>\n",
       "      <td>0.0</td>\n",
       "      <td>0.0</td>\n",
       "      <td>0.0</td>\n",
       "      <td>0.0</td>\n",
       "      <td>0.0</td>\n",
       "      <td>0.0</td>\n",
       "      <td>0.0</td>\n",
       "      <td>0.0</td>\n",
       "      <td>0.0</td>\n",
       "    </tr>\n",
       "    <tr>\n",
       "      <th>3586</th>\n",
       "      <td>10</td>\n",
       "      <td>Photos haiti earthquake</td>\n",
       "      <td>12/01/2010 08:01</td>\n",
       "      <td>Port-au-Prince</td>\n",
       "      <td>RT @LATimesPhotos: PHOTOS Haiti earthquake htt...</td>\n",
       "      <td>1. Urgences | Emergency, 5a. Structure effondr...</td>\n",
       "      <td>18.539269</td>\n",
       "      <td>-72.336408</td>\n",
       "      <td>YES</td>\n",
       "      <td>NO</td>\n",
       "      <td>...</td>\n",
       "      <td>0.0</td>\n",
       "      <td>0.0</td>\n",
       "      <td>0.0</td>\n",
       "      <td>0.0</td>\n",
       "      <td>0.0</td>\n",
       "      <td>0.0</td>\n",
       "      <td>0.0</td>\n",
       "      <td>0.0</td>\n",
       "      <td>0.0</td>\n",
       "      <td>0.0</td>\n",
       "    </tr>\n",
       "    <tr>\n",
       "      <th>3587</th>\n",
       "      <td>9</td>\n",
       "      <td>Your Haiti earthquake photos - Washington Post</td>\n",
       "      <td>12/01/2010 07:35</td>\n",
       "      <td>port-au-prince</td>\n",
       "      <td>Photos from the Washington Post</td>\n",
       "      <td>1. Urgences | Emergency,</td>\n",
       "      <td>18.539269</td>\n",
       "      <td>-72.336408</td>\n",
       "      <td>YES</td>\n",
       "      <td>NO</td>\n",
       "      <td>...</td>\n",
       "      <td>0.0</td>\n",
       "      <td>0.0</td>\n",
       "      <td>0.0</td>\n",
       "      <td>0.0</td>\n",
       "      <td>0.0</td>\n",
       "      <td>0.0</td>\n",
       "      <td>0.0</td>\n",
       "      <td>0.0</td>\n",
       "      <td>0.0</td>\n",
       "      <td>0.0</td>\n",
       "    </tr>\n",
       "    <tr>\n",
       "      <th>3588</th>\n",
       "      <td>8</td>\n",
       "      <td>Canape Vert road destroyed</td>\n",
       "      <td>13/01/2010 02:57</td>\n",
       "      <td>Port-au-Prince</td>\n",
       "      <td>Canape Vert, one of the main roads that leads ...</td>\n",
       "      <td>5c. Route barree | Road blocked,</td>\n",
       "      <td>18.539167</td>\n",
       "      <td>-72.335000</td>\n",
       "      <td>YES</td>\n",
       "      <td>NO</td>\n",
       "      <td>...</td>\n",
       "      <td>0.0</td>\n",
       "      <td>0.0</td>\n",
       "      <td>0.0</td>\n",
       "      <td>0.0</td>\n",
       "      <td>0.0</td>\n",
       "      <td>0.0</td>\n",
       "      <td>0.0</td>\n",
       "      <td>0.0</td>\n",
       "      <td>0.0</td>\n",
       "      <td>0.0</td>\n",
       "    </tr>\n",
       "    <tr>\n",
       "      <th>3589</th>\n",
       "      <td>7</td>\n",
       "      <td>Collapsed Building -- People Trapped</td>\n",
       "      <td>12/01/2010 09:55</td>\n",
       "      <td>Delmas 19, Rue Mackendal #8 Port-au-Prince, Haiti</td>\n",
       "      <td>My mother is part of a medical team that had j...</td>\n",
       "      <td>5a. Structure effondres | Collapsed structure,...</td>\n",
       "      <td>18.539269</td>\n",
       "      <td>-72.336408</td>\n",
       "      <td>YES</td>\n",
       "      <td>NO</td>\n",
       "      <td>...</td>\n",
       "      <td>0.0</td>\n",
       "      <td>0.0</td>\n",
       "      <td>0.0</td>\n",
       "      <td>0.0</td>\n",
       "      <td>0.0</td>\n",
       "      <td>0.0</td>\n",
       "      <td>0.0</td>\n",
       "      <td>0.0</td>\n",
       "      <td>0.0</td>\n",
       "      <td>0.0</td>\n",
       "    </tr>\n",
       "    <tr>\n",
       "      <th>3590</th>\n",
       "      <td>6</td>\n",
       "      <td>Eye-Witness Report from Hotel Oloffson</td>\n",
       "      <td>12/01/2010 11:16</td>\n",
       "      <td>Ave Christophe #60, Port au Prince, Haiti</td>\n",
       "      <td>Tequila Minsky, a New York-based photographer ...</td>\n",
       "      <td>5a. Structure effondres | Collapsed structure,</td>\n",
       "      <td>18.538328</td>\n",
       "      <td>-72.333067</td>\n",
       "      <td>YES</td>\n",
       "      <td>NO</td>\n",
       "      <td>...</td>\n",
       "      <td>0.0</td>\n",
       "      <td>0.0</td>\n",
       "      <td>0.0</td>\n",
       "      <td>0.0</td>\n",
       "      <td>0.0</td>\n",
       "      <td>0.0</td>\n",
       "      <td>0.0</td>\n",
       "      <td>0.0</td>\n",
       "      <td>0.0</td>\n",
       "      <td>0.0</td>\n",
       "    </tr>\n",
       "    <tr>\n",
       "      <th>3591</th>\n",
       "      <td>5</td>\n",
       "      <td>Port-au-Prince air traffic control tower damag...</td>\n",
       "      <td>12/01/2010 04:08</td>\n",
       "      <td>Airport, Port-au-Prince, Haiti</td>\n",
       "      <td>NBC reports Port-au-Prince air traffic control...</td>\n",
       "      <td>5b. Structures a risque | Unstable Structure,</td>\n",
       "      <td>18.579721</td>\n",
       "      <td>-72.292778</td>\n",
       "      <td>YES</td>\n",
       "      <td>NO</td>\n",
       "      <td>...</td>\n",
       "      <td>0.0</td>\n",
       "      <td>0.0</td>\n",
       "      <td>1.0</td>\n",
       "      <td>0.0</td>\n",
       "      <td>0.0</td>\n",
       "      <td>0.0</td>\n",
       "      <td>0.0</td>\n",
       "      <td>0.0</td>\n",
       "      <td>0.0</td>\n",
       "      <td>0.0</td>\n",
       "    </tr>\n",
       "    <tr>\n",
       "      <th>3592</th>\n",
       "      <td>4</td>\n",
       "      <td>National Palace damaged</td>\n",
       "      <td>12/01/2010 10:43</td>\n",
       "      <td>National Palace</td>\n",
       "      <td>National Palace has extensive damage. Presiden...</td>\n",
       "      <td>5a. Structure effondres | Collapsed structure,</td>\n",
       "      <td>18.543376</td>\n",
       "      <td>-72.338883</td>\n",
       "      <td>YES</td>\n",
       "      <td>YES</td>\n",
       "      <td>...</td>\n",
       "      <td>0.0</td>\n",
       "      <td>0.0</td>\n",
       "      <td>0.0</td>\n",
       "      <td>0.0</td>\n",
       "      <td>0.0</td>\n",
       "      <td>0.0</td>\n",
       "      <td>0.0</td>\n",
       "      <td>0.0</td>\n",
       "      <td>0.0</td>\n",
       "      <td>0.0</td>\n",
       "    </tr>\n",
       "  </tbody>\n",
       "</table>\n",
       "<p>3569 rows × 55 columns</p>\n",
       "</div>"
      ],
      "text/plain": [
       "      Serial                                     INCIDENT TITLE  \\\n",
       "0       4052  * URGENT * Type O blood donations needed in #J...   \n",
       "4       4042                                 Citi Soleil school   \n",
       "5       4041                           Radio Commerce in Sarthe   \n",
       "6       4040                   Contaminated water in Baraderes.   \n",
       "7       4039     Violence at &quot;arcahaie bas Saint-Ard&quot;   \n",
       "8       4038                          No electricity in pernier   \n",
       "9       4037  Shelter and food needed at Lamentin 54 and Rue...   \n",
       "10      4036  Food needed, House collapsed in 1ere Section S...   \n",
       "11      4035                      Clogged toilet in canape vert   \n",
       "12      4034  Tent shelter and food needed on Lapot St. Carr...   \n",
       "13      4033                           Help needed in Brochette   \n",
       "14      4031  Victims of Sexual Assault in Champs-de-Mars Sh...   \n",
       "15      4030               Help needed in 1ere section, Leogane   \n",
       "16      4029   Food /water  and  medicals supplies/ petit-goave   \n",
       "17      4027              Medical attention needed on Delmas 41   \n",
       "18      4025      Water needed for woman and child on Delmas 72   \n",
       "19      4024                 needed help on anything/ Aral road   \n",
       "20      4021              school materials needed in Mirebalais   \n",
       "21      4020              Shelters needed for school in Dikini.   \n",
       "22      4019                         Shelter needed in Leogane.   \n",
       "23      4018                                   Eliante Valentin   \n",
       "24      4010                            Starvation in La Gonave   \n",
       "25      4009           children  need help, in Corail, Jeremie.   \n",
       "26      4008               Water desperately needed in Delmas 3   \n",
       "27      4007                             Tent needed in Santo 6   \n",
       "28      4006                        Electricity needed in Marin   \n",
       "29      4005                            Help needed on Delmas 9   \n",
       "30      4004                 Help needed in Saint Louis du Nord   \n",
       "31      4003                  Dust is a problem in Port-de-paix   \n",
       "32      4002        Victim needs food and shelter in Clercine 4   \n",
       "...      ...                                                ...   \n",
       "3563      33    Buses between Les Cayes and PAP getting through   \n",
       "3564      32                              Looking for UN Member   \n",
       "3565      31                       The tax office has collapsed   \n",
       "3566      30                           Parliament has collapsed   \n",
       "3567      29  Found - James Colin, Alourdes Thomas Colin, Xa...   \n",
       "3568      28                       Looking for the Dorce Family   \n",
       "3569      27                                Trapped in building   \n",
       "3570      26     More photos and videos of earthquake aftermath   \n",
       "3571      25                            Post-earthquake footage   \n",
       "3572      24                                Earth quake SERIAL!   \n",
       "3573      23            The National Palace, Before &amp; After   \n",
       "3574      22      Over 100 UN personnel trapped in collapsed HQ   \n",
       "3575      21                                      Ruined school   \n",
       "3576      20                                        PAP Airport   \n",
       "3577      19                            Hospital du Canape Vert   \n",
       "3578      18                                   Hospital Frances   \n",
       "3579      17                    Hospital Universitario De Haiti   \n",
       "3580      16        Magnitude 7.0, 2010 January 12 21:53:09 UTC   \n",
       "3581      15                             Karibe Hotel Collapsed   \n",
       "3582      14          MSF Teams Set up Clinics to Treat Injured   \n",
       "3583      13            Prisoners escaped from collapsed prison   \n",
       "3584      12                            Hotel Montana Collapsed   \n",
       "3585      11               Haiti: Earthquake - Jan 2010 / SiRep   \n",
       "3586      10                            Photos haiti earthquake   \n",
       "3587       9     Your Haiti earthquake photos - Washington Post   \n",
       "3588       8                         Canape Vert road destroyed   \n",
       "3589       7               Collapsed Building -- People Trapped   \n",
       "3590       6             Eye-Witness Report from Hotel Oloffson   \n",
       "3591       5  Port-au-Prince air traffic control tower damag...   \n",
       "3592       4                            National Palace damaged   \n",
       "\n",
       "         INCIDENT DATE                                           LOCATION  \\\n",
       "0     05/07/2010 17:26                                      Jacmel, Haiti   \n",
       "4     18/05/2010 16:26                                 Citi Soleil, Haiti   \n",
       "5     26/04/2010 13:14                     Radio Commerce Shelter, Sarthe   \n",
       "6     26/04/2010 14:19                                Marc near Baraderes   \n",
       "7     26/04/2010 14:27  unable to find &quot;arcahaie bas Saint-Ard&qu...   \n",
       "8     15/03/2010 10:58                                            Pernier   \n",
       "9     15/03/2010 11:00       Intersection of Lamentin 54 and Rue St Juste   \n",
       "10    15/03/2010 14:18  Assumed 1ere Section Salagnac and Salagnac de ...   \n",
       "11    19/03/2010 10:19                                        Canape Vert   \n",
       "12    22/03/2010 10:49         unable to find street, mapped to Carrefour   \n",
       "13    17/03/2010 13:40         Brochette 99, Brochette, west of Carrefour   \n",
       "14    16/04/2010 14:45              provisional shleter on Champs-de-Mars   \n",
       "15    26/04/2010 14:26  &quot;corail le maire&quot;  in 1st section de...   \n",
       "16    26/04/2010 12:37                                        petit goave   \n",
       "17    26/04/2010 16:12                                          Delmas 41   \n",
       "18    28/01/2010 22:38                                      Rte Delmas 72   \n",
       "19    22/01/2010 19:09                                   Aral road/sarthe   \n",
       "20    27/04/2010 14:44                                         Mirebalais   \n",
       "21    15/02/2010 10:30     Carrefour, zone Dikini, Ecole Henri Christophe   \n",
       "22    27/04/2010 17:44                  Leogane, area of Mapou bissonière   \n",
       "23    03/05/2010 20:05  664 Blv. Jean Jacques Dessalines, Port-au-Prin...   \n",
       "24    28/01/2010 10:38   There was no specific location within the Island   \n",
       "25    27/03/2010 15:52                                    Corail, Jeremie   \n",
       "26    19/04/2010 20:28               IDP camp in Delmas 3, Cite Numero Un   \n",
       "27    02/04/2010 17:10                                            Santo 6   \n",
       "28    06/04/2010 10:34  It's not clear where &quot;la plaine&quot; is ...   \n",
       "29    06/04/2010 20:02        Intersection of Delmas 9 and Rue De Cosquer   \n",
       "30    07/04/2010 09:07                                 Saint-Lous Du Nord   \n",
       "31    12/04/2010 10:26                                       Port-de-Paix   \n",
       "32    04/04/2010 09:29  These coordinates indicate rue Clercine, there...   \n",
       "...                ...                                                ...   \n",
       "3563  13/01/2010 03:19                                   Les Cayes, Haiti   \n",
       "3564  13/01/2010 02:18                                     port-au-prince   \n",
       "3565  13/01/2010 04:00                                     Port-au-Prince   \n",
       "3566  13/01/2010 03:56                                     Port-au-Prince   \n",
       "3567  13/01/2010 12:44                                         rue malval   \n",
       "3568  13/01/2010 12:59                                     tabarre, haiti   \n",
       "3569  13/01/2010 01:31        Mont Joli-Turgeau , 8 rue Mont-Joli Turgeau   \n",
       "3570  13/01/2010 12:41                                     Port-au-Prince   \n",
       "3571  12/01/2010 07:59                                     Port-Au-Prince   \n",
       "3572  13/01/2010 06:33                                              Haiti   \n",
       "3573  13/01/2010 11:00  National Palace, Avenue de la Liberte Port-au-...   \n",
       "3574  13/01/2010 11:01                    UN Headquarters, Port-au-Prince   \n",
       "3575  13/01/2010 06:09                                             Jacmel   \n",
       "3576  13/01/2010 10:53                        PAP Airport, Port-Au-Prince   \n",
       "3577  13/01/2010 10:51                            Hospital du Canape Vert   \n",
       "3578  13/01/2010 11:46                                     Port-au-Prince   \n",
       "3579  13/01/2010 11:42                    Hospital Universitario De Haiti   \n",
       "3580  12/01/2010 04:53                                          Chauflard   \n",
       "3581  13/01/2010 10:57  Karibe Hotel, Juvenat 7 Petion-Ville, HAITI (n...   \n",
       "3582  13/01/2010 11:01                                     Port-au-Prince   \n",
       "3583  13/01/2010 10:31                               Pénitencier National   \n",
       "3584  13/01/2010 09:03                                        Pétionville   \n",
       "3585  12/01/2010 04:53  17km south-west of Port-au-Prince (18.45N, 72....   \n",
       "3586  12/01/2010 08:01                                     Port-au-Prince   \n",
       "3587  12/01/2010 07:35                                     port-au-prince   \n",
       "3588  13/01/2010 02:57                                     Port-au-Prince   \n",
       "3589  12/01/2010 09:55  Delmas 19, Rue Mackendal #8 Port-au-Prince, Haiti   \n",
       "3590  12/01/2010 11:16          Ave Christophe #60, Port au Prince, Haiti   \n",
       "3591  12/01/2010 04:08                     Airport, Port-au-Prince, Haiti   \n",
       "3592  12/01/2010 10:43                                    National Palace   \n",
       "\n",
       "                                            DESCRIPTION  \\\n",
       "0     Birthing Clinic in Jacmel #Haiti urgently need...   \n",
       "4     We are working with Haitian (NGO) -The Christi...   \n",
       "5     i'm Louinel from Sarthe. I'd to know what can ...   \n",
       "6     How do we treat water in areas without Pipe?\\t...   \n",
       "7     Goodnight at (arcahaie bas Saint-Ard) 2 young ...   \n",
       "8     why the people who lives in pernier doesn't fi...   \n",
       "9     GOOD EVENING ONG, I'M VERY HAPPY FOR THE AID Y...   \n",
       "10    i'm living in Nip Department, First section sa...   \n",
       "11    Please give the message for with the concern O...   \n",
       "12    We need tent, cover, rice. Uneted Nation never...   \n",
       "13    We live in brochette 99, we don't find any hel...   \n",
       "14    if women and children are victim of rape or ot...   \n",
       "15    TO WHOM IT MAY CONCERN, PLEASE HELP US WE ARE ...   \n",
       "16    [13709949] · we are suffering in the area &quo...   \n",
       "17    I am mikaelle I need to know where the hospita...   \n",
       "18    english:\\t\\nNeed help. I have a 1 year old chi...   \n",
       "19    Nou nan Sat, nan wout Aral. Nou pa jwenn oken ...   \n",
       "20    I'm Duclervil Saintody, principal of &lt;Ecole...   \n",
       "21    13727217] · If i want shelter for my school it...   \n",
       "22    I am a person in charge of site to Leogane in ...   \n",
       "23    SOS ! HELP! Eliante Valentin (sleeping in fron...   \n",
       "24    Please, can we still be counted as victims of ...   \n",
       "25    [13727646] · Good morning, it's urgences,urgen...   \n",
       "26    Please thirst is killing us in Delma 3 Idalina...   \n",
       "27    iv, santo 6 I would like us me messenger the g...   \n",
       "28    people of the area laplaine in marin needs ele...   \n",
       "29    Help for Delmas 9 impasse Cosquer. \\n\\nIDUshah...   \n",
       "30    What's happen there is no help for the peoole ...   \n",
       "31    the dust is killing us in the area of Port-de-...   \n",
       "32    I am a Victim, I'm living in Clercine 4, I nee...   \n",
       "...                                                 ...   \n",
       "3563  Buses between Les Cayes and PAP getting throug...   \n",
       "3564  help!!! ask for information!\\n\\n\\ni need infor...   \n",
       "3565  &quot;President Rene Preval (...) told the Mia...   \n",
       "3566  &quot;President Rene Preval (...) told the Mia...   \n",
       "3567  #9 rue malval, turgeau.  please post updates. ...   \n",
       "3568  RT @saskwatch: Looking for the Dorce Family ht...   \n",
       "3569  To anyone in the MontJoli-Turgeau area....Jean...   \n",
       "3570  http://www.jlaforums.com/viewtopic.php?t=20778...   \n",
       "3571  RT @caribnews: JUST IN: #Haiti earthquake foot...   \n",
       "3572  Yes, there was one quake 7.0 But there is an o...   \n",
       "3573  RT @AVGVST: A jarring visual - The Presidentia...   \n",
       "3574  RT @zaibatsu: Over 100 #UN personnel trapped i...   \n",
       "3575                                      Ruined school   \n",
       "3576                                        PAP Airport   \n",
       "3577  Hospital providing emergency relief following ...   \n",
       "3578  Hospital providing emergency relief following ...   \n",
       "3579  Hospital providing emergency relief following ...   \n",
       "3580  Location: 18.451°N, 72.445°W\\nDepth: 10 km (6....   \n",
       "3581  The Karibe Hotel and ajoining apartments have ...   \n",
       "3582  The Martissant health center in a poor area of...   \n",
       "3583  CNN International receiving reports from UN th...   \n",
       "3584  Hotel Montana at Rue Franck Cardozo in Petionv...   \n",
       "3585  This report was issued by the Office of the Co...   \n",
       "3586  RT @LATimesPhotos: PHOTOS Haiti earthquake htt...   \n",
       "3587                    Photos from the Washington Post   \n",
       "3588  Canape Vert, one of the main roads that leads ...   \n",
       "3589  My mother is part of a medical team that had j...   \n",
       "3590  Tequila Minsky, a New York-based photographer ...   \n",
       "3591  NBC reports Port-au-Prince air traffic control...   \n",
       "3592  National Palace has extensive damage. Presiden...   \n",
       "\n",
       "                                               CATEGORY   LATITUDE  LONGITUDE  \\\n",
       "0           1. Urgences | Emergency, 3. Public Health,   18.233333 -72.533333   \n",
       "4                             1. Urgences | Emergency,   18.571084 -72.334671   \n",
       "5                        5e. Communication lines down,   18.593707 -72.310079   \n",
       "6     4. Menaces | Security Threats, 4e. Assainissem...  18.482800 -73.638800   \n",
       "7                       4. Menaces | Security Threats,   18.415000 -73.195000   \n",
       "8     2. Urgences logistiques | Vital Lines, 2f. San...  18.517443 -72.236841   \n",
       "9     2. Urgences logistiques | Vital Lines, 2d. Ref...  18.547790 -72.410010   \n",
       "10    1a. Highly vulnerable, 2. Urgences logistiques...  18.415000 -73.195000   \n",
       "11    4. Menaces | Security Threats, 4e. Assainissem...  18.539513 -72.327118   \n",
       "12    2. Urgences logistiques | Vital Lines, 2d. Ref...  18.534260 -72.408960   \n",
       "13    2. Urgences logistiques | Vital Lines, 2b. Pen...  18.525190 -72.458954   \n",
       "14                                   3. Public Health,   18.542300 -72.336200   \n",
       "15              2. Urgences logistiques | Vital Lines,   18.499145 -72.651215   \n",
       "16    1. Urgences | Emergency, 7. Secours | Services...  18.426199 -72.818756   \n",
       "17           3. Public Health, 3b. Chronic care needs,   18.547300 -72.301000   \n",
       "18    2. Urgences logistiques | Vital Lines, 2b. Pen...  18.519200 -72.283100   \n",
       "19    1. Urgences | Emergency, 7. Secours | Services...  18.587030 -72.306519   \n",
       "20    1. Urgences | Emergency, 2. Urgences logistiqu...  18.825717 -72.103271   \n",
       "21    2. Urgences logistiques | Vital Lines, 2d. Ref...  18.539838 -72.406425   \n",
       "22    2. Urgences logistiques | Vital Lines, 2d. Ref...  18.497843 -72.649841   \n",
       "23    2d. Refuge | Shelter needed, 2a. Penurie d'ali...  18.539167 -72.335000   \n",
       "24    2. Urgences logistiques | Vital Lines, 2a. Pen...  18.829100 -73.015000   \n",
       "25    1b. Urgence medicale | Medical Emergency, 2. U...  18.650000 -74.116667   \n",
       "26    2. Urgences logistiques | Vital Lines, 2b. Pen...  18.558600 -72.321800   \n",
       "27    2. Urgences logistiques | Vital Lines, 2d. Ref...  18.602720 -72.270760   \n",
       "28    2. Urgences logistiques | Vital Lines, 2f. San...  18.605600 -72.282400   \n",
       "29              2. Urgences logistiques | Vital Lines,   18.554980 -72.318580   \n",
       "30              2. Urgences logistiques | Vital Lines,   19.933400 -72.720900   \n",
       "31                                 6. Natural Hazards,   19.940630 -72.839700   \n",
       "32              2. Urgences logistiques | Vital Lines,   18.593300 -72.265400   \n",
       "...                                                 ...        ...        ...   \n",
       "3563                                 8. Autre | Other,   18.190359 -73.748291   \n",
       "3564        8e. Nouvelles de Personnes | Persons News,   18.539269 -72.336408   \n",
       "3565  1. Urgences | Emergency, 5a. Structure effondr...  18.539167 -72.335000   \n",
       "3566  1. Urgences | Emergency, 5a. Structure effondr...  18.539167 -72.335000   \n",
       "3567        8e. Nouvelles de Personnes | Persons News,   18.530591 -72.327731   \n",
       "3568        8e. Nouvelles de Personnes | Persons News,   18.583333 -72.266667   \n",
       "3569   1c. Personnes prises au piege | People trapped,   18.535200 -72.332954   \n",
       "3570                                 8. Autre | Other,   18.539167 -72.335000   \n",
       "3571  8. Autre | Other, 6c. Seisme et repliques | Ea...  18.508912 -72.325058   \n",
       "3572  6c. Seisme et repliques | Earthquake and after...  18.479609 -72.312012   \n",
       "3573  5a. Structure effondres | Collapsed structure,...  18.543012 -72.338490   \n",
       "3574  5a. Structure effondres | Collapsed structure,...  18.518516 -72.300510   \n",
       "3575    5a. Structure effondres | Collapsed structure,   18.234167 -72.534722   \n",
       "3576  5b. Structures a risque | Unstable Structure, ...  18.575394 -72.294710   \n",
       "3577  7d. Services de sante | Hospital/Clinics Opera...  18.533328 -72.316604   \n",
       "3578  7d. Services de sante | Hospital/Clinics Opera...  18.537641 -72.340894   \n",
       "3579  7d. Services de sante | Hospital/Clinics Opera...  18.539675 -72.340336   \n",
       "3580  6c. Seisme et repliques | Earthquake and after...  18.465589 -72.412499   \n",
       "3581  5a. Structure effondres | Collapsed structure,...  18.519330 -72.301626   \n",
       "3582  7d. Services de sante | Hospital/Clinics Opera...  18.553183 -72.335100   \n",
       "3583  5a. Structure effondres | Collapsed structure,...  18.539167 -72.335000   \n",
       "3584  5a. Structure effondres | Collapsed structure,...  18.529556 -72.337876   \n",
       "3585  6c. Seisme et repliques | Earthquake and after...  18.484819 -72.336731   \n",
       "3586  1. Urgences | Emergency, 5a. Structure effondr...  18.539269 -72.336408   \n",
       "3587                          1. Urgences | Emergency,   18.539269 -72.336408   \n",
       "3588                  5c. Route barree | Road blocked,   18.539167 -72.335000   \n",
       "3589  5a. Structure effondres | Collapsed structure,...  18.539269 -72.336408   \n",
       "3590    5a. Structure effondres | Collapsed structure,   18.538328 -72.333067   \n",
       "3591     5b. Structures a risque | Unstable Structure,   18.579721 -72.292778   \n",
       "3592    5a. Structure effondres | Collapsed structure,   18.543376 -72.338883   \n",
       "\n",
       "     APPROVED VERIFIED     ...       category_3  category_2f  category_5b  \\\n",
       "0         YES       NO     ...              1.0          0.0          0.0   \n",
       "4         YES       NO     ...              0.0          0.0          0.0   \n",
       "5         YES       NO     ...              0.0          0.0          0.0   \n",
       "6         YES       NO     ...              0.0          0.0          0.0   \n",
       "7         YES       NO     ...              0.0          0.0          0.0   \n",
       "8         YES       NO     ...              0.0          1.0          0.0   \n",
       "9         YES       NO     ...              0.0          0.0          0.0   \n",
       "10        YES       NO     ...              0.0          0.0          0.0   \n",
       "11        YES       NO     ...              0.0          0.0          0.0   \n",
       "12        YES       NO     ...              0.0          0.0          0.0   \n",
       "13        YES       NO     ...              0.0          0.0          0.0   \n",
       "14        YES       NO     ...              1.0          0.0          0.0   \n",
       "15        YES       NO     ...              0.0          0.0          0.0   \n",
       "16        YES       NO     ...              0.0          0.0          0.0   \n",
       "17        YES       NO     ...              1.0          0.0          0.0   \n",
       "18        YES       NO     ...              0.0          0.0          0.0   \n",
       "19        YES       NO     ...              0.0          0.0          0.0   \n",
       "20        YES       NO     ...              0.0          0.0          0.0   \n",
       "21        YES       NO     ...              0.0          0.0          0.0   \n",
       "22        YES       NO     ...              0.0          0.0          0.0   \n",
       "23        YES       NO     ...              0.0          0.0          0.0   \n",
       "24        YES       NO     ...              0.0          0.0          0.0   \n",
       "25        YES       NO     ...              0.0          0.0          0.0   \n",
       "26        YES       NO     ...              0.0          0.0          0.0   \n",
       "27        YES       NO     ...              0.0          0.0          0.0   \n",
       "28        YES       NO     ...              0.0          1.0          0.0   \n",
       "29        YES       NO     ...              0.0          0.0          0.0   \n",
       "30        YES       NO     ...              0.0          0.0          0.0   \n",
       "31        YES       NO     ...              0.0          0.0          0.0   \n",
       "32        YES       NO     ...              0.0          0.0          0.0   \n",
       "...       ...      ...     ...              ...          ...          ...   \n",
       "3563      YES      YES     ...              0.0          0.0          0.0   \n",
       "3564      YES       NO     ...              0.0          0.0          0.0   \n",
       "3565      YES       NO     ...              0.0          0.0          0.0   \n",
       "3566      YES       NO     ...              0.0          0.0          0.0   \n",
       "3567      YES       NO     ...              0.0          0.0          0.0   \n",
       "3568      YES       NO     ...              0.0          0.0          0.0   \n",
       "3569      YES       NO     ...              0.0          0.0          0.0   \n",
       "3570      YES       NO     ...              0.0          0.0          0.0   \n",
       "3571      YES       NO     ...              0.0          0.0          0.0   \n",
       "3572      YES       NO     ...              0.0          0.0          0.0   \n",
       "3573      YES       NO     ...              0.0          0.0          1.0   \n",
       "3574      YES       NO     ...              0.0          0.0          0.0   \n",
       "3575      YES       NO     ...              0.0          0.0          0.0   \n",
       "3576      YES       NO     ...              0.0          0.0          1.0   \n",
       "3577      YES      YES     ...              0.0          0.0          0.0   \n",
       "3578      YES       NO     ...              0.0          0.0          0.0   \n",
       "3579      YES      YES     ...              0.0          0.0          0.0   \n",
       "3580      YES       NO     ...              0.0          0.0          0.0   \n",
       "3581      YES       NO     ...              0.0          0.0          0.0   \n",
       "3582      YES       NO     ...              0.0          0.0          0.0   \n",
       "3583      YES       NO     ...              0.0          0.0          0.0   \n",
       "3584      YES      YES     ...              0.0          0.0          0.0   \n",
       "3585      YES       NO     ...              0.0          0.0          0.0   \n",
       "3586      YES       NO     ...              0.0          0.0          0.0   \n",
       "3587      YES       NO     ...              0.0          0.0          0.0   \n",
       "3588      YES       NO     ...              0.0          0.0          0.0   \n",
       "3589      YES       NO     ...              0.0          0.0          0.0   \n",
       "3590      YES       NO     ...              0.0          0.0          0.0   \n",
       "3591      YES       NO     ...              0.0          0.0          1.0   \n",
       "3592      YES      YES     ...              0.0          0.0          0.0   \n",
       "\n",
       "      category_2b  category_7d  category_4a  category_2e  category_2d  \\\n",
       "0             0.0          0.0          0.0          0.0          0.0   \n",
       "4             0.0          0.0          0.0          0.0          0.0   \n",
       "5             0.0          0.0          0.0          0.0          0.0   \n",
       "6             0.0          0.0          0.0          0.0          0.0   \n",
       "7             0.0          0.0          0.0          0.0          0.0   \n",
       "8             0.0          0.0          0.0          0.0          0.0   \n",
       "9             0.0          0.0          0.0          0.0          1.0   \n",
       "10            0.0          0.0          0.0          0.0          1.0   \n",
       "11            0.0          0.0          0.0          0.0          0.0   \n",
       "12            0.0          0.0          0.0          0.0          1.0   \n",
       "13            1.0          0.0          0.0          0.0          0.0   \n",
       "14            0.0          0.0          0.0          0.0          0.0   \n",
       "15            0.0          0.0          0.0          0.0          0.0   \n",
       "16            0.0          0.0          0.0          0.0          0.0   \n",
       "17            0.0          0.0          0.0          0.0          0.0   \n",
       "18            1.0          0.0          0.0          0.0          0.0   \n",
       "19            0.0          0.0          0.0          0.0          0.0   \n",
       "20            0.0          0.0          0.0          0.0          0.0   \n",
       "21            0.0          0.0          0.0          0.0          1.0   \n",
       "22            0.0          0.0          0.0          0.0          1.0   \n",
       "23            0.0          0.0          0.0          0.0          1.0   \n",
       "24            0.0          0.0          0.0          0.0          0.0   \n",
       "25            1.0          1.0          0.0          0.0          0.0   \n",
       "26            1.0          0.0          0.0          0.0          0.0   \n",
       "27            0.0          0.0          0.0          0.0          1.0   \n",
       "28            0.0          0.0          0.0          0.0          0.0   \n",
       "29            0.0          0.0          0.0          0.0          0.0   \n",
       "30            0.0          0.0          0.0          0.0          0.0   \n",
       "31            0.0          0.0          0.0          0.0          0.0   \n",
       "32            0.0          0.0          0.0          0.0          0.0   \n",
       "...           ...          ...          ...          ...          ...   \n",
       "3563          0.0          0.0          0.0          0.0          0.0   \n",
       "3564          0.0          0.0          0.0          0.0          0.0   \n",
       "3565          0.0          0.0          0.0          0.0          0.0   \n",
       "3566          0.0          0.0          0.0          0.0          0.0   \n",
       "3567          0.0          0.0          0.0          0.0          0.0   \n",
       "3568          0.0          0.0          0.0          0.0          0.0   \n",
       "3569          0.0          0.0          0.0          0.0          0.0   \n",
       "3570          0.0          0.0          0.0          0.0          0.0   \n",
       "3571          0.0          0.0          0.0          0.0          0.0   \n",
       "3572          0.0          0.0          0.0          0.0          0.0   \n",
       "3573          0.0          0.0          0.0          0.0          0.0   \n",
       "3574          0.0          0.0          0.0          0.0          0.0   \n",
       "3575          0.0          0.0          0.0          0.0          0.0   \n",
       "3576          0.0          0.0          0.0          0.0          0.0   \n",
       "3577          0.0          1.0          0.0          0.0          0.0   \n",
       "3578          0.0          1.0          0.0          0.0          0.0   \n",
       "3579          0.0          1.0          0.0          0.0          0.0   \n",
       "3580          0.0          0.0          0.0          0.0          0.0   \n",
       "3581          0.0          0.0          0.0          0.0          0.0   \n",
       "3582          0.0          1.0          0.0          0.0          0.0   \n",
       "3583          0.0          0.0          0.0          0.0          0.0   \n",
       "3584          0.0          0.0          0.0          0.0          0.0   \n",
       "3585          0.0          0.0          0.0          0.0          0.0   \n",
       "3586          0.0          0.0          0.0          0.0          0.0   \n",
       "3587          0.0          0.0          0.0          0.0          0.0   \n",
       "3588          0.0          0.0          0.0          0.0          0.0   \n",
       "3589          0.0          0.0          0.0          0.0          0.0   \n",
       "3590          0.0          0.0          0.0          0.0          0.0   \n",
       "3591          0.0          0.0          0.0          0.0          0.0   \n",
       "3592          0.0          0.0          0.0          0.0          0.0   \n",
       "\n",
       "      category_5  category_2a  \n",
       "0            0.0          0.0  \n",
       "4            0.0          0.0  \n",
       "5            0.0          0.0  \n",
       "6            0.0          0.0  \n",
       "7            0.0          0.0  \n",
       "8            0.0          0.0  \n",
       "9            0.0          1.0  \n",
       "10           0.0          1.0  \n",
       "11           0.0          0.0  \n",
       "12           0.0          1.0  \n",
       "13           0.0          1.0  \n",
       "14           0.0          0.0  \n",
       "15           0.0          0.0  \n",
       "16           0.0          0.0  \n",
       "17           0.0          0.0  \n",
       "18           0.0          0.0  \n",
       "19           0.0          0.0  \n",
       "20           0.0          1.0  \n",
       "21           0.0          0.0  \n",
       "22           0.0          0.0  \n",
       "23           0.0          1.0  \n",
       "24           0.0          1.0  \n",
       "25           0.0          1.0  \n",
       "26           0.0          0.0  \n",
       "27           0.0          0.0  \n",
       "28           0.0          0.0  \n",
       "29           0.0          0.0  \n",
       "30           0.0          0.0  \n",
       "31           0.0          0.0  \n",
       "32           0.0          0.0  \n",
       "...          ...          ...  \n",
       "3563         0.0          0.0  \n",
       "3564         0.0          0.0  \n",
       "3565         0.0          0.0  \n",
       "3566         0.0          0.0  \n",
       "3567         0.0          0.0  \n",
       "3568         0.0          0.0  \n",
       "3569         0.0          0.0  \n",
       "3570         0.0          0.0  \n",
       "3571         0.0          0.0  \n",
       "3572         0.0          0.0  \n",
       "3573         0.0          0.0  \n",
       "3574         0.0          0.0  \n",
       "3575         0.0          0.0  \n",
       "3576         0.0          0.0  \n",
       "3577         0.0          0.0  \n",
       "3578         0.0          0.0  \n",
       "3579         0.0          0.0  \n",
       "3580         0.0          0.0  \n",
       "3581         0.0          0.0  \n",
       "3582         0.0          0.0  \n",
       "3583         0.0          0.0  \n",
       "3584         0.0          0.0  \n",
       "3585         0.0          0.0  \n",
       "3586         0.0          0.0  \n",
       "3587         0.0          0.0  \n",
       "3588         0.0          0.0  \n",
       "3589         0.0          0.0  \n",
       "3590         0.0          0.0  \n",
       "3591         0.0          0.0  \n",
       "3592         0.0          0.0  \n",
       "\n",
       "[3569 rows x 55 columns]"
      ]
     },
     "execution_count": 30,
     "metadata": {},
     "output_type": "execute_result"
    }
   ],
   "source": [
    "data.join(dummy_df.add_prefix('category_'))"
   ]
  },
  {
   "cell_type": "code",
   "execution_count": 31,
   "metadata": {
    "collapsed": false
   },
   "outputs": [
    {
     "name": "stderr",
     "output_type": "stream",
     "text": [
      "/home/zhanghui/py35/lib/python3.5/site-packages/ipykernel_launcher.py:1: DeprecationWarning: \n",
      ".ix is deprecated. Please use\n",
      ".loc for label based indexing or\n",
      ".iloc for positional indexing\n",
      "\n",
      "See the documentation here:\n",
      "http://pandas.pydata.org/pandas-docs/stable/indexing.html#deprecate_ix\n",
      "  \"\"\"Entry point for launching an IPython kernel.\n"
     ]
    },
    {
     "data": {
      "text/html": [
       "<div>\n",
       "<style>\n",
       "    .dataframe thead tr:only-child th {\n",
       "        text-align: right;\n",
       "    }\n",
       "\n",
       "    .dataframe thead th {\n",
       "        text-align: left;\n",
       "    }\n",
       "\n",
       "    .dataframe tbody tr th {\n",
       "        vertical-align: top;\n",
       "    }\n",
       "</style>\n",
       "<table border=\"1\" class=\"dataframe\">\n",
       "  <thead>\n",
       "    <tr style=\"text-align: right;\">\n",
       "      <th></th>\n",
       "    </tr>\n",
       "  </thead>\n",
       "  <tbody>\n",
       "    <tr>\n",
       "      <th>0</th>\n",
       "    </tr>\n",
       "    <tr>\n",
       "      <th>4</th>\n",
       "    </tr>\n",
       "    <tr>\n",
       "      <th>5</th>\n",
       "    </tr>\n",
       "    <tr>\n",
       "      <th>6</th>\n",
       "    </tr>\n",
       "    <tr>\n",
       "      <th>7</th>\n",
       "    </tr>\n",
       "  </tbody>\n",
       "</table>\n",
       "</div>"
      ],
      "text/plain": [
       "Empty DataFrame\n",
       "Columns: []\n",
       "Index: [0, 4, 5, 6, 7]"
      ]
     },
     "execution_count": 31,
     "metadata": {},
     "output_type": "execute_result"
    }
   ],
   "source": [
    "data.ix[:,10:15].head()"
   ]
  },
  {
   "cell_type": "code",
   "execution_count": 41,
   "metadata": {
    "collapsed": true
   },
   "outputs": [],
   "source": [
    "from mpl_toolkits.basemap import Basemap"
   ]
  },
  {
   "cell_type": "code",
   "execution_count": 43,
   "metadata": {
    "collapsed": true
   },
   "outputs": [],
   "source": [
    "import matplotlib.pyplot as plt"
   ]
  },
  {
   "cell_type": "code",
   "execution_count": null,
   "metadata": {
    "collapsed": true
   },
   "outputs": [],
   "source": [
    "def basic_haiti_map(ax = None , )"
   ]
  },
  {
   "cell_type": "code",
   "execution_count": null,
   "metadata": {
    "collapsed": true
   },
   "outputs": [],
   "source": []
  },
  {
   "cell_type": "code",
   "execution_count": null,
   "metadata": {
    "collapsed": true
   },
   "outputs": [],
   "source": []
  },
  {
   "cell_type": "code",
   "execution_count": null,
   "metadata": {
    "collapsed": true
   },
   "outputs": [],
   "source": []
  }
 ],
 "metadata": {
  "anaconda-cloud": {},
  "kernelspec": {
   "display_name": "Python [default]",
   "language": "python",
   "name": "python3"
  },
  "language_info": {
   "codemirror_mode": {
    "name": "ipython",
    "version": 3
   },
   "file_extension": ".py",
   "mimetype": "text/x-python",
   "name": "python",
   "nbconvert_exporter": "python",
   "pygments_lexer": "ipython3",
   "version": "3.5.2"
  }
 },
 "nbformat": 4,
 "nbformat_minor": 2
}
